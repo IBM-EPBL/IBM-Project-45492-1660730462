{
 "cells": [
  {
   "cell_type": "code",
   "execution_count": 1,
   "id": "54a607ce",
   "metadata": {},
   "outputs": [],
   "source": [
    "import numpy as np\n",
    "import pandas as pd\n",
    "import seaborn as sns\n",
    "import matplotlib.pyplot as plt\n",
    "import sklearn"
   ]
  },
  {
   "cell_type": "code",
   "execution_count": null,
   "id": "f2eb7607",
   "metadata": {},
   "outputs": [],
   "source": []
  },
  {
   "cell_type": "code",
   "execution_count": 2,
   "id": "06cbfc85",
   "metadata": {},
   "outputs": [],
   "source": [
    "data = pd.read_csv(r\"C:\\Users\\ADMIN\\Assignment-4\\Mall_Customers.csv\")"
   ]
  },
  {
   "cell_type": "code",
   "execution_count": null,
   "id": "b6adde84",
   "metadata": {},
   "outputs": [],
   "source": []
  },
  {
   "cell_type": "markdown",
   "id": "7b5d0adf",
   "metadata": {},
   "source": [
    "# Data Visualisation"
   ]
  },
  {
   "cell_type": "markdown",
   "id": "74995f88",
   "metadata": {},
   "source": [
    "# 1.Univariate Analysis"
   ]
  },
  {
   "cell_type": "code",
   "execution_count": 13,
   "id": "8f9a7b1d",
   "metadata": {
    "scrolled": true
   },
   "outputs": [
    {
     "data": {
      "text/plain": [
       "<seaborn.axisgrid.FacetGrid at 0x2244a989610>"
      ]
     },
     "execution_count": 13,
     "metadata": {},
     "output_type": "execute_result"
    },
    {
     "data": {
      "image/png": "[encoded data removed]",
      "text/plain": [
       "<Figure size 360x360 with 1 Axes>"
      ]
     },
     "metadata": {
      "needs_background": "light"
     },
     "output_type": "display_data"
    }
   ],
   "source": [
    "sns.displot(data['Age'])"
   ]
  },
  {
   "cell_type": "code",
   "execution_count": 15,
   "id": "d01671e8",
   "metadata": {},
   "outputs": [
    {
     "data": {
      "text/plain": [
       "<AxesSubplot:xlabel='Age', ylabel='Count'>"
      ]
     },
     "execution_count": 15,
     "metadata": {},
     "output_type": "execute_result"
    },
    {
     "data": {
      "image/png": "[encoded data removed]",
      "text/plain": [
       "<Figure size 432x288 with 1 Axes>"
      ]
     },
     "metadata": {
      "needs_background": "light"
     },
     "output_type": "display_data"
    }
   ],
   "source": [
    "sns.histplot(data['Age'])"
   ]
  },
  {
   "cell_type": "code",
   "execution_count": 23,
   "id": "a732aa01",
   "metadata": {},
   "outputs": [
    {
     "name": "stderr",
     "output_type": "stream",
     "text": [
      "C:\\Users\\ADMIN\\anaconda3\\lib\\site-packages\\seaborn\\_decorators.py:36: FutureWarning: Pass the following variable as a keyword arg: x. From version 0.12, the only valid positional argument will be `data`, and passing other arguments without an explicit keyword will result in an error or misinterpretation.\n",
      "  warnings.warn(\n"
     ]
    },
    {
     "data": {
      "text/plain": [
       "<AxesSubplot:xlabel='Annual Income (k$)'>"
      ]
     },
     "execution_count": 23,
     "metadata": {},
     "output_type": "execute_result"
    },
    {
     "data": {
      "image/png": "[encoded data removed]",
      "text/plain": [
       "<Figure size 432x288 with 1 Axes>"
      ]
     },
     "metadata": {
      "needs_background": "light"
     },
     "output_type": "display_data"
    }
   ],
   "source": [
    "sns.boxplot(data['Annual Income (k$)'])"
   ]
  },
  {
   "cell_type": "code",
   "execution_count": 25,
   "id": "c10155be",
   "metadata": {},
   "outputs": [
    {
     "data": {
      "text/html": [
       "<div>\n",
       "<style scoped>\n",
       "    .dataframe tbody tr th:only-of-type {\n",
       "        vertical-align: middle;\n",
       "    }\n",
       "\n",
       "    .dataframe tbody tr th {\n",
       "        vertical-align: top;\n",
       "    }\n",
       "\n",
       "    .dataframe thead th {\n",
       "        text-align: right;\n",
       "    }\n",
       "</style>\n",
       "<table border=\"1\" class=\"dataframe\">\n",
       "  <thead>\n",
       "    <tr style=\"text-align: right;\">\n",
       "      <th></th>\n",
       "      <th>CustomerID</th>\n",
       "      <th>Gender</th>\n",
       "      <th>Age</th>\n",
       "      <th>Annual Income (k$)</th>\n",
       "      <th>Spending Score (1-100)</th>\n",
       "    </tr>\n",
       "  </thead>\n",
       "  <tbody>\n",
       "    <tr>\n",
       "      <th>0</th>\n",
       "      <td>1</td>\n",
       "      <td>Male</td>\n",
       "      <td>19</td>\n",
       "      <td>15</td>\n",
       "      <td>39</td>\n",
       "    </tr>\n",
       "    <tr>\n",
       "      <th>1</th>\n",
       "      <td>2</td>\n",
       "      <td>Male</td>\n",
       "      <td>21</td>\n",
       "      <td>15</td>\n",
       "      <td>81</td>\n",
       "    </tr>\n",
       "    <tr>\n",
       "      <th>2</th>\n",
       "      <td>3</td>\n",
       "      <td>Female</td>\n",
       "      <td>20</td>\n",
       "      <td>16</td>\n",
       "      <td>6</td>\n",
       "    </tr>\n",
       "    <tr>\n",
       "      <th>3</th>\n",
       "      <td>4</td>\n",
       "      <td>Female</td>\n",
       "      <td>23</td>\n",
       "      <td>16</td>\n",
       "      <td>77</td>\n",
       "    </tr>\n",
       "    <tr>\n",
       "      <th>4</th>\n",
       "      <td>5</td>\n",
       "      <td>Female</td>\n",
       "      <td>31</td>\n",
       "      <td>17</td>\n",
       "      <td>40</td>\n",
       "    </tr>\n",
       "    <tr>\n",
       "      <th>...</th>\n",
       "      <td>...</td>\n",
       "      <td>...</td>\n",
       "      <td>...</td>\n",
       "      <td>...</td>\n",
       "      <td>...</td>\n",
       "    </tr>\n",
       "    <tr>\n",
       "      <th>195</th>\n",
       "      <td>196</td>\n",
       "      <td>Female</td>\n",
       "      <td>35</td>\n",
       "      <td>120</td>\n",
       "      <td>79</td>\n",
       "    </tr>\n",
       "    <tr>\n",
       "      <th>196</th>\n",
       "      <td>197</td>\n",
       "      <td>Female</td>\n",
       "      <td>45</td>\n",
       "      <td>126</td>\n",
       "      <td>28</td>\n",
       "    </tr>\n",
       "    <tr>\n",
       "      <th>197</th>\n",
       "      <td>198</td>\n",
       "      <td>Male</td>\n",
       "      <td>32</td>\n",
       "      <td>126</td>\n",
       "      <td>74</td>\n",
       "    </tr>\n",
       "    <tr>\n",
       "      <th>198</th>\n",
       "      <td>199</td>\n",
       "      <td>Male</td>\n",
       "      <td>32</td>\n",
       "      <td>137</td>\n",
       "      <td>18</td>\n",
       "    </tr>\n",
       "    <tr>\n",
       "      <th>199</th>\n",
       "      <td>200</td>\n",
       "      <td>Male</td>\n",
       "      <td>30</td>\n",
       "      <td>137</td>\n",
       "      <td>83</td>\n",
       "    </tr>\n",
       "  </tbody>\n",
       "</table>\n",
       "<p>200 rows × 5 columns</p>\n",
       "</div>"
      ],
      "text/plain": [
       "     CustomerID  Gender  Age  Annual Income (k$)  Spending Score (1-100)\n",
       "0             1    Male   19                  15                      39\n",
       "1             2    Male   21                  15                      81\n",
       "2             3  Female   20                  16                       6\n",
       "3             4  Female   23                  16                      77\n",
       "4             5  Female   31                  17                      40\n",
       "..          ...     ...  ...                 ...                     ...\n",
       "195         196  Female   35                 120                      79\n",
       "196         197  Female   45                 126                      28\n",
       "197         198    Male   32                 126                      74\n",
       "198         199    Male   32                 137                      18\n",
       "199         200    Male   30                 137                      83\n",
       "\n",
       "[200 rows x 5 columns]"
      ]
     },
     "execution_count": 25,
     "metadata": {},
     "output_type": "execute_result"
    }
   ],
   "source": [
    "data"
   ]
  },
  {
   "cell_type": "markdown",
   "id": "d49aeb21",
   "metadata": {},
   "source": [
    "# Bivariate Analaysis"
   ]
  },
  {
   "cell_type": "code",
   "execution_count": 24,
   "id": "22b8dbbe",
   "metadata": {},
   "outputs": [
    {
     "name": "stderr",
     "output_type": "stream",
     "text": [
      "C:\\Users\\ADMIN\\anaconda3\\lib\\site-packages\\seaborn\\_decorators.py:36: FutureWarning: Pass the following variables as keyword args: x, y. From version 0.12, the only valid positional argument will be `data`, and passing other arguments without an explicit keyword will result in an error or misinterpretation.\n",
      "  warnings.warn(\n"
     ]
    },
    {
     "data": {
      "text/plain": [
       "<AxesSubplot:xlabel='Annual Income (k$)', ylabel='Age'>"
      ]
     },
     "execution_count": 24,
     "metadata": {},
     "output_type": "execute_result"
    },
    {
     "data": {
      "image/png": "[encoded data removed]",
      "text/plain": [
       "<Figure size 432x288 with 1 Axes>"
      ]
     },
     "metadata": {
      "needs_background": "light"
     },
     "output_type": "display_data"
    }
   ],
   "source": [
    "sns.lineplot(data['Annual Income (k$)'], data['Age'])"
   ]
  },
  {
   "cell_type": "code",
   "execution_count": 26,
   "id": "b218ecd7",
   "metadata": {},
   "outputs": [
    {
     "name": "stderr",
     "output_type": "stream",
     "text": [
      "C:\\Users\\ADMIN\\anaconda3\\lib\\site-packages\\seaborn\\_decorators.py:36: FutureWarning: Pass the following variables as keyword args: x, y. From version 0.12, the only valid positional argument will be `data`, and passing other arguments without an explicit keyword will result in an error or misinterpretation.\n",
      "  warnings.warn(\n"
     ]
    },
    {
     "data": {
      "text/plain": [
       "<AxesSubplot:xlabel='Age', ylabel='Spending Score (1-100)'>"
      ]
     },
     "execution_count": 26,
     "metadata": {},
     "output_type": "execute_result"
    },
    {
     "data": {
      "image/png": "[encoded data removed]",
      "text/plain": [
       "<Figure size 432x288 with 1 Axes>"
      ]
     },
     "metadata": {
      "needs_background": "light"
     },
     "output_type": "display_data"
    }
   ],
   "source": [
    "sns.barplot(data['Age'], data['Spending Score (1-100)'])"
   ]
  },
  {
   "cell_type": "code",
   "execution_count": 27,
   "id": "95d2eea1",
   "metadata": {},
   "outputs": [
    {
     "name": "stderr",
     "output_type": "stream",
     "text": [
      "C:\\Users\\ADMIN\\anaconda3\\lib\\site-packages\\seaborn\\_decorators.py:36: FutureWarning: Pass the following variables as keyword args: x, y. From version 0.12, the only valid positional argument will be `data`, and passing other arguments without an explicit keyword will result in an error or misinterpretation.\n",
      "  warnings.warn(\n"
     ]
    },
    {
     "data": {
      "text/plain": [
       "<AxesSubplot:xlabel='Spending Score (1-100)', ylabel='Age'>"
      ]
     },
     "execution_count": 27,
     "metadata": {},
     "output_type": "execute_result"
    },
    {
     "data": {
      "image/png": "[encoded data removed]",
      "text/plain": [
       "<Figure size 3240x3600 with 1 Axes>"
      ]
     },
     "metadata": {
      "needs_background": "light"
     },
     "output_type": "display_data"
    }
   ],
   "source": [
    "plt.figure(figsize=(45,50))\n",
    "sns.barplot(data['Spending Score (1-100)'], data['Age'])"
   ]
  },
  {
   "cell_type": "markdown",
   "id": "8075d4b0",
   "metadata": {},
   "source": [
    "# Multi variate analysis"
   ]
  },
  {
   "cell_type": "code",
   "execution_count": 28,
   "id": "2243ef62",
   "metadata": {},
   "outputs": [
    {
     "name": "stderr",
     "output_type": "stream",
     "text": [
      "C:\\Users\\ADMIN\\anaconda3\\lib\\site-packages\\seaborn\\_decorators.py:36: FutureWarning: Pass the following variables as keyword args: x, y. From version 0.12, the only valid positional argument will be `data`, and passing other arguments without an explicit keyword will result in an error or misinterpretation.\n",
      "  warnings.warn(\n"
     ]
    },
    {
     "data": {
      "text/plain": [
       "<AxesSubplot:xlabel='Spending Score (1-100)', ylabel='Age'>"
      ]
     },
     "execution_count": 28,
     "metadata": {},
     "output_type": "execute_result"
    },
    {
     "data": {
      "image/png": "[encoded data removed]",
      "text/plain": [
       "<Figure size 432x288 with 1 Axes>"
      ]
     },
     "metadata": {
      "needs_background": "light"
     },
     "output_type": "display_data"
    }
   ],
   "source": [
    "sns.scatterplot(data['Spending Score (1-100)'], data['Age'], hue = data['Annual Income (k$)'])"
   ]
  },
  {
   "cell_type": "code",
   "execution_count": 12,
   "id": "48a22bdd",
   "metadata": {
    "scrolled": true
   },
   "outputs": [
    {
     "name": "stderr",
     "output_type": "stream",
     "text": [
      "C:\\Users\\ADMIN\\anaconda3\\lib\\site-packages\\seaborn\\_decorators.py:36: FutureWarning: Pass the following variables as keyword args: x, y. From version 0.12, the only valid positional argument will be `data`, and passing other arguments without an explicit keyword will result in an error or misinterpretation.\n",
      "  warnings.warn(\n"
     ]
    },
    {
     "data": {
      "text/plain": [
       "<AxesSubplot:xlabel='Shucked weight', ylabel='Diameter'>"
      ]
     },
     "execution_count": 12,
     "metadata": {},
     "output_type": "execute_result"
    },
    {
     "data": {
      "image/png": "[encoded data removed]",
      "text/plain": [
       "<Figure size 432x288 with 1 Axes>"
      ]
     },
     "metadata": {
      "needs_background": "light"
     },
     "output_type": "display_data"
    }
   ],
   "source": [
    "sns.scatterplot(data['Shucked weight'], data['Diameter'], hue = data['Length'])"
   ]
  },
  {
   "cell_type": "code",
   "execution_count": 29,
   "id": "af95d2e2",
   "metadata": {
    "scrolled": true
   },
   "outputs": [
    {
     "data": {
      "text/plain": [
       "<seaborn.axisgrid.PairGrid at 0x2244b052160>"
      ]
     },
     "execution_count": 29,
     "metadata": {},
     "output_type": "execute_result"
    },
    {
     "data": {
      "image/png": "[encoded data removed]",
      "text/plain": [
       "<Figure size 720x720 with 20 Axes>"
      ]
     },
     "metadata": {
      "needs_background": "light"
     },
     "output_type": "display_data"
    }
   ],
   "source": [
    "sns.pairplot(data)"
   ]
  },
  {
   "cell_type": "markdown",
   "id": "9ac7d108",
   "metadata": {},
   "source": [
    "# descriptive Statistics "
   ]
  },
  {
   "cell_type": "code",
   "execution_count": 30,
   "id": "77adc846",
   "metadata": {
    "scrolled": true
   },
   "outputs": [
    {
     "data": {
      "text/plain": [
       "CustomerID                100.50\n",
       "Age                        38.85\n",
       "Annual Income (k$)         60.56\n",
       "Spending Score (1-100)     50.20\n",
       "dtype: float64"
      ]
     },
     "execution_count": 30,
     "metadata": {},
     "output_type": "execute_result"
    }
   ],
   "source": [
    "data.mean(numeric_only = True)"
   ]
  },
  {
   "cell_type": "code",
   "execution_count": 31,
   "id": "f157154f",
   "metadata": {},
   "outputs": [
    {
     "data": {
      "text/plain": [
       "CustomerID                100.5\n",
       "Age                        36.0\n",
       "Annual Income (k$)         61.5\n",
       "Spending Score (1-100)     50.0\n",
       "dtype: float64"
      ]
     },
     "execution_count": 31,
     "metadata": {},
     "output_type": "execute_result"
    }
   ],
   "source": [
    "data.median(numeric_only = True)"
   ]
  },
  {
   "cell_type": "code",
   "execution_count": 34,
   "id": "dd70afa1",
   "metadata": {},
   "outputs": [
    {
     "data": {
      "text/plain": [
       "0    54\n",
       "1    78\n",
       "Name: Annual Income (k$), dtype: int64"
      ]
     },
     "execution_count": 34,
     "metadata": {},
     "output_type": "execute_result"
    }
   ],
   "source": [
    "data['Annual Income (k$)'].mode()"
   ]
  },
  {
   "cell_type": "code",
   "execution_count": 35,
   "id": "b139ce6f",
   "metadata": {},
   "outputs": [
    {
     "data": {
      "text/plain": [
       "array([39, 81,  6, 77, 40, 76, 94,  3, 72, 14, 99, 15, 13, 79, 35, 66, 29,\n",
       "       98, 73,  5, 82, 32, 61, 31, 87,  4, 92, 17, 26, 75, 36, 28, 65, 55,\n",
       "       47, 42, 52, 60, 54, 45, 41, 50, 46, 51, 56, 59, 48, 49, 53, 44, 57,\n",
       "       58, 43, 91, 95, 11,  9, 34, 71, 88,  7, 10, 93, 12, 97, 74, 22, 90,\n",
       "       20, 16, 89,  1, 78, 83, 27, 63, 86, 69, 24, 68, 85, 23,  8, 18],\n",
       "      dtype=int64)"
      ]
     },
     "execution_count": 35,
     "metadata": {},
     "output_type": "execute_result"
    }
   ],
   "source": [
    "data['Spending Score (1-100)'].unique()"
   ]
  },
  {
   "cell_type": "code",
   "execution_count": 36,
   "id": "02846b07",
   "metadata": {},
   "outputs": [
    {
     "data": {
      "text/plain": [
       "CustomerID                57.879185\n",
       "Age                       13.969007\n",
       "Annual Income (k$)        26.264721\n",
       "Spending Score (1-100)    25.823522\n",
       "dtype: float64"
      ]
     },
     "execution_count": 36,
     "metadata": {},
     "output_type": "execute_result"
    }
   ],
   "source": [
    "data.std(numeric_only=True)"
   ]
  },
  {
   "cell_type": "code",
   "execution_count": 37,
   "id": "388959f5",
   "metadata": {},
   "outputs": [
    {
     "data": {
      "text/html": [
       "<div>\n",
       "<style scoped>\n",
       "    .dataframe tbody tr th:only-of-type {\n",
       "        vertical-align: middle;\n",
       "    }\n",
       "\n",
       "    .dataframe tbody tr th {\n",
       "        vertical-align: top;\n",
       "    }\n",
       "\n",
       "    .dataframe thead th {\n",
       "        text-align: right;\n",
       "    }\n",
       "</style>\n",
       "<table border=\"1\" class=\"dataframe\">\n",
       "  <thead>\n",
       "    <tr style=\"text-align: right;\">\n",
       "      <th></th>\n",
       "      <th>CustomerID</th>\n",
       "      <th>Age</th>\n",
       "      <th>Annual Income (k$)</th>\n",
       "      <th>Spending Score (1-100)</th>\n",
       "    </tr>\n",
       "  </thead>\n",
       "  <tbody>\n",
       "    <tr>\n",
       "      <th>count</th>\n",
       "      <td>200.000000</td>\n",
       "      <td>200.000000</td>\n",
       "      <td>200.000000</td>\n",
       "      <td>200.000000</td>\n",
       "    </tr>\n",
       "    <tr>\n",
       "      <th>mean</th>\n",
       "      <td>100.500000</td>\n",
       "      <td>38.850000</td>\n",
       "      <td>60.560000</td>\n",
       "      <td>50.200000</td>\n",
       "    </tr>\n",
       "    <tr>\n",
       "      <th>std</th>\n",
       "      <td>57.879185</td>\n",
       "      <td>13.969007</td>\n",
       "      <td>26.264721</td>\n",
       "      <td>25.823522</td>\n",
       "    </tr>\n",
       "    <tr>\n",
       "      <th>min</th>\n",
       "      <td>1.000000</td>\n",
       "      <td>18.000000</td>\n",
       "      <td>15.000000</td>\n",
       "      <td>1.000000</td>\n",
       "    </tr>\n",
       "    <tr>\n",
       "      <th>25%</th>\n",
       "      <td>50.750000</td>\n",
       "      <td>28.750000</td>\n",
       "      <td>41.500000</td>\n",
       "      <td>34.750000</td>\n",
       "    </tr>\n",
       "    <tr>\n",
       "      <th>50%</th>\n",
       "      <td>100.500000</td>\n",
       "      <td>36.000000</td>\n",
       "      <td>61.500000</td>\n",
       "      <td>50.000000</td>\n",
       "    </tr>\n",
       "    <tr>\n",
       "      <th>75%</th>\n",
       "      <td>150.250000</td>\n",
       "      <td>49.000000</td>\n",
       "      <td>78.000000</td>\n",
       "      <td>73.000000</td>\n",
       "    </tr>\n",
       "    <tr>\n",
       "      <th>max</th>\n",
       "      <td>200.000000</td>\n",
       "      <td>70.000000</td>\n",
       "      <td>137.000000</td>\n",
       "      <td>99.000000</td>\n",
       "    </tr>\n",
       "  </tbody>\n",
       "</table>\n",
       "</div>"
      ],
      "text/plain": [
       "       CustomerID         Age  Annual Income (k$)  Spending Score (1-100)\n",
       "count  200.000000  200.000000          200.000000              200.000000\n",
       "mean   100.500000   38.850000           60.560000               50.200000\n",
       "std     57.879185   13.969007           26.264721               25.823522\n",
       "min      1.000000   18.000000           15.000000                1.000000\n",
       "25%     50.750000   28.750000           41.500000               34.750000\n",
       "50%    100.500000   36.000000           61.500000               50.000000\n",
       "75%    150.250000   49.000000           78.000000               73.000000\n",
       "max    200.000000   70.000000          137.000000               99.000000"
      ]
     },
     "execution_count": 37,
     "metadata": {},
     "output_type": "execute_result"
    }
   ],
   "source": [
    "data.describe()"
   ]
  },
  {
   "cell_type": "code",
   "execution_count": 38,
   "id": "6e6247f4",
   "metadata": {},
   "outputs": [
    {
     "data": {
      "text/plain": [
       "CustomerID                False\n",
       "Gender                    False\n",
       "Age                       False\n",
       "Annual Income (k$)        False\n",
       "Spending Score (1-100)    False\n",
       "dtype: bool"
      ]
     },
     "execution_count": 38,
     "metadata": {},
     "output_type": "execute_result"
    }
   ],
   "source": [
    "data.isnull().any()"
   ]
  },
  {
   "cell_type": "code",
   "execution_count": 39,
   "id": "fdc5a1dc",
   "metadata": {},
   "outputs": [
    {
     "data": {
      "text/plain": [
       "CustomerID                0\n",
       "Gender                    0\n",
       "Age                       0\n",
       "Annual Income (k$)        0\n",
       "Spending Score (1-100)    0\n",
       "dtype: int64"
      ]
     },
     "execution_count": 39,
     "metadata": {},
     "output_type": "execute_result"
    }
   ],
   "source": [
    "data.isnull().sum()\n"
   ]
  },
  {
   "cell_type": "markdown",
   "id": "45e02acb",
   "metadata": {},
   "source": [
    "# Outliers"
   ]
  },
  {
   "cell_type": "code",
   "execution_count": 41,
   "id": "95a8ac15",
   "metadata": {
    "scrolled": false
   },
   "outputs": [
    {
     "name": "stderr",
     "output_type": "stream",
     "text": [
      "C:\\Users\\ADMIN\\anaconda3\\lib\\site-packages\\seaborn\\_decorators.py:36: FutureWarning: Pass the following variable as a keyword arg: x. From version 0.12, the only valid positional argument will be `data`, and passing other arguments without an explicit keyword will result in an error or misinterpretation.\n",
      "  warnings.warn(\n"
     ]
    },
    {
     "data": {
      "text/plain": [
       "<AxesSubplot:xlabel='Annual Income (k$)'>"
      ]
     },
     "execution_count": 41,
     "metadata": {},
     "output_type": "execute_result"
    },
    {
     "data": {
      "image/png": "[encoded data removed]",
      "text/plain": [
       "<Figure size 432x288 with 1 Axes>"
      ]
     },
     "metadata": {
      "needs_background": "light"
     },
     "output_type": "display_data"
    }
   ],
   "source": [
    "sns.boxplot(data['Annual Income (k$)'])"
   ]
  },
  {
   "cell_type": "code",
   "execution_count": 42,
   "id": "a872ba9b",
   "metadata": {},
   "outputs": [],
   "source": [
    "q = data.quantile([0.75,0.25])"
   ]
  },
  {
   "cell_type": "code",
   "execution_count": 43,
   "id": "f7fce862",
   "metadata": {},
   "outputs": [
    {
     "data": {
      "text/html": [
       "<div>\n",
       "<style scoped>\n",
       "    .dataframe tbody tr th:only-of-type {\n",
       "        vertical-align: middle;\n",
       "    }\n",
       "\n",
       "    .dataframe tbody tr th {\n",
       "        vertical-align: top;\n",
       "    }\n",
       "\n",
       "    .dataframe thead th {\n",
       "        text-align: right;\n",
       "    }\n",
       "</style>\n",
       "<table border=\"1\" class=\"dataframe\">\n",
       "  <thead>\n",
       "    <tr style=\"text-align: right;\">\n",
       "      <th></th>\n",
       "      <th>CustomerID</th>\n",
       "      <th>Age</th>\n",
       "      <th>Annual Income (k$)</th>\n",
       "      <th>Spending Score (1-100)</th>\n",
       "    </tr>\n",
       "  </thead>\n",
       "  <tbody>\n",
       "    <tr>\n",
       "      <th>0.75</th>\n",
       "      <td>150.25</td>\n",
       "      <td>49.00</td>\n",
       "      <td>78.0</td>\n",
       "      <td>73.00</td>\n",
       "    </tr>\n",
       "    <tr>\n",
       "      <th>0.25</th>\n",
       "      <td>50.75</td>\n",
       "      <td>28.75</td>\n",
       "      <td>41.5</td>\n",
       "      <td>34.75</td>\n",
       "    </tr>\n",
       "  </tbody>\n",
       "</table>\n",
       "</div>"
      ],
      "text/plain": [
       "      CustomerID    Age  Annual Income (k$)  Spending Score (1-100)\n",
       "0.75      150.25  49.00                78.0                   73.00\n",
       "0.25       50.75  28.75                41.5                   34.75"
      ]
     },
     "execution_count": 43,
     "metadata": {},
     "output_type": "execute_result"
    }
   ],
   "source": [
    "q"
   ]
  },
  {
   "cell_type": "code",
   "execution_count": 44,
   "id": "21b3544b",
   "metadata": {},
   "outputs": [],
   "source": [
    "iqr =  q.iloc[0] - q.iloc[1] "
   ]
  },
  {
   "cell_type": "code",
   "execution_count": 45,
   "id": "9737ee7a",
   "metadata": {},
   "outputs": [
    {
     "data": {
      "text/plain": [
       "CustomerID                99.50\n",
       "Age                       20.25\n",
       "Annual Income (k$)        36.50\n",
       "Spending Score (1-100)    38.25\n",
       "dtype: float64"
      ]
     },
     "execution_count": 45,
     "metadata": {},
     "output_type": "execute_result"
    }
   ],
   "source": [
    "iqr"
   ]
  },
  {
   "cell_type": "code",
   "execution_count": 46,
   "id": "63f1cb27",
   "metadata": {},
   "outputs": [],
   "source": [
    "u = q.iloc[0] + (1.5*iqr)   "
   ]
  },
  {
   "cell_type": "code",
   "execution_count": 47,
   "id": "d3ec8aa5",
   "metadata": {},
   "outputs": [
    {
     "data": {
      "text/plain": [
       "CustomerID                299.500\n",
       "Age                        79.375\n",
       "Annual Income (k$)        132.750\n",
       "Spending Score (1-100)    130.375\n",
       "dtype: float64"
      ]
     },
     "execution_count": 47,
     "metadata": {},
     "output_type": "execute_result"
    }
   ],
   "source": [
    "u"
   ]
  },
  {
   "cell_type": "code",
   "execution_count": 48,
   "id": "0bc7d7f6",
   "metadata": {},
   "outputs": [],
   "source": [
    "l = q.iloc[1] - (1.5*iqr) "
   ]
  },
  {
   "cell_type": "code",
   "execution_count": 49,
   "id": "8209889a",
   "metadata": {},
   "outputs": [
    {
     "data": {
      "text/plain": [
       "CustomerID               -98.500\n",
       "Age                       -1.625\n",
       "Annual Income (k$)       -13.250\n",
       "Spending Score (1-100)   -22.625\n",
       "dtype: float64"
      ]
     },
     "execution_count": 49,
     "metadata": {},
     "output_type": "execute_result"
    }
   ],
   "source": [
    "l"
   ]
  },
  {
   "cell_type": "code",
   "execution_count": 52,
   "id": "b5bd125e",
   "metadata": {},
   "outputs": [],
   "source": [
    "data['Annual Income (k$)'] = np.where(np.logical_or(data['Annual Income (k$)']>132.75,data['Annual Income (k$)']<-13.250), 61.5,data['Annual Income (k$)'])"
   ]
  },
  {
   "cell_type": "code",
   "execution_count": 53,
   "id": "b93fc8f4",
   "metadata": {},
   "outputs": [
    {
     "name": "stderr",
     "output_type": "stream",
     "text": [
      "C:\\Users\\ADMIN\\anaconda3\\lib\\site-packages\\seaborn\\_decorators.py:36: FutureWarning: Pass the following variable as a keyword arg: x. From version 0.12, the only valid positional argument will be `data`, and passing other arguments without an explicit keyword will result in an error or misinterpretation.\n",
      "  warnings.warn(\n"
     ]
    },
    {
     "data": {
      "text/plain": [
       "<AxesSubplot:xlabel='Annual Income (k$)'>"
      ]
     },
     "execution_count": 53,
     "metadata": {},
     "output_type": "execute_result"
    },
    {
     "data": {
      "image/png": "[encoded data removed]",
      "text/plain": [
       "<Figure size 432x288 with 1 Axes>"
      ]
     },
     "metadata": {
      "needs_background": "light"
     },
     "output_type": "display_data"
    }
   ],
   "source": [
    "sns.boxplot(data['Annual Income (k$)'])"
   ]
  },
  {
   "cell_type": "code",
   "execution_count": 54,
   "id": "52f6857d",
   "metadata": {},
   "outputs": [
    {
     "data": {
      "text/html": [
       "<div>\n",
       "<style scoped>\n",
       "    .dataframe tbody tr th:only-of-type {\n",
       "        vertical-align: middle;\n",
       "    }\n",
       "\n",
       "    .dataframe tbody tr th {\n",
       "        vertical-align: top;\n",
       "    }\n",
       "\n",
       "    .dataframe thead th {\n",
       "        text-align: right;\n",
       "    }\n",
       "</style>\n",
       "<table border=\"1\" class=\"dataframe\">\n",
       "  <thead>\n",
       "    <tr style=\"text-align: right;\">\n",
       "      <th></th>\n",
       "      <th>CustomerID</th>\n",
       "      <th>Gender</th>\n",
       "      <th>Age</th>\n",
       "      <th>Annual Income (k$)</th>\n",
       "      <th>Spending Score (1-100)</th>\n",
       "    </tr>\n",
       "  </thead>\n",
       "  <tbody>\n",
       "    <tr>\n",
       "      <th>0</th>\n",
       "      <td>1</td>\n",
       "      <td>Male</td>\n",
       "      <td>19</td>\n",
       "      <td>15.0</td>\n",
       "      <td>39</td>\n",
       "    </tr>\n",
       "    <tr>\n",
       "      <th>1</th>\n",
       "      <td>2</td>\n",
       "      <td>Male</td>\n",
       "      <td>21</td>\n",
       "      <td>15.0</td>\n",
       "      <td>81</td>\n",
       "    </tr>\n",
       "    <tr>\n",
       "      <th>2</th>\n",
       "      <td>3</td>\n",
       "      <td>Female</td>\n",
       "      <td>20</td>\n",
       "      <td>16.0</td>\n",
       "      <td>6</td>\n",
       "    </tr>\n",
       "    <tr>\n",
       "      <th>3</th>\n",
       "      <td>4</td>\n",
       "      <td>Female</td>\n",
       "      <td>23</td>\n",
       "      <td>16.0</td>\n",
       "      <td>77</td>\n",
       "    </tr>\n",
       "    <tr>\n",
       "      <th>4</th>\n",
       "      <td>5</td>\n",
       "      <td>Female</td>\n",
       "      <td>31</td>\n",
       "      <td>17.0</td>\n",
       "      <td>40</td>\n",
       "    </tr>\n",
       "    <tr>\n",
       "      <th>...</th>\n",
       "      <td>...</td>\n",
       "      <td>...</td>\n",
       "      <td>...</td>\n",
       "      <td>...</td>\n",
       "      <td>...</td>\n",
       "    </tr>\n",
       "    <tr>\n",
       "      <th>195</th>\n",
       "      <td>196</td>\n",
       "      <td>Female</td>\n",
       "      <td>35</td>\n",
       "      <td>120.0</td>\n",
       "      <td>79</td>\n",
       "    </tr>\n",
       "    <tr>\n",
       "      <th>196</th>\n",
       "      <td>197</td>\n",
       "      <td>Female</td>\n",
       "      <td>45</td>\n",
       "      <td>126.0</td>\n",
       "      <td>28</td>\n",
       "    </tr>\n",
       "    <tr>\n",
       "      <th>197</th>\n",
       "      <td>198</td>\n",
       "      <td>Male</td>\n",
       "      <td>32</td>\n",
       "      <td>126.0</td>\n",
       "      <td>74</td>\n",
       "    </tr>\n",
       "    <tr>\n",
       "      <th>198</th>\n",
       "      <td>199</td>\n",
       "      <td>Male</td>\n",
       "      <td>32</td>\n",
       "      <td>61.5</td>\n",
       "      <td>18</td>\n",
       "    </tr>\n",
       "    <tr>\n",
       "      <th>199</th>\n",
       "      <td>200</td>\n",
       "      <td>Male</td>\n",
       "      <td>30</td>\n",
       "      <td>61.5</td>\n",
       "      <td>83</td>\n",
       "    </tr>\n",
       "  </tbody>\n",
       "</table>\n",
       "<p>200 rows × 5 columns</p>\n",
       "</div>"
      ],
      "text/plain": [
       "     CustomerID  Gender  Age  Annual Income (k$)  Spending Score (1-100)\n",
       "0             1    Male   19                15.0                      39\n",
       "1             2    Male   21                15.0                      81\n",
       "2             3  Female   20                16.0                       6\n",
       "3             4  Female   23                16.0                      77\n",
       "4             5  Female   31                17.0                      40\n",
       "..          ...     ...  ...                 ...                     ...\n",
       "195         196  Female   35               120.0                      79\n",
       "196         197  Female   45               126.0                      28\n",
       "197         198    Male   32               126.0                      74\n",
       "198         199    Male   32                61.5                      18\n",
       "199         200    Male   30                61.5                      83\n",
       "\n",
       "[200 rows x 5 columns]"
      ]
     },
     "execution_count": 54,
     "metadata": {},
     "output_type": "execute_result"
    }
   ],
   "source": [
    "data"
   ]
  },
  {
   "cell_type": "code",
   "execution_count": 9,
   "id": "a481410d",
   "metadata": {},
   "outputs": [],
   "source": [
    "from sklearn.preprocessing import LabelEncoder\n",
    "le = LabelEncoder()\n",
    "data['Gender'] = le.fit_transform(data['Gender']) "
   ]
  },
  {
   "cell_type": "code",
   "execution_count": 10,
   "id": "d78bdaad",
   "metadata": {},
   "outputs": [
    {
     "data": {
      "text/html": [
       "<div>\n",
       "<style scoped>\n",
       "    .dataframe tbody tr th:only-of-type {\n",
       "        vertical-align: middle;\n",
       "    }\n",
       "\n",
       "    .dataframe tbody tr th {\n",
       "        vertical-align: top;\n",
       "    }\n",
       "\n",
       "    .dataframe thead th {\n",
       "        text-align: right;\n",
       "    }\n",
       "</style>\n",
       "<table border=\"1\" class=\"dataframe\">\n",
       "  <thead>\n",
       "    <tr style=\"text-align: right;\">\n",
       "      <th></th>\n",
       "      <th>CustomerID</th>\n",
       "      <th>Gender</th>\n",
       "      <th>Age</th>\n",
       "      <th>Annual Income (k$)</th>\n",
       "      <th>Spending Score (1-100)</th>\n",
       "    </tr>\n",
       "  </thead>\n",
       "  <tbody>\n",
       "    <tr>\n",
       "      <th>0</th>\n",
       "      <td>1</td>\n",
       "      <td>1</td>\n",
       "      <td>19</td>\n",
       "      <td>15</td>\n",
       "      <td>39</td>\n",
       "    </tr>\n",
       "    <tr>\n",
       "      <th>1</th>\n",
       "      <td>2</td>\n",
       "      <td>1</td>\n",
       "      <td>21</td>\n",
       "      <td>15</td>\n",
       "      <td>81</td>\n",
       "    </tr>\n",
       "    <tr>\n",
       "      <th>2</th>\n",
       "      <td>3</td>\n",
       "      <td>0</td>\n",
       "      <td>20</td>\n",
       "      <td>16</td>\n",
       "      <td>6</td>\n",
       "    </tr>\n",
       "    <tr>\n",
       "      <th>3</th>\n",
       "      <td>4</td>\n",
       "      <td>0</td>\n",
       "      <td>23</td>\n",
       "      <td>16</td>\n",
       "      <td>77</td>\n",
       "    </tr>\n",
       "    <tr>\n",
       "      <th>4</th>\n",
       "      <td>5</td>\n",
       "      <td>0</td>\n",
       "      <td>31</td>\n",
       "      <td>17</td>\n",
       "      <td>40</td>\n",
       "    </tr>\n",
       "  </tbody>\n",
       "</table>\n",
       "</div>"
      ],
      "text/plain": [
       "   CustomerID  Gender  Age  Annual Income (k$)  Spending Score (1-100)\n",
       "0           1       1   19                  15                      39\n",
       "1           2       1   21                  15                      81\n",
       "2           3       0   20                  16                       6\n",
       "3           4       0   23                  16                      77\n",
       "4           5       0   31                  17                      40"
      ]
     },
     "execution_count": 10,
     "metadata": {},
     "output_type": "execute_result"
    }
   ],
   "source": [
    "data.head()"
   ]
  },
  {
   "cell_type": "markdown",
   "id": "74678fa7",
   "metadata": {},
   "source": [
    "# scaling"
   ]
  },
  {
   "cell_type": "code",
   "execution_count": 11,
   "id": "499ec767",
   "metadata": {
    "scrolled": true
   },
   "outputs": [],
   "source": [
    "from sklearn.preprocessing import MinMaxScaler\n",
    "min_max = MinMaxScaler()\n",
    "x_scaled = min_max.fit_transform(data)"
   ]
  },
  {
   "cell_type": "code",
   "execution_count": 12,
   "id": "62690152",
   "metadata": {
    "scrolled": false
   },
   "outputs": [
    {
     "data": {
      "text/plain": [
       "array([[0.        , 1.        , 0.01923077, 0.        , 0.3877551 ],\n",
       "       [0.00502513, 1.        , 0.05769231, 0.        , 0.81632653],\n",
       "       [0.01005025, 0.        , 0.03846154, 0.00819672, 0.05102041],\n",
       "       [0.01507538, 0.        , 0.09615385, 0.00819672, 0.7755102 ],\n",
       "       [0.0201005 , 0.        , 0.25      , 0.01639344, 0.39795918],\n",
       "       [0.02512563, 0.        , 0.07692308, 0.01639344, 0.76530612],\n",
       "       [0.03015075, 0.        , 0.32692308, 0.02459016, 0.05102041],\n",
       "       [0.03517588, 0.        , 0.09615385, 0.02459016, 0.94897959],\n",
       "       [0.04020101, 1.        , 0.88461538, 0.03278689, 0.02040816],\n",
       "       [0.04522613, 0.        , 0.23076923, 0.03278689, 0.7244898 ],\n",
       "       [0.05025126, 1.        , 0.94230769, 0.03278689, 0.13265306],\n",
       "       [0.05527638, 0.        , 0.32692308, 0.03278689, 1.        ],\n",
       "       [0.06030151, 0.        , 0.76923077, 0.04098361, 0.14285714],\n",
       "       [0.06532663, 0.        , 0.11538462, 0.04098361, 0.7755102 ],\n",
       "       [0.07035176, 1.        , 0.36538462, 0.04098361, 0.12244898],\n",
       "       [0.07537688, 1.        , 0.07692308, 0.04098361, 0.79591837],\n",
       "       [0.08040201, 0.        , 0.32692308, 0.04918033, 0.34693878],\n",
       "       [0.08542714, 1.        , 0.03846154, 0.04918033, 0.66326531],\n",
       "       [0.09045226, 1.        , 0.65384615, 0.06557377, 0.28571429],\n",
       "       [0.09547739, 0.        , 0.32692308, 0.06557377, 0.98979592],\n",
       "       [0.10050251, 1.        , 0.32692308, 0.07377049, 0.34693878],\n",
       "       [0.10552764, 1.        , 0.13461538, 0.07377049, 0.73469388],\n",
       "       [0.11055276, 0.        , 0.53846154, 0.08196721, 0.04081633],\n",
       "       [0.11557789, 1.        , 0.25      , 0.08196721, 0.73469388],\n",
       "       [0.12060302, 0.        , 0.69230769, 0.10655738, 0.13265306],\n",
       "       [0.12562814, 1.        , 0.21153846, 0.10655738, 0.82653061],\n",
       "       [0.13065327, 0.        , 0.51923077, 0.10655738, 0.31632653],\n",
       "       [0.13567839, 1.        , 0.32692308, 0.10655738, 0.6122449 ],\n",
       "       [0.14070352, 0.        , 0.42307692, 0.1147541 , 0.30612245],\n",
       "       [0.14572864, 0.        , 0.09615385, 0.1147541 , 0.87755102],\n",
       "       [0.15075377, 1.        , 0.80769231, 0.12295082, 0.03061224],\n",
       "       [0.15577889, 0.        , 0.05769231, 0.12295082, 0.73469388],\n",
       "       [0.16080402, 1.        , 0.67307692, 0.14754098, 0.03061224],\n",
       "       [0.16582915, 1.        , 0.        , 0.14754098, 0.92857143],\n",
       "       [0.17085427, 0.        , 0.59615385, 0.14754098, 0.13265306],\n",
       "       [0.1758794 , 0.        , 0.05769231, 0.14754098, 0.81632653],\n",
       "       [0.18090452, 0.        , 0.46153846, 0.1557377 , 0.16326531],\n",
       "       [0.18592965, 0.        , 0.23076923, 0.1557377 , 0.73469388],\n",
       "       [0.19095477, 0.        , 0.34615385, 0.18032787, 0.25510204],\n",
       "       [0.1959799 , 0.        , 0.03846154, 0.18032787, 0.75510204],\n",
       "       [0.20100503, 0.        , 0.90384615, 0.18852459, 0.34693878],\n",
       "       [0.20603015, 1.        , 0.11538462, 0.18852459, 0.92857143],\n",
       "       [0.21105528, 1.        , 0.57692308, 0.19672131, 0.35714286],\n",
       "       [0.2160804 , 0.        , 0.25      , 0.19672131, 0.6122449 ],\n",
       "       [0.22110553, 0.        , 0.59615385, 0.19672131, 0.2755102 ],\n",
       "       [0.22613065, 0.        , 0.11538462, 0.19672131, 0.65306122],\n",
       "       [0.23115578, 0.        , 0.61538462, 0.20491803, 0.55102041],\n",
       "       [0.2361809 , 0.        , 0.17307692, 0.20491803, 0.46938776],\n",
       "       [0.24120603, 0.        , 0.21153846, 0.20491803, 0.41836735],\n",
       "       [0.24623116, 0.        , 0.25      , 0.20491803, 0.41836735],\n",
       "       [0.25125628, 0.        , 0.59615385, 0.22131148, 0.52040816],\n",
       "       [0.25628141, 1.        , 0.28846154, 0.22131148, 0.60204082],\n",
       "       [0.26130653, 0.        , 0.25      , 0.2295082 , 0.54081633],\n",
       "       [0.26633166, 1.        , 0.78846154, 0.2295082 , 0.60204082],\n",
       "       [0.27135678, 0.        , 0.61538462, 0.2295082 , 0.44897959],\n",
       "       [0.27638191, 1.        , 0.55769231, 0.2295082 , 0.40816327],\n",
       "       [0.28140704, 0.        , 0.63461538, 0.23770492, 0.5       ],\n",
       "       [0.28643216, 1.        , 0.98076923, 0.23770492, 0.45918367],\n",
       "       [0.29145729, 0.        , 0.17307692, 0.25409836, 0.51020408],\n",
       "       [0.29648241, 1.        , 0.67307692, 0.25409836, 0.45918367],\n",
       "       [0.30150754, 1.        , 1.        , 0.25409836, 0.56122449],\n",
       "       [0.30653266, 1.        , 0.01923077, 0.25409836, 0.55102041],\n",
       "       [0.31155779, 0.        , 0.94230769, 0.26229508, 0.52040816],\n",
       "       [0.31658291, 0.        , 0.69230769, 0.26229508, 0.59183673],\n",
       "       [0.32160804, 1.        , 0.86538462, 0.2704918 , 0.51020408],\n",
       "       [0.32663317, 1.        , 0.        , 0.2704918 , 0.59183673],\n",
       "       [0.33165829, 0.        , 0.48076923, 0.2704918 , 0.5       ],\n",
       "       [0.33668342, 0.        , 0.96153846, 0.2704918 , 0.47959184],\n",
       "       [0.34170854, 1.        , 0.01923077, 0.2704918 , 0.59183673],\n",
       "       [0.34673367, 0.        , 0.26923077, 0.2704918 , 0.46938776],\n",
       "       [0.35175879, 1.        , 1.        , 0.27868852, 0.55102041],\n",
       "       [0.35678392, 0.        , 0.55769231, 0.27868852, 0.41836735],\n",
       "       [0.36180905, 0.        , 0.80769231, 0.28688525, 0.48979592],\n",
       "       [0.36683417, 0.        , 0.80769231, 0.28688525, 0.56122449],\n",
       "       [0.3718593 , 1.        , 0.78846154, 0.31967213, 0.46938776],\n",
       "       [0.37688442, 1.        , 0.15384615, 0.31967213, 0.54081633],\n",
       "       [0.38190955, 0.        , 0.51923077, 0.31967213, 0.53061224],\n",
       "       [0.38693467, 1.        , 0.42307692, 0.31967213, 0.47959184],\n",
       "       [0.3919598 , 0.        , 0.09615385, 0.31967213, 0.52040816],\n",
       "       [0.39698492, 0.        , 0.59615385, 0.31967213, 0.41836735],\n",
       "       [0.40201005, 1.        , 0.75      , 0.31967213, 0.51020408],\n",
       "       [0.40703518, 1.        , 0.38461538, 0.31967213, 0.55102041],\n",
       "       [0.4120603 , 1.        , 0.94230769, 0.31967213, 0.40816327],\n",
       "       [0.41708543, 0.        , 0.53846154, 0.31967213, 0.43877551],\n",
       "       [0.42211055, 0.        , 0.05769231, 0.31967213, 0.57142857],\n",
       "       [0.42713568, 1.        , 0.57692308, 0.31967213, 0.45918367],\n",
       "       [0.4321608 , 0.        , 0.71153846, 0.3442623 , 0.58163265],\n",
       "       [0.43718593, 0.        , 0.07692308, 0.3442623 , 0.55102041],\n",
       "       [0.44221106, 0.        , 0.30769231, 0.35245902, 0.60204082],\n",
       "       [0.44723618, 0.        , 0.61538462, 0.35245902, 0.45918367],\n",
       "       [0.45226131, 0.        , 0.96153846, 0.36065574, 0.55102041],\n",
       "       [0.45728643, 1.        , 0.        , 0.36065574, 0.40816327],\n",
       "       [0.46231156, 1.        , 0.57692308, 0.36885246, 0.48979592],\n",
       "       [0.46733668, 0.        , 0.42307692, 0.36885246, 0.39795918],\n",
       "       [0.47236181, 0.        , 0.26923077, 0.36885246, 0.41836735],\n",
       "       [0.47738693, 1.        , 0.11538462, 0.36885246, 0.52040816],\n",
       "       [0.48241206, 0.        , 0.55769231, 0.36885246, 0.46938776],\n",
       "       [0.48743719, 0.        , 0.17307692, 0.36885246, 0.5       ],\n",
       "       [0.49246231, 1.        , 0.57692308, 0.37704918, 0.41836735],\n",
       "       [0.49748744, 1.        , 0.03846154, 0.37704918, 0.48979592],\n",
       "       [0.50251256, 0.        , 0.09615385, 0.3852459 , 0.40816327],\n",
       "       [0.50753769, 0.        , 0.59615385, 0.3852459 , 0.47959184],\n",
       "       [0.51256281, 1.        , 0.94230769, 0.3852459 , 0.59183673],\n",
       "       [0.51758794, 1.        , 0.15384615, 0.3852459 , 0.55102041],\n",
       "       [0.52261307, 1.        , 0.59615385, 0.3852459 , 0.56122449],\n",
       "       [0.52763819, 0.        , 0.05769231, 0.3852459 , 0.41836735],\n",
       "       [0.53266332, 0.        , 0.92307692, 0.39344262, 0.5       ],\n",
       "       [0.53768844, 1.        , 0.69230769, 0.39344262, 0.45918367],\n",
       "       [0.54271357, 1.        , 0.96153846, 0.39344262, 0.42857143],\n",
       "       [0.54773869, 1.        , 0.92307692, 0.39344262, 0.47959184],\n",
       "       [0.55276382, 1.        , 0.90384615, 0.39344262, 0.52040816],\n",
       "       [0.55778894, 0.        , 0.01923077, 0.39344262, 0.54081633],\n",
       "       [0.56281407, 0.        , 0.38461538, 0.40163934, 0.41836735],\n",
       "       [0.5678392 , 1.        , 0.01923077, 0.40163934, 0.45918367],\n",
       "       [0.57286432, 0.        , 0.        , 0.40983607, 0.47959184],\n",
       "       [0.57788945, 0.        , 0.01923077, 0.40983607, 0.5       ],\n",
       "       [0.58291457, 0.        , 0.86538462, 0.40983607, 0.42857143],\n",
       "       [0.5879397 , 0.        , 0.59615385, 0.40983607, 0.59183673],\n",
       "       [0.59296482, 0.        , 0.63461538, 0.42622951, 0.42857143],\n",
       "       [0.59798995, 0.        , 0.61538462, 0.42622951, 0.57142857],\n",
       "       [0.60301508, 1.        , 0.17307692, 0.42622951, 0.56122449],\n",
       "       [0.6080402 , 0.        , 0.38461538, 0.42622951, 0.39795918],\n",
       "       [0.61306533, 0.        , 0.42307692, 0.44262295, 0.58163265],\n",
       "       [0.61809045, 1.        , 0.40384615, 0.44262295, 0.91836735],\n",
       "       [0.62311558, 0.        , 0.09615385, 0.45081967, 0.28571429],\n",
       "       [0.6281407 , 0.        , 0.25      , 0.45081967, 0.7755102 ],\n",
       "       [0.63316583, 1.        , 0.48076923, 0.45901639, 0.34693878],\n",
       "       [0.63819095, 1.        , 0.42307692, 0.45901639, 0.95918367],\n",
       "       [0.64321608, 1.        , 0.78846154, 0.45901639, 0.10204082],\n",
       "       [0.64824121, 1.        , 0.38461538, 0.45901639, 0.75510204],\n",
       "       [0.65326633, 1.        , 0.55769231, 0.45901639, 0.08163265],\n",
       "       [0.65829146, 1.        , 0.40384615, 0.45901639, 0.75510204],\n",
       "       [0.66331658, 0.        , 0.13461538, 0.46721311, 0.33673469],\n",
       "       [0.66834171, 0.        , 0.25      , 0.46721311, 0.71428571],\n",
       "       [0.67336683, 1.        , 0.03846154, 0.47540984, 0.04081633],\n",
       "       [0.67839196, 0.        , 0.21153846, 0.47540984, 0.8877551 ],\n",
       "       [0.68341709, 0.        , 0.5       , 0.47540984, 0.06122449],\n",
       "       [0.68844221, 1.        , 0.26923077, 0.47540984, 0.73469388],\n",
       "       [0.69346734, 1.        , 0.01923077, 0.48360656, 0.09183673],\n",
       "       [0.69849246, 0.        , 0.32692308, 0.48360656, 0.7244898 ],\n",
       "       [0.70351759, 0.        , 0.75      , 0.49180328, 0.04081633],\n",
       "       [0.70854271, 1.        , 0.26923077, 0.49180328, 0.93877551],\n",
       "       [0.71356784, 0.        , 0.19230769, 0.5       , 0.39795918],\n",
       "       [0.71859296, 0.        , 0.26923077, 0.5       , 0.87755102],\n",
       "       [0.72361809, 1.        , 0.13461538, 0.50819672, 0.1122449 ],\n",
       "       [0.72864322, 1.        , 0.19230769, 0.50819672, 0.97959184],\n",
       "       [0.73366834, 1.        , 0.57692308, 0.50819672, 0.35714286],\n",
       "       [0.73869347, 0.        , 0.26923077, 0.50819672, 0.74489796],\n",
       "       [0.74371859, 0.        , 0.30769231, 0.51639344, 0.21428571],\n",
       "       [0.74874372, 1.        , 0.30769231, 0.51639344, 0.90816327],\n",
       "       [0.75376884, 1.        , 0.48076923, 0.51639344, 0.16326531],\n",
       "       [0.75879397, 1.        , 0.40384615, 0.51639344, 0.8877551 ],\n",
       "       [0.7638191 , 0.        , 0.5       , 0.51639344, 0.19387755],\n",
       "       [0.76884422, 0.        , 0.38461538, 0.51639344, 0.76530612],\n",
       "       [0.77386935, 0.        , 0.55769231, 0.51639344, 0.15306122],\n",
       "       [0.77889447, 0.        , 0.17307692, 0.51639344, 0.89795918],\n",
       "       [0.7839196 , 1.        , 0.36538462, 0.51639344, 0.        ],\n",
       "       [0.78894472, 0.        , 0.23076923, 0.51639344, 0.78571429],\n",
       "       [0.79396985, 1.        , 0.30769231, 0.51639344, 0.        ],\n",
       "       [0.79899497, 0.        , 0.23076923, 0.51639344, 0.73469388],\n",
       "       [0.8040201 , 0.        , 0.73076923, 0.52459016, 0.34693878],\n",
       "       [0.80904523, 0.        , 0.21153846, 0.52459016, 0.83673469],\n",
       "       [0.81407035, 1.        , 0.01923077, 0.54098361, 0.04081633],\n",
       "       [0.81909548, 0.        , 0.25      , 0.54098361, 0.93877551],\n",
       "       [0.8241206 , 1.        , 0.61538462, 0.57377049, 0.25510204],\n",
       "       [0.82914573, 0.        , 0.34615385, 0.57377049, 0.75510204],\n",
       "       [0.83417085, 1.        , 0.46153846, 0.58196721, 0.19387755],\n",
       "       [0.83919598, 0.        , 0.28846154, 0.58196721, 0.95918367],\n",
       "       [0.84422111, 0.        , 0.34615385, 0.59016393, 0.26530612],\n",
       "       [0.84924623, 1.        , 0.26923077, 0.59016393, 0.63265306],\n",
       "       [0.85427136, 1.        , 0.42307692, 0.59016393, 0.12244898],\n",
       "       [0.85929648, 1.        , 0.19230769, 0.59016393, 0.75510204],\n",
       "       [0.86432161, 1.        , 0.34615385, 0.59016393, 0.09183673],\n",
       "       [0.86934673, 1.        , 0.34615385, 0.59016393, 0.92857143],\n",
       "       [0.87437186, 0.        , 0.65384615, 0.59836066, 0.12244898],\n",
       "       [0.87939698, 0.        , 0.23076923, 0.59836066, 0.86734694],\n",
       "       [0.88442211, 1.        , 0.76923077, 0.59836066, 0.14285714],\n",
       "       [0.88944724, 1.        , 0.17307692, 0.59836066, 0.69387755],\n",
       "       [0.89447236, 1.        , 0.78846154, 0.63934426, 0.13265306],\n",
       "       [0.89949749, 1.        , 0.32692308, 0.63934426, 0.90816327],\n",
       "       [0.90452261, 0.        , 0.36538462, 0.67213115, 0.31632653],\n",
       "       [0.90954774, 0.        , 0.26923077, 0.67213115, 0.86734694],\n",
       "       [0.91457286, 1.        , 0.53846154, 0.68032787, 0.14285714],\n",
       "       [0.91959799, 0.        , 0.21153846, 0.68032787, 0.8877551 ],\n",
       "       [0.92462312, 0.        , 0.44230769, 0.68852459, 0.3877551 ],\n",
       "       [0.92964824, 1.        , 0.23076923, 0.68852459, 0.97959184],\n",
       "       [0.93467337, 0.        , 0.69230769, 0.70491803, 0.23469388],\n",
       "       [0.93969849, 1.        , 0.19230769, 0.70491803, 0.68367347],\n",
       "       [0.94472362, 0.        , 0.44230769, 0.72131148, 0.16326531],\n",
       "       [0.94974874, 0.        , 0.34615385, 0.72131148, 0.85714286],\n",
       "       [0.95477387, 0.        , 0.30769231, 0.72131148, 0.2244898 ],\n",
       "       [0.95979899, 0.        , 0.26923077, 0.72131148, 0.69387755],\n",
       "       [0.96482412, 1.        , 0.28846154, 0.80327869, 0.07142857],\n",
       "       [0.96984925, 0.        , 0.38461538, 0.80327869, 0.91836735],\n",
       "       [0.97487437, 0.        , 0.55769231, 0.86065574, 0.15306122],\n",
       "       [0.9798995 , 0.        , 0.32692308, 0.86065574, 0.79591837],\n",
       "       [0.98492462, 0.        , 0.51923077, 0.90983607, 0.2755102 ],\n",
       "       [0.98994975, 1.        , 0.26923077, 0.90983607, 0.74489796],\n",
       "       [0.99497487, 1.        , 0.26923077, 1.        , 0.17346939],\n",
       "       [1.        , 1.        , 0.23076923, 1.        , 0.83673469]])"
      ]
     },
     "execution_count": 12,
     "metadata": {},
     "output_type": "execute_result"
    }
   ],
   "source": [
    "x_scaled"
   ]
  },
  {
   "cell_type": "code",
   "execution_count": 13,
   "id": "7c8a33a3",
   "metadata": {},
   "outputs": [],
   "source": [
    "from sklearn.cluster import KMeans\n",
    "KM=KMeans()\n",
    "cluster = KM.fit_predict(x_scaled)"
   ]
  },
  {
   "cell_type": "code",
   "execution_count": 14,
   "id": "c3487878",
   "metadata": {},
   "outputs": [
    {
     "data": {
      "text/plain": [
       "array([7, 7, 6, 6, 6, 6, 1, 6, 2, 6, 2, 6, 1, 6, 7, 7, 6, 7, 2, 6, 7, 7,\n",
       "       1, 7, 1, 7, 1, 7, 1, 6, 2, 6, 2, 7, 1, 6, 1, 6, 1, 6, 1, 7, 2, 6,\n",
       "       1, 6, 1, 6, 6, 6, 1, 7, 6, 2, 1, 2, 1, 2, 6, 2, 2, 7, 1, 1, 2, 7,\n",
       "       1, 1, 7, 6, 2, 1, 1, 1, 2, 7, 1, 7, 6, 1, 2, 7, 2, 1, 6, 2, 1, 6,\n",
       "       6, 1, 1, 7, 2, 1, 6, 7, 1, 6, 2, 7, 6, 1, 2, 7, 2, 6, 1, 2, 2, 2,\n",
       "       2, 6, 4, 7, 6, 6, 1, 1, 1, 1, 5, 4, 3, 5, 4, 3, 0, 5, 0, 5, 0, 5,\n",
       "       4, 3, 0, 3, 4, 5, 0, 3, 4, 5, 4, 3, 0, 5, 0, 3, 4, 5, 0, 5, 4, 3,\n",
       "       4, 3, 0, 3, 0, 3, 4, 3, 0, 3, 0, 3, 0, 3, 4, 5, 0, 5, 0, 5, 4, 3,\n",
       "       0, 5, 0, 5, 4, 3, 0, 3, 4, 5, 4, 5, 4, 3, 4, 3, 0, 3, 4, 3, 4, 5,\n",
       "       0, 5])"
      ]
     },
     "execution_count": 14,
     "metadata": {},
     "output_type": "execute_result"
    }
   ],
   "source": [
    "cluster"
   ]
  },
  {
   "cell_type": "code",
   "execution_count": 15,
   "id": "e013cf05",
   "metadata": {},
   "outputs": [],
   "source": [
    "value = data.columns\n"
   ]
  },
  {
   "cell_type": "code",
   "execution_count": 16,
   "id": "3672fa35",
   "metadata": {},
   "outputs": [
    {
     "data": {
      "text/plain": [
       "Index(['CustomerID', 'Gender', 'Age', 'Annual Income (k$)',\n",
       "       'Spending Score (1-100)'],\n",
       "      dtype='object')"
      ]
     },
     "execution_count": 16,
     "metadata": {},
     "output_type": "execute_result"
    }
   ],
   "source": [
    "value"
   ]
  },
  {
   "cell_type": "code",
   "execution_count": 17,
   "id": "a452972e",
   "metadata": {},
   "outputs": [],
   "source": [
    "data1 = pd.DataFrame(x_scaled, columns = value)"
   ]
  },
  {
   "cell_type": "code",
   "execution_count": 18,
   "id": "2a4ad08c",
   "metadata": {},
   "outputs": [
    {
     "data": {
      "text/html": [
       "<div>\n",
       "<style scoped>\n",
       "    .dataframe tbody tr th:only-of-type {\n",
       "        vertical-align: middle;\n",
       "    }\n",
       "\n",
       "    .dataframe tbody tr th {\n",
       "        vertical-align: top;\n",
       "    }\n",
       "\n",
       "    .dataframe thead th {\n",
       "        text-align: right;\n",
       "    }\n",
       "</style>\n",
       "<table border=\"1\" class=\"dataframe\">\n",
       "  <thead>\n",
       "    <tr style=\"text-align: right;\">\n",
       "      <th></th>\n",
       "      <th>CustomerID</th>\n",
       "      <th>Gender</th>\n",
       "      <th>Age</th>\n",
       "      <th>Annual Income (k$)</th>\n",
       "      <th>Spending Score (1-100)</th>\n",
       "    </tr>\n",
       "  </thead>\n",
       "  <tbody>\n",
       "    <tr>\n",
       "      <th>0</th>\n",
       "      <td>0.000000</td>\n",
       "      <td>1.0</td>\n",
       "      <td>0.019231</td>\n",
       "      <td>0.000000</td>\n",
       "      <td>0.387755</td>\n",
       "    </tr>\n",
       "    <tr>\n",
       "      <th>1</th>\n",
       "      <td>0.005025</td>\n",
       "      <td>1.0</td>\n",
       "      <td>0.057692</td>\n",
       "      <td>0.000000</td>\n",
       "      <td>0.816327</td>\n",
       "    </tr>\n",
       "    <tr>\n",
       "      <th>2</th>\n",
       "      <td>0.010050</td>\n",
       "      <td>0.0</td>\n",
       "      <td>0.038462</td>\n",
       "      <td>0.008197</td>\n",
       "      <td>0.051020</td>\n",
       "    </tr>\n",
       "    <tr>\n",
       "      <th>3</th>\n",
       "      <td>0.015075</td>\n",
       "      <td>0.0</td>\n",
       "      <td>0.096154</td>\n",
       "      <td>0.008197</td>\n",
       "      <td>0.775510</td>\n",
       "    </tr>\n",
       "    <tr>\n",
       "      <th>4</th>\n",
       "      <td>0.020101</td>\n",
       "      <td>0.0</td>\n",
       "      <td>0.250000</td>\n",
       "      <td>0.016393</td>\n",
       "      <td>0.397959</td>\n",
       "    </tr>\n",
       "    <tr>\n",
       "      <th>...</th>\n",
       "      <td>...</td>\n",
       "      <td>...</td>\n",
       "      <td>...</td>\n",
       "      <td>...</td>\n",
       "      <td>...</td>\n",
       "    </tr>\n",
       "    <tr>\n",
       "      <th>195</th>\n",
       "      <td>0.979899</td>\n",
       "      <td>0.0</td>\n",
       "      <td>0.326923</td>\n",
       "      <td>0.860656</td>\n",
       "      <td>0.795918</td>\n",
       "    </tr>\n",
       "    <tr>\n",
       "      <th>196</th>\n",
       "      <td>0.984925</td>\n",
       "      <td>0.0</td>\n",
       "      <td>0.519231</td>\n",
       "      <td>0.909836</td>\n",
       "      <td>0.275510</td>\n",
       "    </tr>\n",
       "    <tr>\n",
       "      <th>197</th>\n",
       "      <td>0.989950</td>\n",
       "      <td>1.0</td>\n",
       "      <td>0.269231</td>\n",
       "      <td>0.909836</td>\n",
       "      <td>0.744898</td>\n",
       "    </tr>\n",
       "    <tr>\n",
       "      <th>198</th>\n",
       "      <td>0.994975</td>\n",
       "      <td>1.0</td>\n",
       "      <td>0.269231</td>\n",
       "      <td>1.000000</td>\n",
       "      <td>0.173469</td>\n",
       "    </tr>\n",
       "    <tr>\n",
       "      <th>199</th>\n",
       "      <td>1.000000</td>\n",
       "      <td>1.0</td>\n",
       "      <td>0.230769</td>\n",
       "      <td>1.000000</td>\n",
       "      <td>0.836735</td>\n",
       "    </tr>\n",
       "  </tbody>\n",
       "</table>\n",
       "<p>200 rows × 5 columns</p>\n",
       "</div>"
      ],
      "text/plain": [
       "     CustomerID  Gender       Age  Annual Income (k$)  Spending Score (1-100)\n",
       "0      0.000000     1.0  0.019231            0.000000                0.387755\n",
       "1      0.005025     1.0  0.057692            0.000000                0.816327\n",
       "2      0.010050     0.0  0.038462            0.008197                0.051020\n",
       "3      0.015075     0.0  0.096154            0.008197                0.775510\n",
       "4      0.020101     0.0  0.250000            0.016393                0.397959\n",
       "..          ...     ...       ...                 ...                     ...\n",
       "195    0.979899     0.0  0.326923            0.860656                0.795918\n",
       "196    0.984925     0.0  0.519231            0.909836                0.275510\n",
       "197    0.989950     1.0  0.269231            0.909836                0.744898\n",
       "198    0.994975     1.0  0.269231            1.000000                0.173469\n",
       "199    1.000000     1.0  0.230769            1.000000                0.836735\n",
       "\n",
       "[200 rows x 5 columns]"
      ]
     },
     "execution_count": 18,
     "metadata": {},
     "output_type": "execute_result"
    }
   ],
   "source": [
    "data1"
   ]
  },
  {
   "cell_type": "code",
   "execution_count": 26,
   "id": "fe36f8e0",
   "metadata": {},
   "outputs": [],
   "source": [
    "data1['Cluster_value'] = pd.Series(cluster)"
   ]
  },
  {
   "cell_type": "code",
   "execution_count": 27,
   "id": "dfc927e1",
   "metadata": {},
   "outputs": [
    {
     "data": {
      "text/html": [
       "<div>\n",
       "<style scoped>\n",
       "    .dataframe tbody tr th:only-of-type {\n",
       "        vertical-align: middle;\n",
       "    }\n",
       "\n",
       "    .dataframe tbody tr th {\n",
       "        vertical-align: top;\n",
       "    }\n",
       "\n",
       "    .dataframe thead th {\n",
       "        text-align: right;\n",
       "    }\n",
       "</style>\n",
       "<table border=\"1\" class=\"dataframe\">\n",
       "  <thead>\n",
       "    <tr style=\"text-align: right;\">\n",
       "      <th></th>\n",
       "      <th>CustomerID</th>\n",
       "      <th>Gender</th>\n",
       "      <th>Age</th>\n",
       "      <th>Annual Income (k$)</th>\n",
       "      <th>Spending Score (1-100)</th>\n",
       "      <th>Cluster_value</th>\n",
       "    </tr>\n",
       "  </thead>\n",
       "  <tbody>\n",
       "    <tr>\n",
       "      <th>0</th>\n",
       "      <td>0.000000</td>\n",
       "      <td>1.0</td>\n",
       "      <td>0.019231</td>\n",
       "      <td>0.000000</td>\n",
       "      <td>0.387755</td>\n",
       "      <td>7</td>\n",
       "    </tr>\n",
       "    <tr>\n",
       "      <th>1</th>\n",
       "      <td>0.005025</td>\n",
       "      <td>1.0</td>\n",
       "      <td>0.057692</td>\n",
       "      <td>0.000000</td>\n",
       "      <td>0.816327</td>\n",
       "      <td>7</td>\n",
       "    </tr>\n",
       "    <tr>\n",
       "      <th>2</th>\n",
       "      <td>0.010050</td>\n",
       "      <td>0.0</td>\n",
       "      <td>0.038462</td>\n",
       "      <td>0.008197</td>\n",
       "      <td>0.051020</td>\n",
       "      <td>6</td>\n",
       "    </tr>\n",
       "    <tr>\n",
       "      <th>3</th>\n",
       "      <td>0.015075</td>\n",
       "      <td>0.0</td>\n",
       "      <td>0.096154</td>\n",
       "      <td>0.008197</td>\n",
       "      <td>0.775510</td>\n",
       "      <td>6</td>\n",
       "    </tr>\n",
       "    <tr>\n",
       "      <th>4</th>\n",
       "      <td>0.020101</td>\n",
       "      <td>0.0</td>\n",
       "      <td>0.250000</td>\n",
       "      <td>0.016393</td>\n",
       "      <td>0.397959</td>\n",
       "      <td>6</td>\n",
       "    </tr>\n",
       "  </tbody>\n",
       "</table>\n",
       "</div>"
      ],
      "text/plain": [
       "   CustomerID  Gender       Age  Annual Income (k$)  Spending Score (1-100)  \\\n",
       "0    0.000000     1.0  0.019231            0.000000                0.387755   \n",
       "1    0.005025     1.0  0.057692            0.000000                0.816327   \n",
       "2    0.010050     0.0  0.038462            0.008197                0.051020   \n",
       "3    0.015075     0.0  0.096154            0.008197                0.775510   \n",
       "4    0.020101     0.0  0.250000            0.016393                0.397959   \n",
       "\n",
       "   Cluster_value  \n",
       "0              7  \n",
       "1              7  \n",
       "2              6  \n",
       "3              6  \n",
       "4              6  "
      ]
     },
     "execution_count": 27,
     "metadata": {},
     "output_type": "execute_result"
    }
   ],
   "source": [
    "data1.head()"
   ]
  },
  {
   "cell_type": "markdown",
   "id": "c280164b",
   "metadata": {},
   "source": [
    "# split the data in X and Y"
   ]
  },
  {
   "cell_type": "code",
   "execution_count": 33,
   "id": "16e23472",
   "metadata": {},
   "outputs": [
    {
     "data": {
      "text/html": [
       "<div>\n",
       "<style scoped>\n",
       "    .dataframe tbody tr th:only-of-type {\n",
       "        vertical-align: middle;\n",
       "    }\n",
       "\n",
       "    .dataframe tbody tr th {\n",
       "        vertical-align: top;\n",
       "    }\n",
       "\n",
       "    .dataframe thead th {\n",
       "        text-align: right;\n",
       "    }\n",
       "</style>\n",
       "<table border=\"1\" class=\"dataframe\">\n",
       "  <thead>\n",
       "    <tr style=\"text-align: right;\">\n",
       "      <th></th>\n",
       "      <th>Gender</th>\n",
       "      <th>Age</th>\n",
       "      <th>Annual Income (k$)</th>\n",
       "      <th>Spending Score (1-100)</th>\n",
       "    </tr>\n",
       "  </thead>\n",
       "  <tbody>\n",
       "    <tr>\n",
       "      <th>0</th>\n",
       "      <td>1.0</td>\n",
       "      <td>0.019231</td>\n",
       "      <td>0.000000</td>\n",
       "      <td>0.387755</td>\n",
       "    </tr>\n",
       "    <tr>\n",
       "      <th>1</th>\n",
       "      <td>1.0</td>\n",
       "      <td>0.057692</td>\n",
       "      <td>0.000000</td>\n",
       "      <td>0.816327</td>\n",
       "    </tr>\n",
       "    <tr>\n",
       "      <th>2</th>\n",
       "      <td>0.0</td>\n",
       "      <td>0.038462</td>\n",
       "      <td>0.008197</td>\n",
       "      <td>0.051020</td>\n",
       "    </tr>\n",
       "    <tr>\n",
       "      <th>3</th>\n",
       "      <td>0.0</td>\n",
       "      <td>0.096154</td>\n",
       "      <td>0.008197</td>\n",
       "      <td>0.775510</td>\n",
       "    </tr>\n",
       "    <tr>\n",
       "      <th>4</th>\n",
       "      <td>0.0</td>\n",
       "      <td>0.250000</td>\n",
       "      <td>0.016393</td>\n",
       "      <td>0.397959</td>\n",
       "    </tr>\n",
       "    <tr>\n",
       "      <th>...</th>\n",
       "      <td>...</td>\n",
       "      <td>...</td>\n",
       "      <td>...</td>\n",
       "      <td>...</td>\n",
       "    </tr>\n",
       "    <tr>\n",
       "      <th>195</th>\n",
       "      <td>0.0</td>\n",
       "      <td>0.326923</td>\n",
       "      <td>0.860656</td>\n",
       "      <td>0.795918</td>\n",
       "    </tr>\n",
       "    <tr>\n",
       "      <th>196</th>\n",
       "      <td>0.0</td>\n",
       "      <td>0.519231</td>\n",
       "      <td>0.909836</td>\n",
       "      <td>0.275510</td>\n",
       "    </tr>\n",
       "    <tr>\n",
       "      <th>197</th>\n",
       "      <td>1.0</td>\n",
       "      <td>0.269231</td>\n",
       "      <td>0.909836</td>\n",
       "      <td>0.744898</td>\n",
       "    </tr>\n",
       "    <tr>\n",
       "      <th>198</th>\n",
       "      <td>1.0</td>\n",
       "      <td>0.269231</td>\n",
       "      <td>1.000000</td>\n",
       "      <td>0.173469</td>\n",
       "    </tr>\n",
       "    <tr>\n",
       "      <th>199</th>\n",
       "      <td>1.0</td>\n",
       "      <td>0.230769</td>\n",
       "      <td>1.000000</td>\n",
       "      <td>0.836735</td>\n",
       "    </tr>\n",
       "  </tbody>\n",
       "</table>\n",
       "<p>200 rows × 4 columns</p>\n",
       "</div>"
      ],
      "text/plain": [
       "     Gender       Age  Annual Income (k$)  Spending Score (1-100)\n",
       "0       1.0  0.019231            0.000000                0.387755\n",
       "1       1.0  0.057692            0.000000                0.816327\n",
       "2       0.0  0.038462            0.008197                0.051020\n",
       "3       0.0  0.096154            0.008197                0.775510\n",
       "4       0.0  0.250000            0.016393                0.397959\n",
       "..      ...       ...                 ...                     ...\n",
       "195     0.0  0.326923            0.860656                0.795918\n",
       "196     0.0  0.519231            0.909836                0.275510\n",
       "197     1.0  0.269231            0.909836                0.744898\n",
       "198     1.0  0.269231            1.000000                0.173469\n",
       "199     1.0  0.230769            1.000000                0.836735\n",
       "\n",
       "[200 rows x 4 columns]"
      ]
     },
     "execution_count": 33,
     "metadata": {},
     "output_type": "execute_result"
    }
   ],
   "source": [
    "y = data1['Cluster_value']\n",
    "data1 = data1.drop(['CustomerID','Cluster_value'], axis = 1)\n",
    "x = data1\n",
    "x"
   ]
  },
  {
   "cell_type": "code",
   "execution_count": 34,
   "id": "8beec8e5",
   "metadata": {},
   "outputs": [
    {
     "data": {
      "text/plain": [
       "0      7\n",
       "1      7\n",
       "2      6\n",
       "3      6\n",
       "4      6\n",
       "      ..\n",
       "195    3\n",
       "196    4\n",
       "197    5\n",
       "198    0\n",
       "199    5\n",
       "Name: Cluster_value, Length: 200, dtype: int32"
      ]
     },
     "execution_count": 34,
     "metadata": {},
     "output_type": "execute_result"
    }
   ],
   "source": [
    "y"
   ]
  },
  {
   "cell_type": "markdown",
   "id": "d1294156",
   "metadata": {},
   "source": [
    "# Split x and y into Training and Testing"
   ]
  },
  {
   "cell_type": "code",
   "execution_count": 35,
   "id": "161ced4f",
   "metadata": {},
   "outputs": [],
   "source": [
    "from sklearn.model_selection import train_test_split\n",
    "x_train, x_test, y_train, y_test = train_test_split(x_scaled, y, test_size = 0.3, random_state = 0)"
   ]
  },
  {
   "cell_type": "code",
   "execution_count": 36,
   "id": "712dff65",
   "metadata": {},
   "outputs": [
    {
     "data": {
      "text/plain": [
       "array([[0.65829146, 1.        , 0.40384615, 0.45901639, 0.75510204],\n",
       "       [0.48241206, 0.        , 0.55769231, 0.36885246, 0.46938776],\n",
       "       [0.90954774, 0.        , 0.26923077, 0.67213115, 0.86734694],\n",
       "       [0.09547739, 0.        , 0.32692308, 0.06557377, 0.98979592],\n",
       "       [0.76884422, 0.        , 0.38461538, 0.51639344, 0.76530612],\n",
       "       [0.46231156, 1.        , 0.57692308, 0.36885246, 0.48979592],\n",
       "       [0.27135678, 0.        , 0.61538462, 0.2295082 , 0.44897959],\n",
       "       [0.81909548, 0.        , 0.25      , 0.54098361, 0.93877551],\n",
       "       [0.25628141, 1.        , 0.28846154, 0.22131148, 0.60204082],\n",
       "       [0.4321608 , 0.        , 0.71153846, 0.3442623 , 0.58163265],\n",
       "       [0.69849246, 0.        , 0.32692308, 0.48360656, 0.7244898 ],\n",
       "       [0.45226131, 0.        , 0.96153846, 0.36065574, 0.55102041],\n",
       "       [0.68844221, 1.        , 0.26923077, 0.47540984, 0.73469388],\n",
       "       [0.50753769, 0.        , 0.59615385, 0.3852459 , 0.47959184],\n",
       "       [0.72361809, 1.        , 0.13461538, 0.50819672, 0.1122449 ],\n",
       "       [0.44723618, 0.        , 0.61538462, 0.35245902, 0.45918367],\n",
       "       [0.54773869, 1.        , 0.92307692, 0.39344262, 0.47959184],\n",
       "       [0.07035176, 1.        , 0.36538462, 0.04098361, 0.12244898],\n",
       "       [0.13567839, 1.        , 0.32692308, 0.10655738, 0.6122449 ],\n",
       "       [0.70854271, 1.        , 0.26923077, 0.49180328, 0.93877551],\n",
       "       [0.93969849, 1.        , 0.19230769, 0.70491803, 0.68367347],\n",
       "       [0.23115578, 0.        , 0.61538462, 0.20491803, 0.55102041],\n",
       "       [0.69346734, 1.        , 0.01923077, 0.48360656, 0.09183673],\n",
       "       [0.9798995 , 0.        , 0.32692308, 0.86065574, 0.79591837],\n",
       "       [0.54271357, 1.        , 0.96153846, 0.39344262, 0.42857143],\n",
       "       [0.31155779, 0.        , 0.94230769, 0.26229508, 0.52040816],\n",
       "       [0.01005025, 0.        , 0.03846154, 0.00819672, 0.05102041],\n",
       "       [0.29648241, 1.        , 0.67307692, 0.25409836, 0.45918367],\n",
       "       [0.68341709, 0.        , 0.5       , 0.47540984, 0.06122449],\n",
       "       [0.98994975, 1.        , 0.26923077, 0.90983607, 0.74489796],\n",
       "       [0.2160804 , 0.        , 0.25      , 0.19672131, 0.6122449 ],\n",
       "       [0.05025126, 1.        , 0.94230769, 0.03278689, 0.13265306],\n",
       "       [0.97487437, 0.        , 0.55769231, 0.86065574, 0.15306122],\n",
       "       [0.36683417, 0.        , 0.80769231, 0.28688525, 0.56122449],\n",
       "       [0.98492462, 0.        , 0.51923077, 0.90983607, 0.2755102 ],\n",
       "       [0.89447236, 1.        , 0.78846154, 0.63934426, 0.13265306],\n",
       "       [0.87939698, 0.        , 0.23076923, 0.59836066, 0.86734694],\n",
       "       [0.63316583, 1.        , 0.48076923, 0.45901639, 0.34693878],\n",
       "       [0.46733668, 0.        , 0.42307692, 0.36885246, 0.39795918],\n",
       "       [0.56281407, 0.        , 0.38461538, 0.40163934, 0.41836735],\n",
       "       [0.79396985, 1.        , 0.30769231, 0.51639344, 0.        ],\n",
       "       [0.95979899, 0.        , 0.26923077, 0.72131148, 0.69387755],\n",
       "       [0.25125628, 0.        , 0.59615385, 0.22131148, 0.52040816],\n",
       "       [0.        , 1.        , 0.01923077, 0.        , 0.3877551 ],\n",
       "       [0.47236181, 0.        , 0.26923077, 0.36885246, 0.41836735],\n",
       "       [0.55276382, 1.        , 0.90384615, 0.39344262, 0.52040816],\n",
       "       [0.47738693, 1.        , 0.11538462, 0.36885246, 0.52040816],\n",
       "       [0.32160804, 1.        , 0.86538462, 0.2704918 , 0.51020408],\n",
       "       [0.83919598, 0.        , 0.28846154, 0.58196721, 0.95918367],\n",
       "       [0.20603015, 1.        , 0.11538462, 0.18852459, 0.92857143],\n",
       "       [0.34673367, 0.        , 0.26923077, 0.2704918 , 0.46938776],\n",
       "       [0.24623116, 0.        , 0.25      , 0.20491803, 0.41836735],\n",
       "       [0.24120603, 0.        , 0.21153846, 0.20491803, 0.41836735],\n",
       "       [0.42713568, 1.        , 0.57692308, 0.31967213, 0.45918367],\n",
       "       [0.06532663, 0.        , 0.11538462, 0.04098361, 0.7755102 ],\n",
       "       [0.80904523, 0.        , 0.21153846, 0.52459016, 0.83673469],\n",
       "       [0.11557789, 1.        , 0.25      , 0.08196721, 0.73469388],\n",
       "       [0.93467337, 0.        , 0.69230769, 0.70491803, 0.23469388],\n",
       "       [0.67839196, 0.        , 0.21153846, 0.47540984, 0.8877551 ],\n",
       "       [0.10050251, 1.        , 0.32692308, 0.07377049, 0.34693878],\n",
       "       [0.07537688, 1.        , 0.07692308, 0.04098361, 0.79591837],\n",
       "       [0.3919598 , 0.        , 0.09615385, 0.31967213, 0.52040816],\n",
       "       [0.52261307, 1.        , 0.59615385, 0.3852459 , 0.56122449],\n",
       "       [0.26130653, 0.        , 0.25      , 0.2295082 , 0.54081633],\n",
       "       [0.50251256, 0.        , 0.09615385, 0.3852459 , 0.40816327],\n",
       "       [0.38190955, 0.        , 0.51923077, 0.31967213, 0.53061224],\n",
       "       [0.01507538, 0.        , 0.09615385, 0.00819672, 0.7755102 ],\n",
       "       [0.58291457, 0.        , 0.86538462, 0.40983607, 0.42857143],\n",
       "       [0.8241206 , 1.        , 0.61538462, 0.57377049, 0.25510204],\n",
       "       [0.99497487, 1.        , 0.26923077, 1.        , 0.17346939],\n",
       "       [0.03015075, 0.        , 0.32692308, 0.02459016, 0.05102041],\n",
       "       [0.34170854, 1.        , 0.01923077, 0.2704918 , 0.59183673],\n",
       "       [0.42211055, 0.        , 0.05769231, 0.31967213, 0.57142857],\n",
       "       [0.6080402 , 0.        , 0.38461538, 0.42622951, 0.39795918],\n",
       "       [0.77889447, 0.        , 0.17307692, 0.51639344, 0.89795918],\n",
       "       [0.85929648, 1.        , 0.19230769, 0.59016393, 0.75510204],\n",
       "       [0.7839196 , 1.        , 0.36538462, 0.51639344, 0.        ],\n",
       "       [0.45728643, 1.        , 0.        , 0.36065574, 0.40816327],\n",
       "       [1.        , 1.        , 0.23076923, 1.        , 0.83673469],\n",
       "       [0.05527638, 0.        , 0.32692308, 0.03278689, 1.        ],\n",
       "       [0.59798995, 0.        , 0.61538462, 0.42622951, 0.57142857],\n",
       "       [0.51256281, 1.        , 0.94230769, 0.3852459 , 0.59183673],\n",
       "       [0.1758794 , 0.        , 0.05769231, 0.14754098, 0.81632653],\n",
       "       [0.28643216, 1.        , 0.98076923, 0.23770492, 0.45918367],\n",
       "       [0.32663317, 1.        , 0.        , 0.2704918 , 0.59183673],\n",
       "       [0.00502513, 1.        , 0.05769231, 0.        , 0.81632653],\n",
       "       [0.60301508, 1.        , 0.17307692, 0.42622951, 0.56122449],\n",
       "       [0.81407035, 1.        , 0.01923077, 0.54098361, 0.04081633],\n",
       "       [0.21105528, 1.        , 0.57692308, 0.19672131, 0.35714286],\n",
       "       [0.52763819, 0.        , 0.05769231, 0.3852459 , 0.41836735],\n",
       "       [0.66331658, 0.        , 0.13461538, 0.46721311, 0.33673469],\n",
       "       [0.86934673, 1.        , 0.34615385, 0.59016393, 0.92857143],\n",
       "       [0.08542714, 1.        , 0.03846154, 0.04918033, 0.66326531],\n",
       "       [0.19095477, 0.        , 0.34615385, 0.18032787, 0.25510204],\n",
       "       [0.66834171, 0.        , 0.25      , 0.46721311, 0.71428571],\n",
       "       [0.26633166, 1.        , 0.78846154, 0.2295082 , 0.60204082],\n",
       "       [0.78894472, 0.        , 0.23076923, 0.51639344, 0.78571429],\n",
       "       [0.64321608, 1.        , 0.78846154, 0.45901639, 0.10204082],\n",
       "       [0.17085427, 0.        , 0.59615385, 0.14754098, 0.13265306],\n",
       "       [0.14070352, 0.        , 0.42307692, 0.1147541 , 0.30612245],\n",
       "       [0.57286432, 0.        , 0.        , 0.40983607, 0.47959184],\n",
       "       [0.75879397, 1.        , 0.40384615, 0.51639344, 0.8877551 ],\n",
       "       [0.15577889, 0.        , 0.05769231, 0.12295082, 0.73469388],\n",
       "       [0.83417085, 1.        , 0.46153846, 0.58196721, 0.19387755],\n",
       "       [0.63819095, 1.        , 0.42307692, 0.45901639, 0.95918367],\n",
       "       [0.88442211, 1.        , 0.76923077, 0.59836066, 0.14285714],\n",
       "       [0.16080402, 1.        , 0.67307692, 0.14754098, 0.03061224],\n",
       "       [0.71356784, 0.        , 0.19230769, 0.5       , 0.39795918],\n",
       "       [0.84924623, 1.        , 0.26923077, 0.59016393, 0.63265306],\n",
       "       [0.73869347, 0.        , 0.26923077, 0.50819672, 0.74489796],\n",
       "       [0.14572864, 0.        , 0.09615385, 0.1147541 , 0.87755102],\n",
       "       [0.49748744, 1.        , 0.03846154, 0.37704918, 0.48979592],\n",
       "       [0.4120603 , 1.        , 0.94230769, 0.31967213, 0.40816327],\n",
       "       [0.39698492, 0.        , 0.59615385, 0.31967213, 0.41836735],\n",
       "       [0.57788945, 0.        , 0.01923077, 0.40983607, 0.5       ],\n",
       "       [0.74371859, 0.        , 0.30769231, 0.51639344, 0.21428571],\n",
       "       [0.96984925, 0.        , 0.38461538, 0.80327869, 0.91836735],\n",
       "       [0.36180905, 0.        , 0.80769231, 0.28688525, 0.48979592],\n",
       "       [0.38693467, 1.        , 0.42307692, 0.31967213, 0.47959184],\n",
       "       [0.12562814, 1.        , 0.21153846, 0.10655738, 0.82653061],\n",
       "       [0.82914573, 0.        , 0.34615385, 0.57377049, 0.75510204],\n",
       "       [0.40703518, 1.        , 0.38461538, 0.31967213, 0.55102041],\n",
       "       [0.94472362, 0.        , 0.44230769, 0.72131148, 0.16326531],\n",
       "       [0.87437186, 0.        , 0.65384615, 0.59836066, 0.12244898],\n",
       "       [0.95477387, 0.        , 0.30769231, 0.72131148, 0.2244898 ],\n",
       "       [0.1959799 , 0.        , 0.03846154, 0.18032787, 0.75510204],\n",
       "       [0.29145729, 0.        , 0.17307692, 0.25409836, 0.51020408],\n",
       "       [0.70351759, 0.        , 0.75      , 0.49180328, 0.04081633],\n",
       "       [0.44221106, 0.        , 0.30769231, 0.35245902, 0.60204082],\n",
       "       [0.35175879, 1.        , 1.        , 0.27868852, 0.55102041],\n",
       "       [0.43718593, 0.        , 0.07692308, 0.3442623 , 0.55102041],\n",
       "       [0.18090452, 0.        , 0.46153846, 0.1557377 , 0.16326531],\n",
       "       [0.10552764, 1.        , 0.13461538, 0.07377049, 0.73469388],\n",
       "       [0.04522613, 0.        , 0.23076923, 0.03278689, 0.7244898 ],\n",
       "       [0.51758794, 1.        , 0.15384615, 0.3852459 , 0.55102041],\n",
       "       [0.33668342, 0.        , 0.96153846, 0.2704918 , 0.47959184],\n",
       "       [0.96482412, 1.        , 0.28846154, 0.80327869, 0.07142857],\n",
       "       [0.5879397 , 0.        , 0.59615385, 0.40983607, 0.59183673],\n",
       "       [0.2361809 , 0.        , 0.17307692, 0.20491803, 0.46938776],\n",
       "       [0.86432161, 1.        , 0.34615385, 0.59016393, 0.09183673]])"
      ]
     },
     "execution_count": 36,
     "metadata": {},
     "output_type": "execute_result"
    }
   ],
   "source": [
    "x_train"
   ]
  },
  {
   "cell_type": "code",
   "execution_count": 37,
   "id": "0d8d93f2",
   "metadata": {},
   "outputs": [
    {
     "data": {
      "text/plain": [
       "(140, 5)"
      ]
     },
     "execution_count": 37,
     "metadata": {},
     "output_type": "execute_result"
    }
   ],
   "source": [
    "x_train.shape"
   ]
  },
  {
   "cell_type": "code",
   "execution_count": 38,
   "id": "c299faa5",
   "metadata": {},
   "outputs": [
    {
     "data": {
      "text/plain": [
       "array([[0.09045226, 1.        , 0.65384615, 0.06557377, 0.28571429],\n",
       "       [0.85427136, 1.        , 0.42307692, 0.59016393, 0.12244898],\n",
       "       [0.53768844, 1.        , 0.69230769, 0.39344262, 0.45918367],\n",
       "       [0.49246231, 1.        , 0.57692308, 0.37704918, 0.41836735],\n",
       "       [0.88944724, 1.        , 0.17307692, 0.59836066, 0.69387755],\n",
       "       [0.91457286, 1.        , 0.53846154, 0.68032787, 0.14285714],\n",
       "       [0.02512563, 0.        , 0.07692308, 0.01639344, 0.76530612],\n",
       "       [0.73366834, 1.        , 0.57692308, 0.50819672, 0.35714286],\n",
       "       [0.06030151, 0.        , 0.76923077, 0.04098361, 0.14285714],\n",
       "       [0.7638191 , 0.        , 0.5       , 0.51639344, 0.19387755],\n",
       "       [0.30653266, 1.        , 0.01923077, 0.25409836, 0.55102041],\n",
       "       [0.6281407 , 0.        , 0.25      , 0.45081967, 0.7755102 ],\n",
       "       [0.90452261, 0.        , 0.36538462, 0.67213115, 0.31632653],\n",
       "       [0.77386935, 0.        , 0.55769231, 0.51639344, 0.15306122],\n",
       "       [0.40201005, 1.        , 0.75      , 0.31967213, 0.51020408],\n",
       "       [0.03517588, 0.        , 0.09615385, 0.02459016, 0.94897959],\n",
       "       [0.16582915, 1.        , 0.        , 0.14754098, 0.92857143],\n",
       "       [0.65326633, 1.        , 0.55769231, 0.45901639, 0.08163265],\n",
       "       [0.18592965, 0.        , 0.23076923, 0.1557377 , 0.73469388],\n",
       "       [0.3718593 , 1.        , 0.78846154, 0.31967213, 0.46938776],\n",
       "       [0.91959799, 0.        , 0.21153846, 0.68032787, 0.8877551 ],\n",
       "       [0.72864322, 1.        , 0.19230769, 0.50819672, 0.97959184],\n",
       "       [0.22613065, 0.        , 0.11538462, 0.19672131, 0.65306122],\n",
       "       [0.79899497, 0.        , 0.23076923, 0.51639344, 0.73469388],\n",
       "       [0.30150754, 1.        , 1.        , 0.25409836, 0.56122449],\n",
       "       [0.61809045, 1.        , 0.40384615, 0.44262295, 0.91836735],\n",
       "       [0.89949749, 1.        , 0.32692308, 0.63934426, 0.90816327],\n",
       "       [0.92964824, 1.        , 0.23076923, 0.68852459, 0.97959184],\n",
       "       [0.61306533, 0.        , 0.42307692, 0.44262295, 0.58163265],\n",
       "       [0.22110553, 0.        , 0.59615385, 0.19672131, 0.2755102 ],\n",
       "       [0.08040201, 0.        , 0.32692308, 0.04918033, 0.34693878],\n",
       "       [0.27638191, 1.        , 0.55769231, 0.2295082 , 0.40816327],\n",
       "       [0.75376884, 1.        , 0.48076923, 0.51639344, 0.16326531],\n",
       "       [0.55778894, 0.        , 0.01923077, 0.39344262, 0.54081633],\n",
       "       [0.11055276, 0.        , 0.53846154, 0.08196721, 0.04081633],\n",
       "       [0.94974874, 0.        , 0.34615385, 0.72131148, 0.85714286],\n",
       "       [0.64824121, 1.        , 0.38461538, 0.45901639, 0.75510204],\n",
       "       [0.0201005 , 0.        , 0.25      , 0.01639344, 0.39795918],\n",
       "       [0.41708543, 0.        , 0.53846154, 0.31967213, 0.43877551],\n",
       "       [0.53266332, 0.        , 0.92307692, 0.39344262, 0.5       ],\n",
       "       [0.67336683, 1.        , 0.03846154, 0.47540984, 0.04081633],\n",
       "       [0.33165829, 0.        , 0.48076923, 0.2704918 , 0.5       ],\n",
       "       [0.13065327, 0.        , 0.51923077, 0.10655738, 0.31632653],\n",
       "       [0.5678392 , 1.        , 0.01923077, 0.40163934, 0.45918367],\n",
       "       [0.84422111, 0.        , 0.34615385, 0.59016393, 0.26530612],\n",
       "       [0.31658291, 0.        , 0.69230769, 0.26229508, 0.59183673],\n",
       "       [0.04020101, 1.        , 0.88461538, 0.03278689, 0.02040816],\n",
       "       [0.37688442, 1.        , 0.15384615, 0.31967213, 0.54081633],\n",
       "       [0.59296482, 0.        , 0.63461538, 0.42622951, 0.42857143],\n",
       "       [0.71859296, 0.        , 0.26923077, 0.5       , 0.87755102],\n",
       "       [0.35678392, 0.        , 0.55769231, 0.27868852, 0.41836735],\n",
       "       [0.62311558, 0.        , 0.09615385, 0.45081967, 0.28571429],\n",
       "       [0.92462312, 0.        , 0.44230769, 0.68852459, 0.3877551 ],\n",
       "       [0.48743719, 0.        , 0.17307692, 0.36885246, 0.5       ],\n",
       "       [0.74874372, 1.        , 0.30769231, 0.51639344, 0.90816327],\n",
       "       [0.12060302, 0.        , 0.69230769, 0.10655738, 0.13265306],\n",
       "       [0.15075377, 1.        , 0.80769231, 0.12295082, 0.03061224],\n",
       "       [0.8040201 , 0.        , 0.73076923, 0.52459016, 0.34693878],\n",
       "       [0.20100503, 0.        , 0.90384615, 0.18852459, 0.34693878],\n",
       "       [0.28140704, 0.        , 0.63461538, 0.23770492, 0.5       ]])"
      ]
     },
     "execution_count": 38,
     "metadata": {},
     "output_type": "execute_result"
    }
   ],
   "source": [
    "x_test"
   ]
  },
  {
   "cell_type": "code",
   "execution_count": 39,
   "id": "28b651f2",
   "metadata": {},
   "outputs": [
    {
     "data": {
      "text/plain": [
       "(60, 5)"
      ]
     },
     "execution_count": 39,
     "metadata": {},
     "output_type": "execute_result"
    }
   ],
   "source": [
    "x_test.shape"
   ]
  },
  {
   "cell_type": "code",
   "execution_count": 40,
   "id": "06ae6e07",
   "metadata": {},
   "outputs": [
    {
     "data": {
      "text/plain": [
       "131    5\n",
       "96     1\n",
       "181    3\n",
       "19     6\n",
       "153    3\n",
       "      ..\n",
       "67     1\n",
       "192    0\n",
       "117    1\n",
       "47     6\n",
       "172    0\n",
       "Name: Cluster_value, Length: 140, dtype: int32"
      ]
     },
     "execution_count": 40,
     "metadata": {},
     "output_type": "execute_result"
    }
   ],
   "source": [
    "y_train"
   ]
  },
  {
   "cell_type": "code",
   "execution_count": 41,
   "id": "d08225fc",
   "metadata": {
    "scrolled": true
   },
   "outputs": [
    {
     "data": {
      "text/plain": [
       "18     2\n",
       "170    0\n",
       "107    2\n",
       "98     2\n",
       "177    5\n",
       "182    0\n",
       "5      6\n",
       "146    0\n",
       "12     1\n",
       "152    4\n",
       "61     7\n",
       "125    3\n",
       "180    4\n",
       "154    4\n",
       "80     2\n",
       "7      6\n",
       "33     7\n",
       "130    0\n",
       "37     6\n",
       "74     2\n",
       "183    3\n",
       "145    5\n",
       "45     6\n",
       "159    3\n",
       "60     2\n",
       "123    5\n",
       "179    5\n",
       "185    5\n",
       "122    3\n",
       "44     1\n",
       "16     6\n",
       "55     2\n",
       "150    0\n",
       "111    6\n",
       "22     1\n",
       "189    3\n",
       "129    5\n",
       "4      6\n",
       "83     1\n",
       "106    1\n",
       "134    0\n",
       "66     1\n",
       "26     1\n",
       "113    7\n",
       "168    4\n",
       "63     1\n",
       "8      2\n",
       "75     7\n",
       "118    1\n",
       "143    3\n",
       "71     1\n",
       "124    4\n",
       "184    4\n",
       "97     6\n",
       "149    5\n",
       "24     1\n",
       "30     2\n",
       "160    4\n",
       "40     1\n",
       "56     1\n",
       "Name: Cluster_value, dtype: int32"
      ]
     },
     "execution_count": 41,
     "metadata": {},
     "output_type": "execute_result"
    }
   ],
   "source": [
    "y_test"
   ]
  },
  {
   "cell_type": "markdown",
   "id": "228488fc",
   "metadata": {},
   "source": [
    "# Building the Model"
   ]
  },
  {
   "cell_type": "markdown",
   "id": "69291605",
   "metadata": {},
   "source": [
    "# Multi linear regression model"
   ]
  },
  {
   "cell_type": "code",
   "execution_count": 46,
   "id": "52e7dd83",
   "metadata": {},
   "outputs": [
    {
     "data": {
      "text/plain": [
       "LinearRegression()"
      ]
     },
     "execution_count": 46,
     "metadata": {},
     "output_type": "execute_result"
    }
   ],
   "source": [
    "from sklearn.linear_model import LinearRegression\n",
    "mlr = LinearRegression()\n",
    "mlr.fit(x_train,y_train)"
   ]
  },
  {
   "cell_type": "code",
   "execution_count": 47,
   "id": "888b5050",
   "metadata": {},
   "outputs": [],
   "source": [
    "pred = mlr.predict(x_test)"
   ]
  },
  {
   "cell_type": "code",
   "execution_count": 48,
   "id": "0c8729ac",
   "metadata": {},
   "outputs": [
    {
     "data": {
      "text/plain": [
       "array([3.04182267, 1.72363252, 2.19692731, 2.83199711, 4.21004081,\n",
       "       1.26282747, 6.67709924, 1.8951481 , 1.67640064, 1.2107457 ,\n",
       "       6.3693973 , 4.35728713, 2.04422946, 0.77398667, 2.48725831,\n",
       "       7.02591345, 7.7441461 , 1.53175202, 5.55316362, 2.36527145,\n",
       "       4.17757591, 5.3474087 , 5.85399176, 3.67850651, 1.68960882,\n",
       "       4.50805193, 4.12362423, 4.80711679, 3.0824207 , 2.6102306 ,\n",
       "       4.24855413, 3.47430479, 1.79403499, 5.02781339, 2.42716919,\n",
       "       3.45593416, 4.0916693 , 4.94398802, 2.73282309, 0.70168897,\n",
       "       3.89241289, 3.43123658, 3.20615386, 5.31308438, 1.9981841 ,\n",
       "       2.69064691, 1.39980057, 5.58018712, 1.71819964, 4.22811374,\n",
       "       2.74991518, 3.89339797, 1.81063576, 4.46796368, 4.53392582,\n",
       "       1.96357718, 1.56391783, 0.29505994, 1.38192178, 2.8289225 ])"
      ]
     },
     "execution_count": 48,
     "metadata": {},
     "output_type": "execute_result"
    }
   ],
   "source": [
    "pred"
   ]
  },
  {
   "cell_type": "code",
   "execution_count": 49,
   "id": "00f85a0e",
   "metadata": {},
   "outputs": [
    {
     "data": {
      "text/plain": [
       "18     2\n",
       "170    0\n",
       "107    2\n",
       "98     2\n",
       "177    5\n",
       "182    0\n",
       "5      6\n",
       "146    0\n",
       "12     1\n",
       "152    4\n",
       "61     7\n",
       "125    3\n",
       "180    4\n",
       "154    4\n",
       "80     2\n",
       "7      6\n",
       "33     7\n",
       "130    0\n",
       "37     6\n",
       "74     2\n",
       "183    3\n",
       "145    5\n",
       "45     6\n",
       "159    3\n",
       "60     2\n",
       "123    5\n",
       "179    5\n",
       "185    5\n",
       "122    3\n",
       "44     1\n",
       "16     6\n",
       "55     2\n",
       "150    0\n",
       "111    6\n",
       "22     1\n",
       "189    3\n",
       "129    5\n",
       "4      6\n",
       "83     1\n",
       "106    1\n",
       "134    0\n",
       "66     1\n",
       "26     1\n",
       "113    7\n",
       "168    4\n",
       "63     1\n",
       "8      2\n",
       "75     7\n",
       "118    1\n",
       "143    3\n",
       "71     1\n",
       "124    4\n",
       "184    4\n",
       "97     6\n",
       "149    5\n",
       "24     1\n",
       "30     2\n",
       "160    4\n",
       "40     1\n",
       "56     1\n",
       "Name: Cluster_value, dtype: int32"
      ]
     },
     "execution_count": 49,
     "metadata": {},
     "output_type": "execute_result"
    }
   ],
   "source": [
    "y_test"
   ]
  },
  {
   "cell_type": "markdown",
   "id": "c0c52377",
   "metadata": {},
   "source": [
    "# Performance metrics"
   ]
  },
  {
   "cell_type": "code",
   "execution_count": 50,
   "id": "3ee9071d",
   "metadata": {},
   "outputs": [],
   "source": [
    "from sklearn.metrics import r2_score\n",
    "from sklearn.metrics import mean_squared_error"
   ]
  },
  {
   "cell_type": "code",
   "execution_count": 51,
   "id": "cfe71126",
   "metadata": {},
   "outputs": [
    {
     "data": {
      "text/plain": [
       "2.191833850151446"
      ]
     },
     "execution_count": 51,
     "metadata": {},
     "output_type": "execute_result"
    }
   ],
   "source": [
    "mse= mean_squared_error(y_test,pred)\n",
    "mse\n"
   ]
  },
  {
   "cell_type": "code",
   "execution_count": 52,
   "id": "e53180af",
   "metadata": {},
   "outputs": [
    {
     "data": {
      "text/plain": [
       "1.480484329586587"
      ]
     },
     "execution_count": 52,
     "metadata": {},
     "output_type": "execute_result"
    }
   ],
   "source": [
    "rmse = np.sqrt(mse)\n",
    "rmse"
   ]
  },
  {
   "cell_type": "code",
   "execution_count": 53,
   "id": "2ed59c44",
   "metadata": {},
   "outputs": [
    {
     "data": {
      "text/plain": [
       "0.538453330571759"
      ]
     },
     "execution_count": 53,
     "metadata": {},
     "output_type": "execute_result"
    }
   ],
   "source": [
    "r2_score(y_test,pred)\n"
   ]
  }
 ],
 "metadata": {
  "kernelspec": {
   "display_name": "Python 3 (ipykernel)",
   "language": "python",
   "name": "python3"
  },
  "language_info": {
   "codemirror_mode": {
    "name": "ipython",
    "version": 3
   },
   "file_extension": ".py",
   "mimetype": "text/x-python",
   "name": "python",
   "nbconvert_exporter": "python",
   "pygments_lexer": "ipython3",
   "version": "3.9.12"
  }
 },
 "nbformat": 4,
 "nbformat_minor": 5
}
