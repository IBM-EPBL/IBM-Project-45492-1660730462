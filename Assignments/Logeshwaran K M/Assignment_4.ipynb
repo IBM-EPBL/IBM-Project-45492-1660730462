{
  "cells": [
    {
      "cell_type": "code",
      "execution_count": 1,
      "id": "54a607ce",
      "metadata": {
        "id": "54a607ce"
      },
      "outputs": [],
      "source": [
        "import numpy as np\n",
        "import pandas as pd\n",
        "import seaborn as sns\n",
        "import matplotlib.pyplot as plt\n",
        "import sklearn"
      ]
    },
    {
      "cell_type": "code",
      "execution_count": 2,
      "id": "06cbfc85",
      "metadata": {
        "id": "06cbfc85"
      },
      "outputs": [],
      "source": [
        "data = pd.read_csv(r\"Mall_Customers.csv\")"
      ]
    },
    {
      "cell_type": "markdown",
      "id": "7b5d0adf",
      "metadata": {
        "id": "7b5d0adf"
      },
      "source": [
        "# Data Visualisation"
      ]
    },
    {
      "cell_type": "markdown",
      "id": "74995f88",
      "metadata": {
        "id": "74995f88"
      },
      "source": [
        "# 1.Univariate Analysis"
      ]
    },
    {
      "cell_type": "code",
      "execution_count": 4,
      "id": "8f9a7b1d",
      "metadata": {
        "scrolled": true,
        "colab": {
          "base_uri": "https://localhost:8080/",
          "height": 386
        },
        "id": "8f9a7b1d",
        "outputId": "9de202de-555e-4154-f047-6ef5f327f2c3"
      },
      "outputs": [
        {
          "output_type": "execute_result",
          "data": {
            "text/plain": [
              "<seaborn.axisgrid.FacetGrid at 0x7f53d76cd290>"
            ]
          },
          "metadata": {},
          "execution_count": 4
        },
        {
          "output_type": "display_data",
          "data": {
            "text/plain": [
              "<Figure size 360x360 with 1 Axes>"
            ],
            "image/png": "[encoded data removed]"
          },
          "metadata": {
            "needs_background": "light"
          }
        }
      ],
      "source": [
        "sns.displot(data['Annual Income (k$)'])"
      ]
    },
    {
      "cell_type": "code",
      "execution_count": 5,
      "id": "d01671e8",
      "metadata": {
        "colab": {
          "base_uri": "https://localhost:8080/",
          "height": 296
        },
        "id": "d01671e8",
        "outputId": "1b9ac5af-6685-40c8-809a-2dcbcf8b6c17"
      },
      "outputs": [
        {
          "output_type": "execute_result",
          "data": {
            "text/plain": [
              "<matplotlib.axes._subplots.AxesSubplot at 0x7f53d4d89d10>"
            ]
          },
          "metadata": {},
          "execution_count": 5
        },
        {
          "output_type": "display_data",
          "data": {
            "text/plain": [
              "<Figure size 432x288 with 1 Axes>"
            ],
            "image/png": "[encoded data removed]"
          },
          "metadata": {
            "needs_background": "light"
          }
        }
      ],
      "source": [
        "sns.histplot(data['Annual Income (k$)'])"
      ]
    },
    {
      "cell_type": "code",
      "execution_count": 9,
      "id": "a732aa01",
      "metadata": {
        "colab": {
          "base_uri": "https://localhost:8080/",
          "height": 351
        },
        "id": "a732aa01",
        "outputId": "2fb2b4c8-0ecd-46a3-cb9d-097222828a35"
      },
      "outputs": [
        {
          "output_type": "stream",
          "name": "stderr",
          "text": [
            "/usr/local/lib/python3.7/dist-packages/seaborn/_decorators.py:43: FutureWarning: Pass the following variable as a keyword arg: x. From version 0.12, the only valid positional argument will be `data`, and passing other arguments without an explicit keyword will result in an error or misinterpretation.\n",
            "  FutureWarning\n"
          ]
        },
        {
          "output_type": "execute_result",
          "data": {
            "text/plain": [
              "<matplotlib.axes._subplots.AxesSubplot at 0x7f53d47bce10>"
            ]
          },
          "metadata": {},
          "execution_count": 9
        },
        {
          "output_type": "display_data",
          "data": {
            "text/plain": [
              "<Figure size 432x288 with 1 Axes>"
            ],
            "image/png": "[encoded data removed]"
          },
          "metadata": {
            "needs_background": "light"
          }
        }
      ],
      "source": [
        "sns.boxplot(data['Annual Income (k$)'])"
      ]
    },
    {
      "cell_type": "markdown",
      "id": "d49aeb21",
      "metadata": {
        "id": "d49aeb21"
      },
      "source": [
        "# Bivariate Analaysis"
      ]
    },
    {
      "cell_type": "code",
      "execution_count": 14,
      "id": "22b8dbbe",
      "metadata": {
        "colab": {
          "base_uri": "https://localhost:8080/",
          "height": 351
        },
        "id": "22b8dbbe",
        "outputId": "38a20598-6fda-4f0b-8e5e-9c12f29d950e"
      },
      "outputs": [
        {
          "output_type": "stream",
          "name": "stderr",
          "text": [
            "/usr/local/lib/python3.7/dist-packages/seaborn/_decorators.py:43: FutureWarning: Pass the following variables as keyword args: x, y. From version 0.12, the only valid positional argument will be `data`, and passing other arguments without an explicit keyword will result in an error or misinterpretation.\n",
            "  FutureWarning\n"
          ]
        },
        {
          "output_type": "execute_result",
          "data": {
            "text/plain": [
              "<matplotlib.axes._subplots.AxesSubplot at 0x7f53d1dbfa10>"
            ]
          },
          "metadata": {},
          "execution_count": 14
        },
        {
          "output_type": "display_data",
          "data": {
            "text/plain": [
              "<Figure size 432x288 with 1 Axes>"
            ],
            "image/png": "[encoded data removed]"
          },
          "metadata": {
            "needs_background": "light"
          }
        }
      ],
      "source": [
        "sns.lineplot(data['Age'], data['Annual Income (k$)'])"
      ]
    },
    {
      "cell_type": "code",
      "execution_count": 15,
      "id": "b218ecd7",
      "metadata": {
        "colab": {
          "base_uri": "https://localhost:8080/",
          "height": 351
        },
        "id": "b218ecd7",
        "outputId": "4b3d9f47-cc00-4eeb-b66b-0a387f428331"
      },
      "outputs": [
        {
          "output_type": "stream",
          "name": "stderr",
          "text": [
            "/usr/local/lib/python3.7/dist-packages/seaborn/_decorators.py:43: FutureWarning: Pass the following variables as keyword args: x, y. From version 0.12, the only valid positional argument will be `data`, and passing other arguments without an explicit keyword will result in an error or misinterpretation.\n",
            "  FutureWarning\n"
          ]
        },
        {
          "output_type": "execute_result",
          "data": {
            "text/plain": [
              "<matplotlib.axes._subplots.AxesSubplot at 0x7f53d1cdc7d0>"
            ]
          },
          "metadata": {},
          "execution_count": 15
        },
        {
          "output_type": "display_data",
          "data": {
            "text/plain": [
              "<Figure size 432x288 with 1 Axes>"
            ],
            "image/png": "[encoded data removed]"
          },
          "metadata": {
            "needs_background": "light"
          }
        }
      ],
      "source": [
        "sns.barplot(data['Spending Score (1-100)'], data['Annual Income (k$)'])"
      ]
    },
    {
      "cell_type": "code",
      "execution_count": 16,
      "id": "95d2eea1",
      "metadata": {
        "colab": {
          "base_uri": "https://localhost:8080/",
          "height": 1000
        },
        "id": "95d2eea1",
        "outputId": "2494ca38-8e89-4d10-fcfd-df13cc84225f"
      },
      "outputs": [
        {
          "output_type": "stream",
          "name": "stderr",
          "text": [
            "/usr/local/lib/python3.7/dist-packages/seaborn/_decorators.py:43: FutureWarning: Pass the following variables as keyword args: x, y. From version 0.12, the only valid positional argument will be `data`, and passing other arguments without an explicit keyword will result in an error or misinterpretation.\n",
            "  FutureWarning\n"
          ]
        },
        {
          "output_type": "execute_result",
          "data": {
            "text/plain": [
              "<matplotlib.axes._subplots.AxesSubplot at 0x7f53d1a5f9d0>"
            ]
          },
          "metadata": {},
          "execution_count": 16
        },
        {
          "output_type": "display_data",
          "data": {
            "text/plain": [
              "<Figure size 3240x3600 with 1 Axes>"
            ],
            "image/png": "[encoded data removed]"
          },
          "metadata": {
            "needs_background": "light"
          }
        }
      ],
      "source": [
        "plt.figure(figsize=(45,50))\n",
        "sns.barplot(data['Spending Score (1-100)'], data['Annual Income (k$)'])"
      ]
    },
    {
      "cell_type": "markdown",
      "id": "8075d4b0",
      "metadata": {
        "id": "8075d4b0"
      },
      "source": [
        "# Multi variate analysis"
      ]
    },
    {
      "cell_type": "code",
      "execution_count": 17,
      "id": "2243ef62",
      "metadata": {
        "colab": {
          "base_uri": "https://localhost:8080/",
          "height": 351
        },
        "id": "2243ef62",
        "outputId": "e0ee0212-8135-4808-c4a3-b4a95a180c44"
      },
      "outputs": [
        {
          "output_type": "stream",
          "name": "stderr",
          "text": [
            "/usr/local/lib/python3.7/dist-packages/seaborn/_decorators.py:43: FutureWarning: Pass the following variables as keyword args: x, y. From version 0.12, the only valid positional argument will be `data`, and passing other arguments without an explicit keyword will result in an error or misinterpretation.\n",
            "  FutureWarning\n"
          ]
        },
        {
          "output_type": "execute_result",
          "data": {
            "text/plain": [
              "<matplotlib.axes._subplots.AxesSubplot at 0x7f53d1632610>"
            ]
          },
          "metadata": {},
          "execution_count": 17
        },
        {
          "output_type": "display_data",
          "data": {
            "text/plain": [
              "<Figure size 432x288 with 1 Axes>"
            ],
            "image/png": "[encoded data removed]"
          },
          "metadata": {
            "needs_background": "light"
          }
        }
      ],
      "source": [
        "sns.scatterplot(data['Annual Income (k$)'], data['Spending Score (1-100)'], hue = data['Age'])"
      ]
    },
    {
      "cell_type": "code",
      "execution_count": null,
      "id": "af95d2e2",
      "metadata": {
        "scrolled": true,
        "id": "af95d2e2",
        "outputId": "efd6a5b2-e66f-400b-b1c2-5732d3236bd8"
      },
      "outputs": [
        {
          "data": {
            "text/plain": [
              "<seaborn.axisgrid.PairGrid at 0x2244b052160>"
            ]
          },
          "execution_count": 29,
          "metadata": {},
          "output_type": "execute_result"
        },
        {
          "data": {
            "image/png": "[encoded data removed]",
            "text/plain": [
              "<Figure size 720x720 with 20 Axes>"
            ]
          },
          "metadata": {
            "needs_background": "light"
          },
          "output_type": "display_data"
        }
      ],
      "source": [
        "sns.pairplot(data)"
      ]
    },
    {
      "cell_type": "markdown",
      "id": "9ac7d108",
      "metadata": {
        "id": "9ac7d108"
      },
      "source": [
        "# descriptive Statistics "
      ]
    },
    {
      "cell_type": "code",
      "execution_count": 21,
      "id": "77adc846",
      "metadata": {
        "scrolled": true,
        "colab": {
          "base_uri": "https://localhost:8080/"
        },
        "id": "77adc846",
        "outputId": "e60e462f-5c26-4267-8aa7-1d0d806a99bc"
      },
      "outputs": [
        {
          "output_type": "execute_result",
          "data": {
            "text/plain": [
              "CustomerID                100.50\n",
              "Age                        38.85\n",
              "Annual Income (k$)         60.56\n",
              "Spending Score (1-100)     50.20\n",
              "dtype: float64"
            ]
          },
          "metadata": {},
          "execution_count": 21
        }
      ],
      "source": [
        "data.mean(numeric_only = True)"
      ]
    },
    {
      "cell_type": "code",
      "execution_count": 22,
      "id": "f157154f",
      "metadata": {
        "colab": {
          "base_uri": "https://localhost:8080/"
        },
        "id": "f157154f",
        "outputId": "46943fbc-f5e9-44e2-a11b-9530df20ca8a"
      },
      "outputs": [
        {
          "output_type": "execute_result",
          "data": {
            "text/plain": [
              "CustomerID                100.5\n",
              "Age                        36.0\n",
              "Annual Income (k$)         61.5\n",
              "Spending Score (1-100)     50.0\n",
              "dtype: float64"
            ]
          },
          "metadata": {},
          "execution_count": 22
        }
      ],
      "source": [
        "data.median(numeric_only = True)"
      ]
    },
    {
      "cell_type": "code",
      "execution_count": 23,
      "id": "dd70afa1",
      "metadata": {
        "colab": {
          "base_uri": "https://localhost:8080/"
        },
        "id": "dd70afa1",
        "outputId": "ea1eafd4-9a02-4007-96db-34f5573dcd5e"
      },
      "outputs": [
        {
          "output_type": "execute_result",
          "data": {
            "text/plain": [
              "0    32\n",
              "dtype: int64"
            ]
          },
          "metadata": {},
          "execution_count": 23
        }
      ],
      "source": [
        "data['Age'].mode()"
      ]
    },
    {
      "cell_type": "code",
      "execution_count": 24,
      "id": "b139ce6f",
      "metadata": {
        "colab": {
          "base_uri": "https://localhost:8080/"
        },
        "id": "b139ce6f",
        "outputId": "f922721e-5517-4509-db12-37e91c051f54"
      },
      "outputs": [
        {
          "output_type": "execute_result",
          "data": {
            "text/plain": [
              "array([ 15,  16,  17,  18,  19,  20,  21,  23,  24,  25,  28,  29,  30,\n",
              "        33,  34,  37,  38,  39,  40,  42,  43,  44,  46,  47,  48,  49,\n",
              "        50,  54,  57,  58,  59,  60,  61,  62,  63,  64,  65,  67,  69,\n",
              "        70,  71,  72,  73,  74,  75,  76,  77,  78,  79,  81,  85,  86,\n",
              "        87,  88,  93,  97,  98,  99, 101, 103, 113, 120, 126, 137])"
            ]
          },
          "metadata": {},
          "execution_count": 24
        }
      ],
      "source": [
        "data['Annual Income (k$)'].unique()"
      ]
    },
    {
      "cell_type": "code",
      "execution_count": 25,
      "id": "02846b07",
      "metadata": {
        "colab": {
          "base_uri": "https://localhost:8080/"
        },
        "id": "02846b07",
        "outputId": "abe70fb3-2406-4257-a12f-5534433d847d"
      },
      "outputs": [
        {
          "output_type": "execute_result",
          "data": {
            "text/plain": [
              "CustomerID                57.879185\n",
              "Age                       13.969007\n",
              "Annual Income (k$)        26.264721\n",
              "Spending Score (1-100)    25.823522\n",
              "dtype: float64"
            ]
          },
          "metadata": {},
          "execution_count": 25
        }
      ],
      "source": [
        "data.std(numeric_only=True)"
      ]
    },
    {
      "cell_type": "code",
      "execution_count": 26,
      "id": "388959f5",
      "metadata": {
        "colab": {
          "base_uri": "https://localhost:8080/",
          "height": 0
        },
        "id": "388959f5",
        "outputId": "e9e657a7-2add-4290-f7e1-82ade2eedbc5"
      },
      "outputs": [
        {
          "output_type": "execute_result",
          "data": {
            "text/plain": [
              "       CustomerID         Age  Annual Income (k$)  Spending Score (1-100)\n",
              "count  200.000000  200.000000          200.000000              200.000000\n",
              "mean   100.500000   38.850000           60.560000               50.200000\n",
              "std     57.879185   13.969007           26.264721               25.823522\n",
              "min      1.000000   18.000000           15.000000                1.000000\n",
              "25%     50.750000   28.750000           41.500000               34.750000\n",
              "50%    100.500000   36.000000           61.500000               50.000000\n",
              "75%    150.250000   49.000000           78.000000               73.000000\n",
              "max    200.000000   70.000000          137.000000               99.000000"
            ],
            "text/html": [
              "\n",
              "  <div id=\"df-06c2d59a-4418-4dae-8db1-8d90bed49bcc\">\n",
              "    <div class=\"colab-df-container\">\n",
              "      <div>\n",
              "<style scoped>\n",
              "    .dataframe tbody tr th:only-of-type {\n",
              "        vertical-align: middle;\n",
              "    }\n",
              "\n",
              "    .dataframe tbody tr th {\n",
              "        vertical-align: top;\n",
              "    }\n",
              "\n",
              "    .dataframe thead th {\n",
              "        text-align: right;\n",
              "    }\n",
              "</style>\n",
              "<table border=\"1\" class=\"dataframe\">\n",
              "  <thead>\n",
              "    <tr style=\"text-align: right;\">\n",
              "      <th></th>\n",
              "      <th>CustomerID</th>\n",
              "      <th>Age</th>\n",
              "      <th>Annual Income (k$)</th>\n",
              "      <th>Spending Score (1-100)</th>\n",
              "    </tr>\n",
              "  </thead>\n",
              "  <tbody>\n",
              "    <tr>\n",
              "      <th>count</th>\n",
              "      <td>200.000000</td>\n",
              "      <td>200.000000</td>\n",
              "      <td>200.000000</td>\n",
              "      <td>200.000000</td>\n",
              "    </tr>\n",
              "    <tr>\n",
              "      <th>mean</th>\n",
              "      <td>100.500000</td>\n",
              "      <td>38.850000</td>\n",
              "      <td>60.560000</td>\n",
              "      <td>50.200000</td>\n",
              "    </tr>\n",
              "    <tr>\n",
              "      <th>std</th>\n",
              "      <td>57.879185</td>\n",
              "      <td>13.969007</td>\n",
              "      <td>26.264721</td>\n",
              "      <td>25.823522</td>\n",
              "    </tr>\n",
              "    <tr>\n",
              "      <th>min</th>\n",
              "      <td>1.000000</td>\n",
              "      <td>18.000000</td>\n",
              "      <td>15.000000</td>\n",
              "      <td>1.000000</td>\n",
              "    </tr>\n",
              "    <tr>\n",
              "      <th>25%</th>\n",
              "      <td>50.750000</td>\n",
              "      <td>28.750000</td>\n",
              "      <td>41.500000</td>\n",
              "      <td>34.750000</td>\n",
              "    </tr>\n",
              "    <tr>\n",
              "      <th>50%</th>\n",
              "      <td>100.500000</td>\n",
              "      <td>36.000000</td>\n",
              "      <td>61.500000</td>\n",
              "      <td>50.000000</td>\n",
              "    </tr>\n",
              "    <tr>\n",
              "      <th>75%</th>\n",
              "      <td>150.250000</td>\n",
              "      <td>49.000000</td>\n",
              "      <td>78.000000</td>\n",
              "      <td>73.000000</td>\n",
              "    </tr>\n",
              "    <tr>\n",
              "      <th>max</th>\n",
              "      <td>200.000000</td>\n",
              "      <td>70.000000</td>\n",
              "      <td>137.000000</td>\n",
              "      <td>99.000000</td>\n",
              "    </tr>\n",
              "  </tbody>\n",
              "</table>\n",
              "</div>\n",
              "      <button class=\"colab-df-convert\" onclick=\"convertToInteractive('df-06c2d59a-4418-4dae-8db1-8d90bed49bcc')\"\n",
              "              title=\"Convert this dataframe to an interactive table.\"\n",
              "              style=\"display:none;\">\n",
              "        \n",
              "  <svg xmlns=\"http://www.w3.org/2000/svg\" height=\"24px\"viewBox=\"0 0 24 24\"\n",
              "       width=\"24px\">\n",
              "    <path d=\"M0 0h24v24H0V0z\" fill=\"none\"/>\n",
              "    <path d=\"M18.56 5.44l.94 2.06.94-2.06 2.06-.94-2.06-.94-.94-2.06-.94 2.06-2.06.94zm-11 1L8.5 8.5l.94-2.06 2.06-.94-2.06-.94L8.5 2.5l-.94 2.06-2.06.94zm10 10l.94 2.06.94-2.06 2.06-.94-2.06-.94-.94-2.06-.94 2.06-2.06.94z\"/><path d=\"M17.41 7.96l-1.37-1.37c-.4-.4-.92-.59-1.43-.59-.52 0-1.04.2-1.43.59L10.3 9.45l-7.72 7.72c-.78.78-.78 2.05 0 2.83L4 21.41c.39.39.9.59 1.41.59.51 0 1.02-.2 1.41-.59l7.78-7.78 2.81-2.81c.8-.78.8-2.07 0-2.86zM5.41 20L4 18.59l7.72-7.72 1.47 1.35L5.41 20z\"/>\n",
              "  </svg>\n",
              "      </button>\n",
              "      \n",
              "  <style>\n",
              "    .colab-df-container {\n",
              "      display:flex;\n",
              "      flex-wrap:wrap;\n",
              "      gap: 12px;\n",
              "    }\n",
              "\n",
              "    .colab-df-convert {\n",
              "      background-color: #E8F0FE;\n",
              "      border: none;\n",
              "      border-radius: 50%;\n",
              "      cursor: pointer;\n",
              "      display: none;\n",
              "      fill: #1967D2;\n",
              "      height: 32px;\n",
              "      padding: 0 0 0 0;\n",
              "      width: 32px;\n",
              "    }\n",
              "\n",
              "    .colab-df-convert:hover {\n",
              "      background-color: #E2EBFA;\n",
              "      box-shadow: 0px 1px 2px rgba(60, 64, 67, 0.3), 0px 1px 3px 1px rgba(60, 64, 67, 0.15);\n",
              "      fill: #174EA6;\n",
              "    }\n",
              "\n",
              "    [theme=dark] .colab-df-convert {\n",
              "      background-color: #3B4455;\n",
              "      fill: #D2E3FC;\n",
              "    }\n",
              "\n",
              "    [theme=dark] .colab-df-convert:hover {\n",
              "      background-color: #434B5C;\n",
              "      box-shadow: 0px 1px 3px 1px rgba(0, 0, 0, 0.15);\n",
              "      filter: drop-shadow(0px 1px 2px rgba(0, 0, 0, 0.3));\n",
              "      fill: #FFFFFF;\n",
              "    }\n",
              "  </style>\n",
              "\n",
              "      <script>\n",
              "        const buttonEl =\n",
              "          document.querySelector('#df-06c2d59a-4418-4dae-8db1-8d90bed49bcc button.colab-df-convert');\n",
              "        buttonEl.style.display =\n",
              "          google.colab.kernel.accessAllowed ? 'block' : 'none';\n",
              "\n",
              "        async function convertToInteractive(key) {\n",
              "          const element = document.querySelector('#df-06c2d59a-4418-4dae-8db1-8d90bed49bcc');\n",
              "          const dataTable =\n",
              "            await google.colab.kernel.invokeFunction('convertToInteractive',\n",
              "                                                     [key], {});\n",
              "          if (!dataTable) return;\n",
              "\n",
              "          const docLinkHtml = 'Like what you see? Visit the ' +\n",
              "            '<a target=\"_blank\" href=https://colab.research.google.com/notebooks/data_table.ipynb>data table notebook</a>'\n",
              "            + ' to learn more about interactive tables.';\n",
              "          element.innerHTML = '';\n",
              "          dataTable['output_type'] = 'display_data';\n",
              "          await google.colab.output.renderOutput(dataTable, element);\n",
              "          const docLink = document.createElement('div');\n",
              "          docLink.innerHTML = docLinkHtml;\n",
              "          element.appendChild(docLink);\n",
              "        }\n",
              "      </script>\n",
              "    </div>\n",
              "  </div>\n",
              "  "
            ]
          },
          "metadata": {},
          "execution_count": 26
        }
      ],
      "source": [
        "data.describe()"
      ]
    },
    {
      "cell_type": "code",
      "execution_count": 27,
      "id": "6e6247f4",
      "metadata": {
        "colab": {
          "base_uri": "https://localhost:8080/"
        },
        "id": "6e6247f4",
        "outputId": "d6a6f450-fe06-45cf-f49b-21b56725d03d"
      },
      "outputs": [
        {
          "output_type": "execute_result",
          "data": {
            "text/plain": [
              "CustomerID                False\n",
              "Gender                    False\n",
              "Age                       False\n",
              "Annual Income (k$)        False\n",
              "Spending Score (1-100)    False\n",
              "dtype: bool"
            ]
          },
          "metadata": {},
          "execution_count": 27
        }
      ],
      "source": [
        "data.isnull().any()"
      ]
    },
    {
      "cell_type": "code",
      "execution_count": 28,
      "id": "fdc5a1dc",
      "metadata": {
        "colab": {
          "base_uri": "https://localhost:8080/"
        },
        "id": "fdc5a1dc",
        "outputId": "fe09173f-759f-40eb-9f70-45b46641fc2d"
      },
      "outputs": [
        {
          "output_type": "execute_result",
          "data": {
            "text/plain": [
              "CustomerID                0\n",
              "Gender                    0\n",
              "Age                       0\n",
              "Annual Income (k$)        0\n",
              "Spending Score (1-100)    0\n",
              "dtype: int64"
            ]
          },
          "metadata": {},
          "execution_count": 28
        }
      ],
      "source": [
        "data.isnull().sum()\n"
      ]
    },
    {
      "cell_type": "markdown",
      "id": "45e02acb",
      "metadata": {
        "id": "45e02acb"
      },
      "source": [
        "# Outliers"
      ]
    },
    {
      "cell_type": "code",
      "execution_count": 29,
      "id": "95a8ac15",
      "metadata": {
        "scrolled": false,
        "colab": {
          "base_uri": "https://localhost:8080/",
          "height": 351
        },
        "id": "95a8ac15",
        "outputId": "388e0e5f-b232-4339-81b3-6ebd4899b810"
      },
      "outputs": [
        {
          "output_type": "stream",
          "name": "stderr",
          "text": [
            "/usr/local/lib/python3.7/dist-packages/seaborn/_decorators.py:43: FutureWarning: Pass the following variable as a keyword arg: x. From version 0.12, the only valid positional argument will be `data`, and passing other arguments without an explicit keyword will result in an error or misinterpretation.\n",
            "  FutureWarning\n"
          ]
        },
        {
          "output_type": "execute_result",
          "data": {
            "text/plain": [
              "<matplotlib.axes._subplots.AxesSubplot at 0x7f53cfa70350>"
            ]
          },
          "metadata": {},
          "execution_count": 29
        },
        {
          "output_type": "display_data",
          "data": {
            "text/plain": [
              "<Figure size 432x288 with 1 Axes>"
            ],
            "image/png": "[encoded data removed]"
          },
          "metadata": {
            "needs_background": "light"
          }
        }
      ],
      "source": [
        "sns.boxplot(data['Annual Income (k$)'])"
      ]
    },
    {
      "cell_type": "code",
      "execution_count": 30,
      "id": "a872ba9b",
      "metadata": {
        "id": "a872ba9b"
      },
      "outputs": [],
      "source": [
        "q = data.quantile([0.75,0.25])"
      ]
    },
    {
      "cell_type": "code",
      "execution_count": 31,
      "id": "f7fce862",
      "metadata": {
        "colab": {
          "base_uri": "https://localhost:8080/",
          "height": 112
        },
        "id": "f7fce862",
        "outputId": "1fa6694c-ec63-494b-9427-877a6391b0e2"
      },
      "outputs": [
        {
          "output_type": "execute_result",
          "data": {
            "text/plain": [
              "      CustomerID    Age  Annual Income (k$)  Spending Score (1-100)\n",
              "0.75      150.25  49.00                78.0                   73.00\n",
              "0.25       50.75  28.75                41.5                   34.75"
            ],
            "text/html": [
              "\n",
              "  <div id=\"df-4c0a75fe-ca26-4345-8766-5c41162d57c6\">\n",
              "    <div class=\"colab-df-container\">\n",
              "      <div>\n",
              "<style scoped>\n",
              "    .dataframe tbody tr th:only-of-type {\n",
              "        vertical-align: middle;\n",
              "    }\n",
              "\n",
              "    .dataframe tbody tr th {\n",
              "        vertical-align: top;\n",
              "    }\n",
              "\n",
              "    .dataframe thead th {\n",
              "        text-align: right;\n",
              "    }\n",
              "</style>\n",
              "<table border=\"1\" class=\"dataframe\">\n",
              "  <thead>\n",
              "    <tr style=\"text-align: right;\">\n",
              "      <th></th>\n",
              "      <th>CustomerID</th>\n",
              "      <th>Age</th>\n",
              "      <th>Annual Income (k$)</th>\n",
              "      <th>Spending Score (1-100)</th>\n",
              "    </tr>\n",
              "  </thead>\n",
              "  <tbody>\n",
              "    <tr>\n",
              "      <th>0.75</th>\n",
              "      <td>150.25</td>\n",
              "      <td>49.00</td>\n",
              "      <td>78.0</td>\n",
              "      <td>73.00</td>\n",
              "    </tr>\n",
              "    <tr>\n",
              "      <th>0.25</th>\n",
              "      <td>50.75</td>\n",
              "      <td>28.75</td>\n",
              "      <td>41.5</td>\n",
              "      <td>34.75</td>\n",
              "    </tr>\n",
              "  </tbody>\n",
              "</table>\n",
              "</div>\n",
              "      <button class=\"colab-df-convert\" onclick=\"convertToInteractive('df-4c0a75fe-ca26-4345-8766-5c41162d57c6')\"\n",
              "              title=\"Convert this dataframe to an interactive table.\"\n",
              "              style=\"display:none;\">\n",
              "        \n",
              "  <svg xmlns=\"http://www.w3.org/2000/svg\" height=\"24px\"viewBox=\"0 0 24 24\"\n",
              "       width=\"24px\">\n",
              "    <path d=\"M0 0h24v24H0V0z\" fill=\"none\"/>\n",
              "    <path d=\"M18.56 5.44l.94 2.06.94-2.06 2.06-.94-2.06-.94-.94-2.06-.94 2.06-2.06.94zm-11 1L8.5 8.5l.94-2.06 2.06-.94-2.06-.94L8.5 2.5l-.94 2.06-2.06.94zm10 10l.94 2.06.94-2.06 2.06-.94-2.06-.94-.94-2.06-.94 2.06-2.06.94z\"/><path d=\"M17.41 7.96l-1.37-1.37c-.4-.4-.92-.59-1.43-.59-.52 0-1.04.2-1.43.59L10.3 9.45l-7.72 7.72c-.78.78-.78 2.05 0 2.83L4 21.41c.39.39.9.59 1.41.59.51 0 1.02-.2 1.41-.59l7.78-7.78 2.81-2.81c.8-.78.8-2.07 0-2.86zM5.41 20L4 18.59l7.72-7.72 1.47 1.35L5.41 20z\"/>\n",
              "  </svg>\n",
              "      </button>\n",
              "      \n",
              "  <style>\n",
              "    .colab-df-container {\n",
              "      display:flex;\n",
              "      flex-wrap:wrap;\n",
              "      gap: 12px;\n",
              "    }\n",
              "\n",
              "    .colab-df-convert {\n",
              "      background-color: #E8F0FE;\n",
              "      border: none;\n",
              "      border-radius: 50%;\n",
              "      cursor: pointer;\n",
              "      display: none;\n",
              "      fill: #1967D2;\n",
              "      height: 32px;\n",
              "      padding: 0 0 0 0;\n",
              "      width: 32px;\n",
              "    }\n",
              "\n",
              "    .colab-df-convert:hover {\n",
              "      background-color: #E2EBFA;\n",
              "      box-shadow: 0px 1px 2px rgba(60, 64, 67, 0.3), 0px 1px 3px 1px rgba(60, 64, 67, 0.15);\n",
              "      fill: #174EA6;\n",
              "    }\n",
              "\n",
              "    [theme=dark] .colab-df-convert {\n",
              "      background-color: #3B4455;\n",
              "      fill: #D2E3FC;\n",
              "    }\n",
              "\n",
              "    [theme=dark] .colab-df-convert:hover {\n",
              "      background-color: #434B5C;\n",
              "      box-shadow: 0px 1px 3px 1px rgba(0, 0, 0, 0.15);\n",
              "      filter: drop-shadow(0px 1px 2px rgba(0, 0, 0, 0.3));\n",
              "      fill: #FFFFFF;\n",
              "    }\n",
              "  </style>\n",
              "\n",
              "      <script>\n",
              "        const buttonEl =\n",
              "          document.querySelector('#df-4c0a75fe-ca26-4345-8766-5c41162d57c6 button.colab-df-convert');\n",
              "        buttonEl.style.display =\n",
              "          google.colab.kernel.accessAllowed ? 'block' : 'none';\n",
              "\n",
              "        async function convertToInteractive(key) {\n",
              "          const element = document.querySelector('#df-4c0a75fe-ca26-4345-8766-5c41162d57c6');\n",
              "          const dataTable =\n",
              "            await google.colab.kernel.invokeFunction('convertToInteractive',\n",
              "                                                     [key], {});\n",
              "          if (!dataTable) return;\n",
              "\n",
              "          const docLinkHtml = 'Like what you see? Visit the ' +\n",
              "            '<a target=\"_blank\" href=https://colab.research.google.com/notebooks/data_table.ipynb>data table notebook</a>'\n",
              "            + ' to learn more about interactive tables.';\n",
              "          element.innerHTML = '';\n",
              "          dataTable['output_type'] = 'display_data';\n",
              "          await google.colab.output.renderOutput(dataTable, element);\n",
              "          const docLink = document.createElement('div');\n",
              "          docLink.innerHTML = docLinkHtml;\n",
              "          element.appendChild(docLink);\n",
              "        }\n",
              "      </script>\n",
              "    </div>\n",
              "  </div>\n",
              "  "
            ]
          },
          "metadata": {},
          "execution_count": 31
        }
      ],
      "source": [
        "q"
      ]
    },
    {
      "cell_type": "code",
      "execution_count": 32,
      "id": "21b3544b",
      "metadata": {
        "id": "21b3544b"
      },
      "outputs": [],
      "source": [
        "iqr =  q.iloc[0] - q.iloc[1] "
      ]
    },
    {
      "cell_type": "code",
      "execution_count": 33,
      "id": "9737ee7a",
      "metadata": {
        "colab": {
          "base_uri": "https://localhost:8080/"
        },
        "id": "9737ee7a",
        "outputId": "a2debe09-7402-44d1-806f-3b4bd5c8c236"
      },
      "outputs": [
        {
          "output_type": "execute_result",
          "data": {
            "text/plain": [
              "CustomerID                99.50\n",
              "Age                       20.25\n",
              "Annual Income (k$)        36.50\n",
              "Spending Score (1-100)    38.25\n",
              "dtype: float64"
            ]
          },
          "metadata": {},
          "execution_count": 33
        }
      ],
      "source": [
        "iqr"
      ]
    },
    {
      "cell_type": "code",
      "execution_count": 34,
      "id": "63f1cb27",
      "metadata": {
        "id": "63f1cb27"
      },
      "outputs": [],
      "source": [
        "u = q.iloc[0] + (1.5*iqr)   "
      ]
    },
    {
      "cell_type": "code",
      "execution_count": 35,
      "id": "d3ec8aa5",
      "metadata": {
        "colab": {
          "base_uri": "https://localhost:8080/"
        },
        "id": "d3ec8aa5",
        "outputId": "8439cb99-858a-4cf7-ab8c-e580aa5c504f"
      },
      "outputs": [
        {
          "output_type": "execute_result",
          "data": {
            "text/plain": [
              "CustomerID                299.500\n",
              "Age                        79.375\n",
              "Annual Income (k$)        132.750\n",
              "Spending Score (1-100)    130.375\n",
              "dtype: float64"
            ]
          },
          "metadata": {},
          "execution_count": 35
        }
      ],
      "source": [
        "u"
      ]
    },
    {
      "cell_type": "code",
      "execution_count": 36,
      "id": "0bc7d7f6",
      "metadata": {
        "id": "0bc7d7f6"
      },
      "outputs": [],
      "source": [
        "l = q.iloc[1] - (1.5*iqr) "
      ]
    },
    {
      "cell_type": "code",
      "execution_count": 37,
      "id": "8209889a",
      "metadata": {
        "colab": {
          "base_uri": "https://localhost:8080/"
        },
        "id": "8209889a",
        "outputId": "5497d8c3-ccc9-47b4-f25d-a9037acf01cb"
      },
      "outputs": [
        {
          "output_type": "execute_result",
          "data": {
            "text/plain": [
              "CustomerID               -98.500\n",
              "Age                       -1.625\n",
              "Annual Income (k$)       -13.250\n",
              "Spending Score (1-100)   -22.625\n",
              "dtype: float64"
            ]
          },
          "metadata": {},
          "execution_count": 37
        }
      ],
      "source": [
        "l"
      ]
    },
    {
      "cell_type": "code",
      "execution_count": 38,
      "id": "b5bd125e",
      "metadata": {
        "id": "b5bd125e"
      },
      "outputs": [],
      "source": [
        "data['Annual Income (k$)'] = np.where(np.logical_or(data['Annual Income (k$)']>132.75,data['Annual Income (k$)']<-13.250), 61.5,data['Annual Income (k$)'])"
      ]
    },
    {
      "cell_type": "code",
      "execution_count": 39,
      "id": "b93fc8f4",
      "metadata": {
        "colab": {
          "base_uri": "https://localhost:8080/",
          "height": 351
        },
        "id": "b93fc8f4",
        "outputId": "d5c2c3fd-c633-4ea8-aae0-b21a559e3942"
      },
      "outputs": [
        {
          "output_type": "stream",
          "name": "stderr",
          "text": [
            "/usr/local/lib/python3.7/dist-packages/seaborn/_decorators.py:43: FutureWarning: Pass the following variable as a keyword arg: x. From version 0.12, the only valid positional argument will be `data`, and passing other arguments without an explicit keyword will result in an error or misinterpretation.\n",
            "  FutureWarning\n"
          ]
        },
        {
          "output_type": "execute_result",
          "data": {
            "text/plain": [
              "<matplotlib.axes._subplots.AxesSubplot at 0x7f53cf9e7810>"
            ]
          },
          "metadata": {},
          "execution_count": 39
        },
        {
          "output_type": "display_data",
          "data": {
            "text/plain": [
              "<Figure size 432x288 with 1 Axes>"
            ],
            "image/png": "[encoded data removed]"
          },
          "metadata": {
            "needs_background": "light"
          }
        }
      ],
      "source": [
        "sns.boxplot(data['Annual Income (k$)'])"
      ]
    },
    {
      "cell_type": "code",
      "execution_count": 40,
      "id": "a481410d",
      "metadata": {
        "id": "a481410d"
      },
      "outputs": [],
      "source": [
        "from sklearn.preprocessing import LabelEncoder\n",
        "\n",
        "le = LabelEncoder()\n",
        "data['Gender'] = le.fit_transform(data['Gender']) "
      ]
    },
    {
      "cell_type": "code",
      "execution_count": 41,
      "id": "d78bdaad",
      "metadata": {
        "colab": {
          "base_uri": "https://localhost:8080/",
          "height": 206
        },
        "id": "d78bdaad",
        "outputId": "1e679abb-3649-4308-e017-b901d9a58045"
      },
      "outputs": [
        {
          "output_type": "execute_result",
          "data": {
            "text/plain": [
              "   CustomerID  Gender  Age  Annual Income (k$)  Spending Score (1-100)\n",
              "0           1       1   19                15.0                      39\n",
              "1           2       1   21                15.0                      81\n",
              "2           3       0   20                16.0                       6\n",
              "3           4       0   23                16.0                      77\n",
              "4           5       0   31                17.0                      40"
            ],
            "text/html": [
              "\n",
              "  <div id=\"df-ea798d70-53fb-47d2-99f4-bb32e948d746\">\n",
              "    <div class=\"colab-df-container\">\n",
              "      <div>\n",
              "<style scoped>\n",
              "    .dataframe tbody tr th:only-of-type {\n",
              "        vertical-align: middle;\n",
              "    }\n",
              "\n",
              "    .dataframe tbody tr th {\n",
              "        vertical-align: top;\n",
              "    }\n",
              "\n",
              "    .dataframe thead th {\n",
              "        text-align: right;\n",
              "    }\n",
              "</style>\n",
              "<table border=\"1\" class=\"dataframe\">\n",
              "  <thead>\n",
              "    <tr style=\"text-align: right;\">\n",
              "      <th></th>\n",
              "      <th>CustomerID</th>\n",
              "      <th>Gender</th>\n",
              "      <th>Age</th>\n",
              "      <th>Annual Income (k$)</th>\n",
              "      <th>Spending Score (1-100)</th>\n",
              "    </tr>\n",
              "  </thead>\n",
              "  <tbody>\n",
              "    <tr>\n",
              "      <th>0</th>\n",
              "      <td>1</td>\n",
              "      <td>1</td>\n",
              "      <td>19</td>\n",
              "      <td>15.0</td>\n",
              "      <td>39</td>\n",
              "    </tr>\n",
              "    <tr>\n",
              "      <th>1</th>\n",
              "      <td>2</td>\n",
              "      <td>1</td>\n",
              "      <td>21</td>\n",
              "      <td>15.0</td>\n",
              "      <td>81</td>\n",
              "    </tr>\n",
              "    <tr>\n",
              "      <th>2</th>\n",
              "      <td>3</td>\n",
              "      <td>0</td>\n",
              "      <td>20</td>\n",
              "      <td>16.0</td>\n",
              "      <td>6</td>\n",
              "    </tr>\n",
              "    <tr>\n",
              "      <th>3</th>\n",
              "      <td>4</td>\n",
              "      <td>0</td>\n",
              "      <td>23</td>\n",
              "      <td>16.0</td>\n",
              "      <td>77</td>\n",
              "    </tr>\n",
              "    <tr>\n",
              "      <th>4</th>\n",
              "      <td>5</td>\n",
              "      <td>0</td>\n",
              "      <td>31</td>\n",
              "      <td>17.0</td>\n",
              "      <td>40</td>\n",
              "    </tr>\n",
              "  </tbody>\n",
              "</table>\n",
              "</div>\n",
              "      <button class=\"colab-df-convert\" onclick=\"convertToInteractive('df-ea798d70-53fb-47d2-99f4-bb32e948d746')\"\n",
              "              title=\"Convert this dataframe to an interactive table.\"\n",
              "              style=\"display:none;\">\n",
              "        \n",
              "  <svg xmlns=\"http://www.w3.org/2000/svg\" height=\"24px\"viewBox=\"0 0 24 24\"\n",
              "       width=\"24px\">\n",
              "    <path d=\"M0 0h24v24H0V0z\" fill=\"none\"/>\n",
              "    <path d=\"M18.56 5.44l.94 2.06.94-2.06 2.06-.94-2.06-.94-.94-2.06-.94 2.06-2.06.94zm-11 1L8.5 8.5l.94-2.06 2.06-.94-2.06-.94L8.5 2.5l-.94 2.06-2.06.94zm10 10l.94 2.06.94-2.06 2.06-.94-2.06-.94-.94-2.06-.94 2.06-2.06.94z\"/><path d=\"M17.41 7.96l-1.37-1.37c-.4-.4-.92-.59-1.43-.59-.52 0-1.04.2-1.43.59L10.3 9.45l-7.72 7.72c-.78.78-.78 2.05 0 2.83L4 21.41c.39.39.9.59 1.41.59.51 0 1.02-.2 1.41-.59l7.78-7.78 2.81-2.81c.8-.78.8-2.07 0-2.86zM5.41 20L4 18.59l7.72-7.72 1.47 1.35L5.41 20z\"/>\n",
              "  </svg>\n",
              "      </button>\n",
              "      \n",
              "  <style>\n",
              "    .colab-df-container {\n",
              "      display:flex;\n",
              "      flex-wrap:wrap;\n",
              "      gap: 12px;\n",
              "    }\n",
              "\n",
              "    .colab-df-convert {\n",
              "      background-color: #E8F0FE;\n",
              "      border: none;\n",
              "      border-radius: 50%;\n",
              "      cursor: pointer;\n",
              "      display: none;\n",
              "      fill: #1967D2;\n",
              "      height: 32px;\n",
              "      padding: 0 0 0 0;\n",
              "      width: 32px;\n",
              "    }\n",
              "\n",
              "    .colab-df-convert:hover {\n",
              "      background-color: #E2EBFA;\n",
              "      box-shadow: 0px 1px 2px rgba(60, 64, 67, 0.3), 0px 1px 3px 1px rgba(60, 64, 67, 0.15);\n",
              "      fill: #174EA6;\n",
              "    }\n",
              "\n",
              "    [theme=dark] .colab-df-convert {\n",
              "      background-color: #3B4455;\n",
              "      fill: #D2E3FC;\n",
              "    }\n",
              "\n",
              "    [theme=dark] .colab-df-convert:hover {\n",
              "      background-color: #434B5C;\n",
              "      box-shadow: 0px 1px 3px 1px rgba(0, 0, 0, 0.15);\n",
              "      filter: drop-shadow(0px 1px 2px rgba(0, 0, 0, 0.3));\n",
              "      fill: #FFFFFF;\n",
              "    }\n",
              "  </style>\n",
              "\n",
              "      <script>\n",
              "        const buttonEl =\n",
              "          document.querySelector('#df-ea798d70-53fb-47d2-99f4-bb32e948d746 button.colab-df-convert');\n",
              "        buttonEl.style.display =\n",
              "          google.colab.kernel.accessAllowed ? 'block' : 'none';\n",
              "\n",
              "        async function convertToInteractive(key) {\n",
              "          const element = document.querySelector('#df-ea798d70-53fb-47d2-99f4-bb32e948d746');\n",
              "          const dataTable =\n",
              "            await google.colab.kernel.invokeFunction('convertToInteractive',\n",
              "                                                     [key], {});\n",
              "          if (!dataTable) return;\n",
              "\n",
              "          const docLinkHtml = 'Like what you see? Visit the ' +\n",
              "            '<a target=\"_blank\" href=https://colab.research.google.com/notebooks/data_table.ipynb>data table notebook</a>'\n",
              "            + ' to learn more about interactive tables.';\n",
              "          element.innerHTML = '';\n",
              "          dataTable['output_type'] = 'display_data';\n",
              "          await google.colab.output.renderOutput(dataTable, element);\n",
              "          const docLink = document.createElement('div');\n",
              "          docLink.innerHTML = docLinkHtml;\n",
              "          element.appendChild(docLink);\n",
              "        }\n",
              "      </script>\n",
              "    </div>\n",
              "  </div>\n",
              "  "
            ]
          },
          "metadata": {},
          "execution_count": 41
        }
      ],
      "source": [
        "data.head()"
      ]
    },
    {
      "cell_type": "markdown",
      "id": "74678fa7",
      "metadata": {
        "id": "74678fa7"
      },
      "source": [
        "# scaling"
      ]
    },
    {
      "cell_type": "code",
      "execution_count": 42,
      "id": "499ec767",
      "metadata": {
        "scrolled": true,
        "id": "499ec767"
      },
      "outputs": [],
      "source": [
        "from sklearn.preprocessing import MinMaxScaler\n",
        "min_max = MinMaxScaler()\n",
        "x_scaled = min_max.fit_transform(data)"
      ]
    },
    {
      "cell_type": "code",
      "execution_count": 43,
      "id": "62690152",
      "metadata": {
        "scrolled": false,
        "colab": {
          "base_uri": "https://localhost:8080/"
        },
        "id": "62690152",
        "outputId": "054ca1bf-4feb-45d0-b06c-8a96d7e9e506"
      },
      "outputs": [
        {
          "output_type": "execute_result",
          "data": {
            "text/plain": [
              "array([[0.        , 1.        , 0.01923077, 0.        , 0.3877551 ],\n",
              "       [0.00502513, 1.        , 0.05769231, 0.        , 0.81632653],\n",
              "       [0.01005025, 0.        , 0.03846154, 0.00900901, 0.05102041],\n",
              "       [0.01507538, 0.        , 0.09615385, 0.00900901, 0.7755102 ],\n",
              "       [0.0201005 , 0.        , 0.25      , 0.01801802, 0.39795918],\n",
              "       [0.02512563, 0.        , 0.07692308, 0.01801802, 0.76530612],\n",
              "       [0.03015075, 0.        , 0.32692308, 0.02702703, 0.05102041],\n",
              "       [0.03517588, 0.        , 0.09615385, 0.02702703, 0.94897959],\n",
              "       [0.04020101, 1.        , 0.88461538, 0.03603604, 0.02040816],\n",
              "       [0.04522613, 0.        , 0.23076923, 0.03603604, 0.7244898 ],\n",
              "       [0.05025126, 1.        , 0.94230769, 0.03603604, 0.13265306],\n",
              "       [0.05527638, 0.        , 0.32692308, 0.03603604, 1.        ],\n",
              "       [0.06030151, 0.        , 0.76923077, 0.04504505, 0.14285714],\n",
              "       [0.06532663, 0.        , 0.11538462, 0.04504505, 0.7755102 ],\n",
              "       [0.07035176, 1.        , 0.36538462, 0.04504505, 0.12244898],\n",
              "       [0.07537688, 1.        , 0.07692308, 0.04504505, 0.79591837],\n",
              "       [0.08040201, 0.        , 0.32692308, 0.05405405, 0.34693878],\n",
              "       [0.08542714, 1.        , 0.03846154, 0.05405405, 0.66326531],\n",
              "       [0.09045226, 1.        , 0.65384615, 0.07207207, 0.28571429],\n",
              "       [0.09547739, 0.        , 0.32692308, 0.07207207, 0.98979592],\n",
              "       [0.10050251, 1.        , 0.32692308, 0.08108108, 0.34693878],\n",
              "       [0.10552764, 1.        , 0.13461538, 0.08108108, 0.73469388],\n",
              "       [0.11055276, 0.        , 0.53846154, 0.09009009, 0.04081633],\n",
              "       [0.11557789, 1.        , 0.25      , 0.09009009, 0.73469388],\n",
              "       [0.12060302, 0.        , 0.69230769, 0.11711712, 0.13265306],\n",
              "       [0.12562814, 1.        , 0.21153846, 0.11711712, 0.82653061],\n",
              "       [0.13065327, 0.        , 0.51923077, 0.11711712, 0.31632653],\n",
              "       [0.13567839, 1.        , 0.32692308, 0.11711712, 0.6122449 ],\n",
              "       [0.14070352, 0.        , 0.42307692, 0.12612613, 0.30612245],\n",
              "       [0.14572864, 0.        , 0.09615385, 0.12612613, 0.87755102],\n",
              "       [0.15075377, 1.        , 0.80769231, 0.13513514, 0.03061224],\n",
              "       [0.15577889, 0.        , 0.05769231, 0.13513514, 0.73469388],\n",
              "       [0.16080402, 1.        , 0.67307692, 0.16216216, 0.03061224],\n",
              "       [0.16582915, 1.        , 0.        , 0.16216216, 0.92857143],\n",
              "       [0.17085427, 0.        , 0.59615385, 0.16216216, 0.13265306],\n",
              "       [0.1758794 , 0.        , 0.05769231, 0.16216216, 0.81632653],\n",
              "       [0.18090452, 0.        , 0.46153846, 0.17117117, 0.16326531],\n",
              "       [0.18592965, 0.        , 0.23076923, 0.17117117, 0.73469388],\n",
              "       [0.19095477, 0.        , 0.34615385, 0.1981982 , 0.25510204],\n",
              "       [0.1959799 , 0.        , 0.03846154, 0.1981982 , 0.75510204],\n",
              "       [0.20100503, 0.        , 0.90384615, 0.20720721, 0.34693878],\n",
              "       [0.20603015, 1.        , 0.11538462, 0.20720721, 0.92857143],\n",
              "       [0.21105528, 1.        , 0.57692308, 0.21621622, 0.35714286],\n",
              "       [0.2160804 , 0.        , 0.25      , 0.21621622, 0.6122449 ],\n",
              "       [0.22110553, 0.        , 0.59615385, 0.21621622, 0.2755102 ],\n",
              "       [0.22613065, 0.        , 0.11538462, 0.21621622, 0.65306122],\n",
              "       [0.23115578, 0.        , 0.61538462, 0.22522523, 0.55102041],\n",
              "       [0.2361809 , 0.        , 0.17307692, 0.22522523, 0.46938776],\n",
              "       [0.24120603, 0.        , 0.21153846, 0.22522523, 0.41836735],\n",
              "       [0.24623116, 0.        , 0.25      , 0.22522523, 0.41836735],\n",
              "       [0.25125628, 0.        , 0.59615385, 0.24324324, 0.52040816],\n",
              "       [0.25628141, 1.        , 0.28846154, 0.24324324, 0.60204082],\n",
              "       [0.26130653, 0.        , 0.25      , 0.25225225, 0.54081633],\n",
              "       [0.26633166, 1.        , 0.78846154, 0.25225225, 0.60204082],\n",
              "       [0.27135678, 0.        , 0.61538462, 0.25225225, 0.44897959],\n",
              "       [0.27638191, 1.        , 0.55769231, 0.25225225, 0.40816327],\n",
              "       [0.28140704, 0.        , 0.63461538, 0.26126126, 0.5       ],\n",
              "       [0.28643216, 1.        , 0.98076923, 0.26126126, 0.45918367],\n",
              "       [0.29145729, 0.        , 0.17307692, 0.27927928, 0.51020408],\n",
              "       [0.29648241, 1.        , 0.67307692, 0.27927928, 0.45918367],\n",
              "       [0.30150754, 1.        , 1.        , 0.27927928, 0.56122449],\n",
              "       [0.30653266, 1.        , 0.01923077, 0.27927928, 0.55102041],\n",
              "       [0.31155779, 0.        , 0.94230769, 0.28828829, 0.52040816],\n",
              "       [0.31658291, 0.        , 0.69230769, 0.28828829, 0.59183673],\n",
              "       [0.32160804, 1.        , 0.86538462, 0.2972973 , 0.51020408],\n",
              "       [0.32663317, 1.        , 0.        , 0.2972973 , 0.59183673],\n",
              "       [0.33165829, 0.        , 0.48076923, 0.2972973 , 0.5       ],\n",
              "       [0.33668342, 0.        , 0.96153846, 0.2972973 , 0.47959184],\n",
              "       [0.34170854, 1.        , 0.01923077, 0.2972973 , 0.59183673],\n",
              "       [0.34673367, 0.        , 0.26923077, 0.2972973 , 0.46938776],\n",
              "       [0.35175879, 1.        , 1.        , 0.30630631, 0.55102041],\n",
              "       [0.35678392, 0.        , 0.55769231, 0.30630631, 0.41836735],\n",
              "       [0.36180905, 0.        , 0.80769231, 0.31531532, 0.48979592],\n",
              "       [0.36683417, 0.        , 0.80769231, 0.31531532, 0.56122449],\n",
              "       [0.3718593 , 1.        , 0.78846154, 0.35135135, 0.46938776],\n",
              "       [0.37688442, 1.        , 0.15384615, 0.35135135, 0.54081633],\n",
              "       [0.38190955, 0.        , 0.51923077, 0.35135135, 0.53061224],\n",
              "       [0.38693467, 1.        , 0.42307692, 0.35135135, 0.47959184],\n",
              "       [0.3919598 , 0.        , 0.09615385, 0.35135135, 0.52040816],\n",
              "       [0.39698492, 0.        , 0.59615385, 0.35135135, 0.41836735],\n",
              "       [0.40201005, 1.        , 0.75      , 0.35135135, 0.51020408],\n",
              "       [0.40703518, 1.        , 0.38461538, 0.35135135, 0.55102041],\n",
              "       [0.4120603 , 1.        , 0.94230769, 0.35135135, 0.40816327],\n",
              "       [0.41708543, 0.        , 0.53846154, 0.35135135, 0.43877551],\n",
              "       [0.42211055, 0.        , 0.05769231, 0.35135135, 0.57142857],\n",
              "       [0.42713568, 1.        , 0.57692308, 0.35135135, 0.45918367],\n",
              "       [0.4321608 , 0.        , 0.71153846, 0.37837838, 0.58163265],\n",
              "       [0.43718593, 0.        , 0.07692308, 0.37837838, 0.55102041],\n",
              "       [0.44221106, 0.        , 0.30769231, 0.38738739, 0.60204082],\n",
              "       [0.44723618, 0.        , 0.61538462, 0.38738739, 0.45918367],\n",
              "       [0.45226131, 0.        , 0.96153846, 0.3963964 , 0.55102041],\n",
              "       [0.45728643, 1.        , 0.        , 0.3963964 , 0.40816327],\n",
              "       [0.46231156, 1.        , 0.57692308, 0.40540541, 0.48979592],\n",
              "       [0.46733668, 0.        , 0.42307692, 0.40540541, 0.39795918],\n",
              "       [0.47236181, 0.        , 0.26923077, 0.40540541, 0.41836735],\n",
              "       [0.47738693, 1.        , 0.11538462, 0.40540541, 0.52040816],\n",
              "       [0.48241206, 0.        , 0.55769231, 0.40540541, 0.46938776],\n",
              "       [0.48743719, 0.        , 0.17307692, 0.40540541, 0.5       ],\n",
              "       [0.49246231, 1.        , 0.57692308, 0.41441441, 0.41836735],\n",
              "       [0.49748744, 1.        , 0.03846154, 0.41441441, 0.48979592],\n",
              "       [0.50251256, 0.        , 0.09615385, 0.42342342, 0.40816327],\n",
              "       [0.50753769, 0.        , 0.59615385, 0.42342342, 0.47959184],\n",
              "       [0.51256281, 1.        , 0.94230769, 0.42342342, 0.59183673],\n",
              "       [0.51758794, 1.        , 0.15384615, 0.42342342, 0.55102041],\n",
              "       [0.52261307, 1.        , 0.59615385, 0.42342342, 0.56122449],\n",
              "       [0.52763819, 0.        , 0.05769231, 0.42342342, 0.41836735],\n",
              "       [0.53266332, 0.        , 0.92307692, 0.43243243, 0.5       ],\n",
              "       [0.53768844, 1.        , 0.69230769, 0.43243243, 0.45918367],\n",
              "       [0.54271357, 1.        , 0.96153846, 0.43243243, 0.42857143],\n",
              "       [0.54773869, 1.        , 0.92307692, 0.43243243, 0.47959184],\n",
              "       [0.55276382, 1.        , 0.90384615, 0.43243243, 0.52040816],\n",
              "       [0.55778894, 0.        , 0.01923077, 0.43243243, 0.54081633],\n",
              "       [0.56281407, 0.        , 0.38461538, 0.44144144, 0.41836735],\n",
              "       [0.5678392 , 1.        , 0.01923077, 0.44144144, 0.45918367],\n",
              "       [0.57286432, 0.        , 0.        , 0.45045045, 0.47959184],\n",
              "       [0.57788945, 0.        , 0.01923077, 0.45045045, 0.5       ],\n",
              "       [0.58291457, 0.        , 0.86538462, 0.45045045, 0.42857143],\n",
              "       [0.5879397 , 0.        , 0.59615385, 0.45045045, 0.59183673],\n",
              "       [0.59296482, 0.        , 0.63461538, 0.46846847, 0.42857143],\n",
              "       [0.59798995, 0.        , 0.61538462, 0.46846847, 0.57142857],\n",
              "       [0.60301508, 1.        , 0.17307692, 0.46846847, 0.56122449],\n",
              "       [0.6080402 , 0.        , 0.38461538, 0.46846847, 0.39795918],\n",
              "       [0.61306533, 0.        , 0.42307692, 0.48648649, 0.58163265],\n",
              "       [0.61809045, 1.        , 0.40384615, 0.48648649, 0.91836735],\n",
              "       [0.62311558, 0.        , 0.09615385, 0.4954955 , 0.28571429],\n",
              "       [0.6281407 , 0.        , 0.25      , 0.4954955 , 0.7755102 ],\n",
              "       [0.63316583, 1.        , 0.48076923, 0.5045045 , 0.34693878],\n",
              "       [0.63819095, 1.        , 0.42307692, 0.5045045 , 0.95918367],\n",
              "       [0.64321608, 1.        , 0.78846154, 0.5045045 , 0.10204082],\n",
              "       [0.64824121, 1.        , 0.38461538, 0.5045045 , 0.75510204],\n",
              "       [0.65326633, 1.        , 0.55769231, 0.5045045 , 0.08163265],\n",
              "       [0.65829146, 1.        , 0.40384615, 0.5045045 , 0.75510204],\n",
              "       [0.66331658, 0.        , 0.13461538, 0.51351351, 0.33673469],\n",
              "       [0.66834171, 0.        , 0.25      , 0.51351351, 0.71428571],\n",
              "       [0.67336683, 1.        , 0.03846154, 0.52252252, 0.04081633],\n",
              "       [0.67839196, 0.        , 0.21153846, 0.52252252, 0.8877551 ],\n",
              "       [0.68341709, 0.        , 0.5       , 0.52252252, 0.06122449],\n",
              "       [0.68844221, 1.        , 0.26923077, 0.52252252, 0.73469388],\n",
              "       [0.69346734, 1.        , 0.01923077, 0.53153153, 0.09183673],\n",
              "       [0.69849246, 0.        , 0.32692308, 0.53153153, 0.7244898 ],\n",
              "       [0.70351759, 0.        , 0.75      , 0.54054054, 0.04081633],\n",
              "       [0.70854271, 1.        , 0.26923077, 0.54054054, 0.93877551],\n",
              "       [0.71356784, 0.        , 0.19230769, 0.54954955, 0.39795918],\n",
              "       [0.71859296, 0.        , 0.26923077, 0.54954955, 0.87755102],\n",
              "       [0.72361809, 1.        , 0.13461538, 0.55855856, 0.1122449 ],\n",
              "       [0.72864322, 1.        , 0.19230769, 0.55855856, 0.97959184],\n",
              "       [0.73366834, 1.        , 0.57692308, 0.55855856, 0.35714286],\n",
              "       [0.73869347, 0.        , 0.26923077, 0.55855856, 0.74489796],\n",
              "       [0.74371859, 0.        , 0.30769231, 0.56756757, 0.21428571],\n",
              "       [0.74874372, 1.        , 0.30769231, 0.56756757, 0.90816327],\n",
              "       [0.75376884, 1.        , 0.48076923, 0.56756757, 0.16326531],\n",
              "       [0.75879397, 1.        , 0.40384615, 0.56756757, 0.8877551 ],\n",
              "       [0.7638191 , 0.        , 0.5       , 0.56756757, 0.19387755],\n",
              "       [0.76884422, 0.        , 0.38461538, 0.56756757, 0.76530612],\n",
              "       [0.77386935, 0.        , 0.55769231, 0.56756757, 0.15306122],\n",
              "       [0.77889447, 0.        , 0.17307692, 0.56756757, 0.89795918],\n",
              "       [0.7839196 , 1.        , 0.36538462, 0.56756757, 0.        ],\n",
              "       [0.78894472, 0.        , 0.23076923, 0.56756757, 0.78571429],\n",
              "       [0.79396985, 1.        , 0.30769231, 0.56756757, 0.        ],\n",
              "       [0.79899497, 0.        , 0.23076923, 0.56756757, 0.73469388],\n",
              "       [0.8040201 , 0.        , 0.73076923, 0.57657658, 0.34693878],\n",
              "       [0.80904523, 0.        , 0.21153846, 0.57657658, 0.83673469],\n",
              "       [0.81407035, 1.        , 0.01923077, 0.59459459, 0.04081633],\n",
              "       [0.81909548, 0.        , 0.25      , 0.59459459, 0.93877551],\n",
              "       [0.8241206 , 1.        , 0.61538462, 0.63063063, 0.25510204],\n",
              "       [0.82914573, 0.        , 0.34615385, 0.63063063, 0.75510204],\n",
              "       [0.83417085, 1.        , 0.46153846, 0.63963964, 0.19387755],\n",
              "       [0.83919598, 0.        , 0.28846154, 0.63963964, 0.95918367],\n",
              "       [0.84422111, 0.        , 0.34615385, 0.64864865, 0.26530612],\n",
              "       [0.84924623, 1.        , 0.26923077, 0.64864865, 0.63265306],\n",
              "       [0.85427136, 1.        , 0.42307692, 0.64864865, 0.12244898],\n",
              "       [0.85929648, 1.        , 0.19230769, 0.64864865, 0.75510204],\n",
              "       [0.86432161, 1.        , 0.34615385, 0.64864865, 0.09183673],\n",
              "       [0.86934673, 1.        , 0.34615385, 0.64864865, 0.92857143],\n",
              "       [0.87437186, 0.        , 0.65384615, 0.65765766, 0.12244898],\n",
              "       [0.87939698, 0.        , 0.23076923, 0.65765766, 0.86734694],\n",
              "       [0.88442211, 1.        , 0.76923077, 0.65765766, 0.14285714],\n",
              "       [0.88944724, 1.        , 0.17307692, 0.65765766, 0.69387755],\n",
              "       [0.89447236, 1.        , 0.78846154, 0.7027027 , 0.13265306],\n",
              "       [0.89949749, 1.        , 0.32692308, 0.7027027 , 0.90816327],\n",
              "       [0.90452261, 0.        , 0.36538462, 0.73873874, 0.31632653],\n",
              "       [0.90954774, 0.        , 0.26923077, 0.73873874, 0.86734694],\n",
              "       [0.91457286, 1.        , 0.53846154, 0.74774775, 0.14285714],\n",
              "       [0.91959799, 0.        , 0.21153846, 0.74774775, 0.8877551 ],\n",
              "       [0.92462312, 0.        , 0.44230769, 0.75675676, 0.3877551 ],\n",
              "       [0.92964824, 1.        , 0.23076923, 0.75675676, 0.97959184],\n",
              "       [0.93467337, 0.        , 0.69230769, 0.77477477, 0.23469388],\n",
              "       [0.93969849, 1.        , 0.19230769, 0.77477477, 0.68367347],\n",
              "       [0.94472362, 0.        , 0.44230769, 0.79279279, 0.16326531],\n",
              "       [0.94974874, 0.        , 0.34615385, 0.79279279, 0.85714286],\n",
              "       [0.95477387, 0.        , 0.30769231, 0.79279279, 0.2244898 ],\n",
              "       [0.95979899, 0.        , 0.26923077, 0.79279279, 0.69387755],\n",
              "       [0.96482412, 1.        , 0.28846154, 0.88288288, 0.07142857],\n",
              "       [0.96984925, 0.        , 0.38461538, 0.88288288, 0.91836735],\n",
              "       [0.97487437, 0.        , 0.55769231, 0.94594595, 0.15306122],\n",
              "       [0.9798995 , 0.        , 0.32692308, 0.94594595, 0.79591837],\n",
              "       [0.98492462, 0.        , 0.51923077, 1.        , 0.2755102 ],\n",
              "       [0.98994975, 1.        , 0.26923077, 1.        , 0.74489796],\n",
              "       [0.99497487, 1.        , 0.26923077, 0.41891892, 0.17346939],\n",
              "       [1.        , 1.        , 0.23076923, 0.41891892, 0.83673469]])"
            ]
          },
          "metadata": {},
          "execution_count": 43
        }
      ],
      "source": [
        "x_scaled"
      ]
    },
    {
      "cell_type": "code",
      "execution_count": 44,
      "id": "7c8a33a3",
      "metadata": {
        "id": "7c8a33a3"
      },
      "outputs": [],
      "source": [
        "from sklearn.cluster import KMeans\n",
        "KM=KMeans()\n",
        "cluster = KM.fit_predict(x_scaled)"
      ]
    },
    {
      "cell_type": "code",
      "execution_count": 45,
      "id": "c3487878",
      "metadata": {
        "colab": {
          "base_uri": "https://localhost:8080/"
        },
        "id": "c3487878",
        "outputId": "c4663ecd-3070-4cd3-ae41-19711e0655fd"
      },
      "outputs": [
        {
          "output_type": "execute_result",
          "data": {
            "text/plain": [
              "array([4, 4, 3, 3, 3, 3, 0, 3, 6, 3, 6, 3, 0, 3, 4, 4, 3, 4, 6, 3, 4, 4,\n",
              "       0, 4, 0, 4, 0, 4, 0, 3, 6, 3, 6, 4, 0, 3, 0, 3, 0, 3, 0, 4, 6, 3,\n",
              "       0, 3, 0, 3, 3, 3, 0, 4, 3, 6, 0, 6, 0, 6, 3, 6, 6, 4, 0, 0, 6, 4,\n",
              "       0, 0, 4, 3, 6, 0, 0, 0, 6, 4, 0, 6, 3, 0, 6, 4, 6, 0, 3, 6, 0, 3,\n",
              "       3, 0, 0, 4, 6, 0, 3, 4, 0, 3, 6, 4, 3, 0, 6, 4, 6, 3, 0, 6, 6, 6,\n",
              "       6, 3, 5, 4, 3, 3, 0, 0, 0, 0, 1, 5, 2, 1, 5, 2, 7, 1, 7, 1, 7, 1,\n",
              "       5, 2, 7, 2, 5, 1, 7, 2, 5, 1, 5, 2, 7, 1, 7, 2, 5, 1, 7, 1, 5, 2,\n",
              "       5, 2, 7, 2, 7, 2, 5, 2, 7, 2, 7, 2, 7, 2, 5, 1, 7, 1, 7, 1, 5, 2,\n",
              "       7, 1, 7, 1, 5, 2, 7, 2, 5, 1, 5, 1, 5, 2, 5, 2, 7, 2, 5, 2, 5, 1,\n",
              "       7, 1], dtype=int32)"
            ]
          },
          "metadata": {},
          "execution_count": 45
        }
      ],
      "source": [
        "cluster"
      ]
    },
    {
      "cell_type": "code",
      "execution_count": 46,
      "id": "e013cf05",
      "metadata": {
        "id": "e013cf05"
      },
      "outputs": [],
      "source": [
        "value = data.columns\n"
      ]
    },
    {
      "cell_type": "code",
      "execution_count": 47,
      "id": "3672fa35",
      "metadata": {
        "colab": {
          "base_uri": "https://localhost:8080/"
        },
        "id": "3672fa35",
        "outputId": "90fc8940-8ed0-479a-f147-77cc25824db8"
      },
      "outputs": [
        {
          "output_type": "execute_result",
          "data": {
            "text/plain": [
              "Index(['CustomerID', 'Gender', 'Age', 'Annual Income (k$)',\n",
              "       'Spending Score (1-100)'],\n",
              "      dtype='object')"
            ]
          },
          "metadata": {},
          "execution_count": 47
        }
      ],
      "source": [
        "value"
      ]
    },
    {
      "cell_type": "code",
      "execution_count": 48,
      "id": "a452972e",
      "metadata": {
        "id": "a452972e"
      },
      "outputs": [],
      "source": [
        "data1 = pd.DataFrame(x_scaled, columns = value)"
      ]
    },
    {
      "cell_type": "code",
      "execution_count": 49,
      "id": "2a4ad08c",
      "metadata": {
        "colab": {
          "base_uri": "https://localhost:8080/",
          "height": 424
        },
        "id": "2a4ad08c",
        "outputId": "9652f762-95bd-46ea-eba2-c700d2daa706"
      },
      "outputs": [
        {
          "output_type": "execute_result",
          "data": {
            "text/plain": [
              "     CustomerID  Gender       Age  Annual Income (k$)  Spending Score (1-100)\n",
              "0      0.000000     1.0  0.019231            0.000000                0.387755\n",
              "1      0.005025     1.0  0.057692            0.000000                0.816327\n",
              "2      0.010050     0.0  0.038462            0.009009                0.051020\n",
              "3      0.015075     0.0  0.096154            0.009009                0.775510\n",
              "4      0.020101     0.0  0.250000            0.018018                0.397959\n",
              "..          ...     ...       ...                 ...                     ...\n",
              "195    0.979899     0.0  0.326923            0.945946                0.795918\n",
              "196    0.984925     0.0  0.519231            1.000000                0.275510\n",
              "197    0.989950     1.0  0.269231            1.000000                0.744898\n",
              "198    0.994975     1.0  0.269231            0.418919                0.173469\n",
              "199    1.000000     1.0  0.230769            0.418919                0.836735\n",
              "\n",
              "[200 rows x 5 columns]"
            ],
            "text/html": [
              "\n",
              "  <div id=\"df-9c251f80-4592-4af8-b6a2-406e92ed921b\">\n",
              "    <div class=\"colab-df-container\">\n",
              "      <div>\n",
              "<style scoped>\n",
              "    .dataframe tbody tr th:only-of-type {\n",
              "        vertical-align: middle;\n",
              "    }\n",
              "\n",
              "    .dataframe tbody tr th {\n",
              "        vertical-align: top;\n",
              "    }\n",
              "\n",
              "    .dataframe thead th {\n",
              "        text-align: right;\n",
              "    }\n",
              "</style>\n",
              "<table border=\"1\" class=\"dataframe\">\n",
              "  <thead>\n",
              "    <tr style=\"text-align: right;\">\n",
              "      <th></th>\n",
              "      <th>CustomerID</th>\n",
              "      <th>Gender</th>\n",
              "      <th>Age</th>\n",
              "      <th>Annual Income (k$)</th>\n",
              "      <th>Spending Score (1-100)</th>\n",
              "    </tr>\n",
              "  </thead>\n",
              "  <tbody>\n",
              "    <tr>\n",
              "      <th>0</th>\n",
              "      <td>0.000000</td>\n",
              "      <td>1.0</td>\n",
              "      <td>0.019231</td>\n",
              "      <td>0.000000</td>\n",
              "      <td>0.387755</td>\n",
              "    </tr>\n",
              "    <tr>\n",
              "      <th>1</th>\n",
              "      <td>0.005025</td>\n",
              "      <td>1.0</td>\n",
              "      <td>0.057692</td>\n",
              "      <td>0.000000</td>\n",
              "      <td>0.816327</td>\n",
              "    </tr>\n",
              "    <tr>\n",
              "      <th>2</th>\n",
              "      <td>0.010050</td>\n",
              "      <td>0.0</td>\n",
              "      <td>0.038462</td>\n",
              "      <td>0.009009</td>\n",
              "      <td>0.051020</td>\n",
              "    </tr>\n",
              "    <tr>\n",
              "      <th>3</th>\n",
              "      <td>0.015075</td>\n",
              "      <td>0.0</td>\n",
              "      <td>0.096154</td>\n",
              "      <td>0.009009</td>\n",
              "      <td>0.775510</td>\n",
              "    </tr>\n",
              "    <tr>\n",
              "      <th>4</th>\n",
              "      <td>0.020101</td>\n",
              "      <td>0.0</td>\n",
              "      <td>0.250000</td>\n",
              "      <td>0.018018</td>\n",
              "      <td>0.397959</td>\n",
              "    </tr>\n",
              "    <tr>\n",
              "      <th>...</th>\n",
              "      <td>...</td>\n",
              "      <td>...</td>\n",
              "      <td>...</td>\n",
              "      <td>...</td>\n",
              "      <td>...</td>\n",
              "    </tr>\n",
              "    <tr>\n",
              "      <th>195</th>\n",
              "      <td>0.979899</td>\n",
              "      <td>0.0</td>\n",
              "      <td>0.326923</td>\n",
              "      <td>0.945946</td>\n",
              "      <td>0.795918</td>\n",
              "    </tr>\n",
              "    <tr>\n",
              "      <th>196</th>\n",
              "      <td>0.984925</td>\n",
              "      <td>0.0</td>\n",
              "      <td>0.519231</td>\n",
              "      <td>1.000000</td>\n",
              "      <td>0.275510</td>\n",
              "    </tr>\n",
              "    <tr>\n",
              "      <th>197</th>\n",
              "      <td>0.989950</td>\n",
              "      <td>1.0</td>\n",
              "      <td>0.269231</td>\n",
              "      <td>1.000000</td>\n",
              "      <td>0.744898</td>\n",
              "    </tr>\n",
              "    <tr>\n",
              "      <th>198</th>\n",
              "      <td>0.994975</td>\n",
              "      <td>1.0</td>\n",
              "      <td>0.269231</td>\n",
              "      <td>0.418919</td>\n",
              "      <td>0.173469</td>\n",
              "    </tr>\n",
              "    <tr>\n",
              "      <th>199</th>\n",
              "      <td>1.000000</td>\n",
              "      <td>1.0</td>\n",
              "      <td>0.230769</td>\n",
              "      <td>0.418919</td>\n",
              "      <td>0.836735</td>\n",
              "    </tr>\n",
              "  </tbody>\n",
              "</table>\n",
              "<p>200 rows × 5 columns</p>\n",
              "</div>\n",
              "      <button class=\"colab-df-convert\" onclick=\"convertToInteractive('df-9c251f80-4592-4af8-b6a2-406e92ed921b')\"\n",
              "              title=\"Convert this dataframe to an interactive table.\"\n",
              "              style=\"display:none;\">\n",
              "        \n",
              "  <svg xmlns=\"http://www.w3.org/2000/svg\" height=\"24px\"viewBox=\"0 0 24 24\"\n",
              "       width=\"24px\">\n",
              "    <path d=\"M0 0h24v24H0V0z\" fill=\"none\"/>\n",
              "    <path d=\"M18.56 5.44l.94 2.06.94-2.06 2.06-.94-2.06-.94-.94-2.06-.94 2.06-2.06.94zm-11 1L8.5 8.5l.94-2.06 2.06-.94-2.06-.94L8.5 2.5l-.94 2.06-2.06.94zm10 10l.94 2.06.94-2.06 2.06-.94-2.06-.94-.94-2.06-.94 2.06-2.06.94z\"/><path d=\"M17.41 7.96l-1.37-1.37c-.4-.4-.92-.59-1.43-.59-.52 0-1.04.2-1.43.59L10.3 9.45l-7.72 7.72c-.78.78-.78 2.05 0 2.83L4 21.41c.39.39.9.59 1.41.59.51 0 1.02-.2 1.41-.59l7.78-7.78 2.81-2.81c.8-.78.8-2.07 0-2.86zM5.41 20L4 18.59l7.72-7.72 1.47 1.35L5.41 20z\"/>\n",
              "  </svg>\n",
              "      </button>\n",
              "      \n",
              "  <style>\n",
              "    .colab-df-container {\n",
              "      display:flex;\n",
              "      flex-wrap:wrap;\n",
              "      gap: 12px;\n",
              "    }\n",
              "\n",
              "    .colab-df-convert {\n",
              "      background-color: #E8F0FE;\n",
              "      border: none;\n",
              "      border-radius: 50%;\n",
              "      cursor: pointer;\n",
              "      display: none;\n",
              "      fill: #1967D2;\n",
              "      height: 32px;\n",
              "      padding: 0 0 0 0;\n",
              "      width: 32px;\n",
              "    }\n",
              "\n",
              "    .colab-df-convert:hover {\n",
              "      background-color: #E2EBFA;\n",
              "      box-shadow: 0px 1px 2px rgba(60, 64, 67, 0.3), 0px 1px 3px 1px rgba(60, 64, 67, 0.15);\n",
              "      fill: #174EA6;\n",
              "    }\n",
              "\n",
              "    [theme=dark] .colab-df-convert {\n",
              "      background-color: #3B4455;\n",
              "      fill: #D2E3FC;\n",
              "    }\n",
              "\n",
              "    [theme=dark] .colab-df-convert:hover {\n",
              "      background-color: #434B5C;\n",
              "      box-shadow: 0px 1px 3px 1px rgba(0, 0, 0, 0.15);\n",
              "      filter: drop-shadow(0px 1px 2px rgba(0, 0, 0, 0.3));\n",
              "      fill: #FFFFFF;\n",
              "    }\n",
              "  </style>\n",
              "\n",
              "      <script>\n",
              "        const buttonEl =\n",
              "          document.querySelector('#df-9c251f80-4592-4af8-b6a2-406e92ed921b button.colab-df-convert');\n",
              "        buttonEl.style.display =\n",
              "          google.colab.kernel.accessAllowed ? 'block' : 'none';\n",
              "\n",
              "        async function convertToInteractive(key) {\n",
              "          const element = document.querySelector('#df-9c251f80-4592-4af8-b6a2-406e92ed921b');\n",
              "          const dataTable =\n",
              "            await google.colab.kernel.invokeFunction('convertToInteractive',\n",
              "                                                     [key], {});\n",
              "          if (!dataTable) return;\n",
              "\n",
              "          const docLinkHtml = 'Like what you see? Visit the ' +\n",
              "            '<a target=\"_blank\" href=https://colab.research.google.com/notebooks/data_table.ipynb>data table notebook</a>'\n",
              "            + ' to learn more about interactive tables.';\n",
              "          element.innerHTML = '';\n",
              "          dataTable['output_type'] = 'display_data';\n",
              "          await google.colab.output.renderOutput(dataTable, element);\n",
              "          const docLink = document.createElement('div');\n",
              "          docLink.innerHTML = docLinkHtml;\n",
              "          element.appendChild(docLink);\n",
              "        }\n",
              "      </script>\n",
              "    </div>\n",
              "  </div>\n",
              "  "
            ]
          },
          "metadata": {},
          "execution_count": 49
        }
      ],
      "source": [
        "data1"
      ]
    },
    {
      "cell_type": "code",
      "execution_count": 50,
      "id": "fe36f8e0",
      "metadata": {
        "id": "fe36f8e0"
      },
      "outputs": [],
      "source": [
        "data1['Cluster_value'] = pd.Series(cluster)"
      ]
    },
    {
      "cell_type": "code",
      "execution_count": 51,
      "id": "dfc927e1",
      "metadata": {
        "colab": {
          "base_uri": "https://localhost:8080/",
          "height": 206
        },
        "id": "dfc927e1",
        "outputId": "6113c202-c3bf-4490-8083-8a4ae5ef1ee4"
      },
      "outputs": [
        {
          "output_type": "execute_result",
          "data": {
            "text/plain": [
              "   CustomerID  Gender       Age  Annual Income (k$)  Spending Score (1-100)  \\\n",
              "0    0.000000     1.0  0.019231            0.000000                0.387755   \n",
              "1    0.005025     1.0  0.057692            0.000000                0.816327   \n",
              "2    0.010050     0.0  0.038462            0.009009                0.051020   \n",
              "3    0.015075     0.0  0.096154            0.009009                0.775510   \n",
              "4    0.020101     0.0  0.250000            0.018018                0.397959   \n",
              "\n",
              "   Cluster_value  \n",
              "0              4  \n",
              "1              4  \n",
              "2              3  \n",
              "3              3  \n",
              "4              3  "
            ],
            "text/html": [
              "\n",
              "  <div id=\"df-637c730e-7b81-4d37-973e-3f8b5debea50\">\n",
              "    <div class=\"colab-df-container\">\n",
              "      <div>\n",
              "<style scoped>\n",
              "    .dataframe tbody tr th:only-of-type {\n",
              "        vertical-align: middle;\n",
              "    }\n",
              "\n",
              "    .dataframe tbody tr th {\n",
              "        vertical-align: top;\n",
              "    }\n",
              "\n",
              "    .dataframe thead th {\n",
              "        text-align: right;\n",
              "    }\n",
              "</style>\n",
              "<table border=\"1\" class=\"dataframe\">\n",
              "  <thead>\n",
              "    <tr style=\"text-align: right;\">\n",
              "      <th></th>\n",
              "      <th>CustomerID</th>\n",
              "      <th>Gender</th>\n",
              "      <th>Age</th>\n",
              "      <th>Annual Income (k$)</th>\n",
              "      <th>Spending Score (1-100)</th>\n",
              "      <th>Cluster_value</th>\n",
              "    </tr>\n",
              "  </thead>\n",
              "  <tbody>\n",
              "    <tr>\n",
              "      <th>0</th>\n",
              "      <td>0.000000</td>\n",
              "      <td>1.0</td>\n",
              "      <td>0.019231</td>\n",
              "      <td>0.000000</td>\n",
              "      <td>0.387755</td>\n",
              "      <td>4</td>\n",
              "    </tr>\n",
              "    <tr>\n",
              "      <th>1</th>\n",
              "      <td>0.005025</td>\n",
              "      <td>1.0</td>\n",
              "      <td>0.057692</td>\n",
              "      <td>0.000000</td>\n",
              "      <td>0.816327</td>\n",
              "      <td>4</td>\n",
              "    </tr>\n",
              "    <tr>\n",
              "      <th>2</th>\n",
              "      <td>0.010050</td>\n",
              "      <td>0.0</td>\n",
              "      <td>0.038462</td>\n",
              "      <td>0.009009</td>\n",
              "      <td>0.051020</td>\n",
              "      <td>3</td>\n",
              "    </tr>\n",
              "    <tr>\n",
              "      <th>3</th>\n",
              "      <td>0.015075</td>\n",
              "      <td>0.0</td>\n",
              "      <td>0.096154</td>\n",
              "      <td>0.009009</td>\n",
              "      <td>0.775510</td>\n",
              "      <td>3</td>\n",
              "    </tr>\n",
              "    <tr>\n",
              "      <th>4</th>\n",
              "      <td>0.020101</td>\n",
              "      <td>0.0</td>\n",
              "      <td>0.250000</td>\n",
              "      <td>0.018018</td>\n",
              "      <td>0.397959</td>\n",
              "      <td>3</td>\n",
              "    </tr>\n",
              "  </tbody>\n",
              "</table>\n",
              "</div>\n",
              "      <button class=\"colab-df-convert\" onclick=\"convertToInteractive('df-637c730e-7b81-4d37-973e-3f8b5debea50')\"\n",
              "              title=\"Convert this dataframe to an interactive table.\"\n",
              "              style=\"display:none;\">\n",
              "        \n",
              "  <svg xmlns=\"http://www.w3.org/2000/svg\" height=\"24px\"viewBox=\"0 0 24 24\"\n",
              "       width=\"24px\">\n",
              "    <path d=\"M0 0h24v24H0V0z\" fill=\"none\"/>\n",
              "    <path d=\"M18.56 5.44l.94 2.06.94-2.06 2.06-.94-2.06-.94-.94-2.06-.94 2.06-2.06.94zm-11 1L8.5 8.5l.94-2.06 2.06-.94-2.06-.94L8.5 2.5l-.94 2.06-2.06.94zm10 10l.94 2.06.94-2.06 2.06-.94-2.06-.94-.94-2.06-.94 2.06-2.06.94z\"/><path d=\"M17.41 7.96l-1.37-1.37c-.4-.4-.92-.59-1.43-.59-.52 0-1.04.2-1.43.59L10.3 9.45l-7.72 7.72c-.78.78-.78 2.05 0 2.83L4 21.41c.39.39.9.59 1.41.59.51 0 1.02-.2 1.41-.59l7.78-7.78 2.81-2.81c.8-.78.8-2.07 0-2.86zM5.41 20L4 18.59l7.72-7.72 1.47 1.35L5.41 20z\"/>\n",
              "  </svg>\n",
              "      </button>\n",
              "      \n",
              "  <style>\n",
              "    .colab-df-container {\n",
              "      display:flex;\n",
              "      flex-wrap:wrap;\n",
              "      gap: 12px;\n",
              "    }\n",
              "\n",
              "    .colab-df-convert {\n",
              "      background-color: #E8F0FE;\n",
              "      border: none;\n",
              "      border-radius: 50%;\n",
              "      cursor: pointer;\n",
              "      display: none;\n",
              "      fill: #1967D2;\n",
              "      height: 32px;\n",
              "      padding: 0 0 0 0;\n",
              "      width: 32px;\n",
              "    }\n",
              "\n",
              "    .colab-df-convert:hover {\n",
              "      background-color: #E2EBFA;\n",
              "      box-shadow: 0px 1px 2px rgba(60, 64, 67, 0.3), 0px 1px 3px 1px rgba(60, 64, 67, 0.15);\n",
              "      fill: #174EA6;\n",
              "    }\n",
              "\n",
              "    [theme=dark] .colab-df-convert {\n",
              "      background-color: #3B4455;\n",
              "      fill: #D2E3FC;\n",
              "    }\n",
              "\n",
              "    [theme=dark] .colab-df-convert:hover {\n",
              "      background-color: #434B5C;\n",
              "      box-shadow: 0px 1px 3px 1px rgba(0, 0, 0, 0.15);\n",
              "      filter: drop-shadow(0px 1px 2px rgba(0, 0, 0, 0.3));\n",
              "      fill: #FFFFFF;\n",
              "    }\n",
              "  </style>\n",
              "\n",
              "      <script>\n",
              "        const buttonEl =\n",
              "          document.querySelector('#df-637c730e-7b81-4d37-973e-3f8b5debea50 button.colab-df-convert');\n",
              "        buttonEl.style.display =\n",
              "          google.colab.kernel.accessAllowed ? 'block' : 'none';\n",
              "\n",
              "        async function convertToInteractive(key) {\n",
              "          const element = document.querySelector('#df-637c730e-7b81-4d37-973e-3f8b5debea50');\n",
              "          const dataTable =\n",
              "            await google.colab.kernel.invokeFunction('convertToInteractive',\n",
              "                                                     [key], {});\n",
              "          if (!dataTable) return;\n",
              "\n",
              "          const docLinkHtml = 'Like what you see? Visit the ' +\n",
              "            '<a target=\"_blank\" href=https://colab.research.google.com/notebooks/data_table.ipynb>data table notebook</a>'\n",
              "            + ' to learn more about interactive tables.';\n",
              "          element.innerHTML = '';\n",
              "          dataTable['output_type'] = 'display_data';\n",
              "          await google.colab.output.renderOutput(dataTable, element);\n",
              "          const docLink = document.createElement('div');\n",
              "          docLink.innerHTML = docLinkHtml;\n",
              "          element.appendChild(docLink);\n",
              "        }\n",
              "      </script>\n",
              "    </div>\n",
              "  </div>\n",
              "  "
            ]
          },
          "metadata": {},
          "execution_count": 51
        }
      ],
      "source": [
        "data1.head()"
      ]
    },
    {
      "cell_type": "markdown",
      "id": "c280164b",
      "metadata": {
        "id": "c280164b"
      },
      "source": [
        "# split the data in X and Y"
      ]
    },
    {
      "cell_type": "code",
      "execution_count": 52,
      "id": "16e23472",
      "metadata": {
        "colab": {
          "base_uri": "https://localhost:8080/",
          "height": 0
        },
        "id": "16e23472",
        "outputId": "8c6b1956-ab3e-4978-d258-ac2478cbfc0e"
      },
      "outputs": [
        {
          "output_type": "execute_result",
          "data": {
            "text/plain": [
              "     Gender       Age  Annual Income (k$)  Spending Score (1-100)\n",
              "0       1.0  0.019231            0.000000                0.387755\n",
              "1       1.0  0.057692            0.000000                0.816327\n",
              "2       0.0  0.038462            0.009009                0.051020\n",
              "3       0.0  0.096154            0.009009                0.775510\n",
              "4       0.0  0.250000            0.018018                0.397959\n",
              "..      ...       ...                 ...                     ...\n",
              "195     0.0  0.326923            0.945946                0.795918\n",
              "196     0.0  0.519231            1.000000                0.275510\n",
              "197     1.0  0.269231            1.000000                0.744898\n",
              "198     1.0  0.269231            0.418919                0.173469\n",
              "199     1.0  0.230769            0.418919                0.836735\n",
              "\n",
              "[200 rows x 4 columns]"
            ],
            "text/html": [
              "\n",
              "  <div id=\"df-a2310e01-858b-479f-8079-615a28581c31\">\n",
              "    <div class=\"colab-df-container\">\n",
              "      <div>\n",
              "<style scoped>\n",
              "    .dataframe tbody tr th:only-of-type {\n",
              "        vertical-align: middle;\n",
              "    }\n",
              "\n",
              "    .dataframe tbody tr th {\n",
              "        vertical-align: top;\n",
              "    }\n",
              "\n",
              "    .dataframe thead th {\n",
              "        text-align: right;\n",
              "    }\n",
              "</style>\n",
              "<table border=\"1\" class=\"dataframe\">\n",
              "  <thead>\n",
              "    <tr style=\"text-align: right;\">\n",
              "      <th></th>\n",
              "      <th>Gender</th>\n",
              "      <th>Age</th>\n",
              "      <th>Annual Income (k$)</th>\n",
              "      <th>Spending Score (1-100)</th>\n",
              "    </tr>\n",
              "  </thead>\n",
              "  <tbody>\n",
              "    <tr>\n",
              "      <th>0</th>\n",
              "      <td>1.0</td>\n",
              "      <td>0.019231</td>\n",
              "      <td>0.000000</td>\n",
              "      <td>0.387755</td>\n",
              "    </tr>\n",
              "    <tr>\n",
              "      <th>1</th>\n",
              "      <td>1.0</td>\n",
              "      <td>0.057692</td>\n",
              "      <td>0.000000</td>\n",
              "      <td>0.816327</td>\n",
              "    </tr>\n",
              "    <tr>\n",
              "      <th>2</th>\n",
              "      <td>0.0</td>\n",
              "      <td>0.038462</td>\n",
              "      <td>0.009009</td>\n",
              "      <td>0.051020</td>\n",
              "    </tr>\n",
              "    <tr>\n",
              "      <th>3</th>\n",
              "      <td>0.0</td>\n",
              "      <td>0.096154</td>\n",
              "      <td>0.009009</td>\n",
              "      <td>0.775510</td>\n",
              "    </tr>\n",
              "    <tr>\n",
              "      <th>4</th>\n",
              "      <td>0.0</td>\n",
              "      <td>0.250000</td>\n",
              "      <td>0.018018</td>\n",
              "      <td>0.397959</td>\n",
              "    </tr>\n",
              "    <tr>\n",
              "      <th>...</th>\n",
              "      <td>...</td>\n",
              "      <td>...</td>\n",
              "      <td>...</td>\n",
              "      <td>...</td>\n",
              "    </tr>\n",
              "    <tr>\n",
              "      <th>195</th>\n",
              "      <td>0.0</td>\n",
              "      <td>0.326923</td>\n",
              "      <td>0.945946</td>\n",
              "      <td>0.795918</td>\n",
              "    </tr>\n",
              "    <tr>\n",
              "      <th>196</th>\n",
              "      <td>0.0</td>\n",
              "      <td>0.519231</td>\n",
              "      <td>1.000000</td>\n",
              "      <td>0.275510</td>\n",
              "    </tr>\n",
              "    <tr>\n",
              "      <th>197</th>\n",
              "      <td>1.0</td>\n",
              "      <td>0.269231</td>\n",
              "      <td>1.000000</td>\n",
              "      <td>0.744898</td>\n",
              "    </tr>\n",
              "    <tr>\n",
              "      <th>198</th>\n",
              "      <td>1.0</td>\n",
              "      <td>0.269231</td>\n",
              "      <td>0.418919</td>\n",
              "      <td>0.173469</td>\n",
              "    </tr>\n",
              "    <tr>\n",
              "      <th>199</th>\n",
              "      <td>1.0</td>\n",
              "      <td>0.230769</td>\n",
              "      <td>0.418919</td>\n",
              "      <td>0.836735</td>\n",
              "    </tr>\n",
              "  </tbody>\n",
              "</table>\n",
              "<p>200 rows × 4 columns</p>\n",
              "</div>\n",
              "      <button class=\"colab-df-convert\" onclick=\"convertToInteractive('df-a2310e01-858b-479f-8079-615a28581c31')\"\n",
              "              title=\"Convert this dataframe to an interactive table.\"\n",
              "              style=\"display:none;\">\n",
              "        \n",
              "  <svg xmlns=\"http://www.w3.org/2000/svg\" height=\"24px\"viewBox=\"0 0 24 24\"\n",
              "       width=\"24px\">\n",
              "    <path d=\"M0 0h24v24H0V0z\" fill=\"none\"/>\n",
              "    <path d=\"M18.56 5.44l.94 2.06.94-2.06 2.06-.94-2.06-.94-.94-2.06-.94 2.06-2.06.94zm-11 1L8.5 8.5l.94-2.06 2.06-.94-2.06-.94L8.5 2.5l-.94 2.06-2.06.94zm10 10l.94 2.06.94-2.06 2.06-.94-2.06-.94-.94-2.06-.94 2.06-2.06.94z\"/><path d=\"M17.41 7.96l-1.37-1.37c-.4-.4-.92-.59-1.43-.59-.52 0-1.04.2-1.43.59L10.3 9.45l-7.72 7.72c-.78.78-.78 2.05 0 2.83L4 21.41c.39.39.9.59 1.41.59.51 0 1.02-.2 1.41-.59l7.78-7.78 2.81-2.81c.8-.78.8-2.07 0-2.86zM5.41 20L4 18.59l7.72-7.72 1.47 1.35L5.41 20z\"/>\n",
              "  </svg>\n",
              "      </button>\n",
              "      \n",
              "  <style>\n",
              "    .colab-df-container {\n",
              "      display:flex;\n",
              "      flex-wrap:wrap;\n",
              "      gap: 12px;\n",
              "    }\n",
              "\n",
              "    .colab-df-convert {\n",
              "      background-color: #E8F0FE;\n",
              "      border: none;\n",
              "      border-radius: 50%;\n",
              "      cursor: pointer;\n",
              "      display: none;\n",
              "      fill: #1967D2;\n",
              "      height: 32px;\n",
              "      padding: 0 0 0 0;\n",
              "      width: 32px;\n",
              "    }\n",
              "\n",
              "    .colab-df-convert:hover {\n",
              "      background-color: #E2EBFA;\n",
              "      box-shadow: 0px 1px 2px rgba(60, 64, 67, 0.3), 0px 1px 3px 1px rgba(60, 64, 67, 0.15);\n",
              "      fill: #174EA6;\n",
              "    }\n",
              "\n",
              "    [theme=dark] .colab-df-convert {\n",
              "      background-color: #3B4455;\n",
              "      fill: #D2E3FC;\n",
              "    }\n",
              "\n",
              "    [theme=dark] .colab-df-convert:hover {\n",
              "      background-color: #434B5C;\n",
              "      box-shadow: 0px 1px 3px 1px rgba(0, 0, 0, 0.15);\n",
              "      filter: drop-shadow(0px 1px 2px rgba(0, 0, 0, 0.3));\n",
              "      fill: #FFFFFF;\n",
              "    }\n",
              "  </style>\n",
              "\n",
              "      <script>\n",
              "        const buttonEl =\n",
              "          document.querySelector('#df-a2310e01-858b-479f-8079-615a28581c31 button.colab-df-convert');\n",
              "        buttonEl.style.display =\n",
              "          google.colab.kernel.accessAllowed ? 'block' : 'none';\n",
              "\n",
              "        async function convertToInteractive(key) {\n",
              "          const element = document.querySelector('#df-a2310e01-858b-479f-8079-615a28581c31');\n",
              "          const dataTable =\n",
              "            await google.colab.kernel.invokeFunction('convertToInteractive',\n",
              "                                                     [key], {});\n",
              "          if (!dataTable) return;\n",
              "\n",
              "          const docLinkHtml = 'Like what you see? Visit the ' +\n",
              "            '<a target=\"_blank\" href=https://colab.research.google.com/notebooks/data_table.ipynb>data table notebook</a>'\n",
              "            + ' to learn more about interactive tables.';\n",
              "          element.innerHTML = '';\n",
              "          dataTable['output_type'] = 'display_data';\n",
              "          await google.colab.output.renderOutput(dataTable, element);\n",
              "          const docLink = document.createElement('div');\n",
              "          docLink.innerHTML = docLinkHtml;\n",
              "          element.appendChild(docLink);\n",
              "        }\n",
              "      </script>\n",
              "    </div>\n",
              "  </div>\n",
              "  "
            ]
          },
          "metadata": {},
          "execution_count": 52
        }
      ],
      "source": [
        "y = data1['Cluster_value']\n",
        "data1 = data1.drop(['CustomerID','Cluster_value'], axis = 1)\n",
        "x = data1\n",
        "x"
      ]
    },
    {
      "cell_type": "code",
      "execution_count": 53,
      "id": "8beec8e5",
      "metadata": {
        "colab": {
          "base_uri": "https://localhost:8080/"
        },
        "id": "8beec8e5",
        "outputId": "a32621b5-5366-4f14-b5d0-41c13a30e671"
      },
      "outputs": [
        {
          "output_type": "execute_result",
          "data": {
            "text/plain": [
              "0      4\n",
              "1      4\n",
              "2      3\n",
              "3      3\n",
              "4      3\n",
              "      ..\n",
              "195    2\n",
              "196    5\n",
              "197    1\n",
              "198    7\n",
              "199    1\n",
              "Name: Cluster_value, Length: 200, dtype: int32"
            ]
          },
          "metadata": {},
          "execution_count": 53
        }
      ],
      "source": [
        "y"
      ]
    },
    {
      "cell_type": "markdown",
      "id": "d1294156",
      "metadata": {
        "id": "d1294156"
      },
      "source": [
        "# Split x and y into Training and Testing"
      ]
    },
    {
      "cell_type": "code",
      "execution_count": 54,
      "id": "161ced4f",
      "metadata": {
        "id": "161ced4f"
      },
      "outputs": [],
      "source": [
        "from sklearn.model_selection import train_test_split\n",
        "x_train, x_test, y_train, y_test = train_test_split(x_scaled, y, test_size = 0.3, random_state = 0)"
      ]
    },
    {
      "cell_type": "code",
      "execution_count": 55,
      "id": "712dff65",
      "metadata": {
        "colab": {
          "base_uri": "https://localhost:8080/"
        },
        "id": "712dff65",
        "outputId": "a492a242-2f45-40a7-9263-4adbcd805d86"
      },
      "outputs": [
        {
          "output_type": "execute_result",
          "data": {
            "text/plain": [
              "array([[0.65829146, 1.        , 0.40384615, 0.5045045 , 0.75510204],\n",
              "       [0.48241206, 0.        , 0.55769231, 0.40540541, 0.46938776],\n",
              "       [0.90954774, 0.        , 0.26923077, 0.73873874, 0.86734694],\n",
              "       [0.09547739, 0.        , 0.32692308, 0.07207207, 0.98979592],\n",
              "       [0.76884422, 0.        , 0.38461538, 0.56756757, 0.76530612],\n",
              "       [0.46231156, 1.        , 0.57692308, 0.40540541, 0.48979592],\n",
              "       [0.27135678, 0.        , 0.61538462, 0.25225225, 0.44897959],\n",
              "       [0.81909548, 0.        , 0.25      , 0.59459459, 0.93877551],\n",
              "       [0.25628141, 1.        , 0.28846154, 0.24324324, 0.60204082],\n",
              "       [0.4321608 , 0.        , 0.71153846, 0.37837838, 0.58163265],\n",
              "       [0.69849246, 0.        , 0.32692308, 0.53153153, 0.7244898 ],\n",
              "       [0.45226131, 0.        , 0.96153846, 0.3963964 , 0.55102041],\n",
              "       [0.68844221, 1.        , 0.26923077, 0.52252252, 0.73469388],\n",
              "       [0.50753769, 0.        , 0.59615385, 0.42342342, 0.47959184],\n",
              "       [0.72361809, 1.        , 0.13461538, 0.55855856, 0.1122449 ],\n",
              "       [0.44723618, 0.        , 0.61538462, 0.38738739, 0.45918367],\n",
              "       [0.54773869, 1.        , 0.92307692, 0.43243243, 0.47959184],\n",
              "       [0.07035176, 1.        , 0.36538462, 0.04504505, 0.12244898],\n",
              "       [0.13567839, 1.        , 0.32692308, 0.11711712, 0.6122449 ],\n",
              "       [0.70854271, 1.        , 0.26923077, 0.54054054, 0.93877551],\n",
              "       [0.93969849, 1.        , 0.19230769, 0.77477477, 0.68367347],\n",
              "       [0.23115578, 0.        , 0.61538462, 0.22522523, 0.55102041],\n",
              "       [0.69346734, 1.        , 0.01923077, 0.53153153, 0.09183673],\n",
              "       [0.9798995 , 0.        , 0.32692308, 0.94594595, 0.79591837],\n",
              "       [0.54271357, 1.        , 0.96153846, 0.43243243, 0.42857143],\n",
              "       [0.31155779, 0.        , 0.94230769, 0.28828829, 0.52040816],\n",
              "       [0.01005025, 0.        , 0.03846154, 0.00900901, 0.05102041],\n",
              "       [0.29648241, 1.        , 0.67307692, 0.27927928, 0.45918367],\n",
              "       [0.68341709, 0.        , 0.5       , 0.52252252, 0.06122449],\n",
              "       [0.98994975, 1.        , 0.26923077, 1.        , 0.74489796],\n",
              "       [0.2160804 , 0.        , 0.25      , 0.21621622, 0.6122449 ],\n",
              "       [0.05025126, 1.        , 0.94230769, 0.03603604, 0.13265306],\n",
              "       [0.97487437, 0.        , 0.55769231, 0.94594595, 0.15306122],\n",
              "       [0.36683417, 0.        , 0.80769231, 0.31531532, 0.56122449],\n",
              "       [0.98492462, 0.        , 0.51923077, 1.        , 0.2755102 ],\n",
              "       [0.89447236, 1.        , 0.78846154, 0.7027027 , 0.13265306],\n",
              "       [0.87939698, 0.        , 0.23076923, 0.65765766, 0.86734694],\n",
              "       [0.63316583, 1.        , 0.48076923, 0.5045045 , 0.34693878],\n",
              "       [0.46733668, 0.        , 0.42307692, 0.40540541, 0.39795918],\n",
              "       [0.56281407, 0.        , 0.38461538, 0.44144144, 0.41836735],\n",
              "       [0.79396985, 1.        , 0.30769231, 0.56756757, 0.        ],\n",
              "       [0.95979899, 0.        , 0.26923077, 0.79279279, 0.69387755],\n",
              "       [0.25125628, 0.        , 0.59615385, 0.24324324, 0.52040816],\n",
              "       [0.        , 1.        , 0.01923077, 0.        , 0.3877551 ],\n",
              "       [0.47236181, 0.        , 0.26923077, 0.40540541, 0.41836735],\n",
              "       [0.55276382, 1.        , 0.90384615, 0.43243243, 0.52040816],\n",
              "       [0.47738693, 1.        , 0.11538462, 0.40540541, 0.52040816],\n",
              "       [0.32160804, 1.        , 0.86538462, 0.2972973 , 0.51020408],\n",
              "       [0.83919598, 0.        , 0.28846154, 0.63963964, 0.95918367],\n",
              "       [0.20603015, 1.        , 0.11538462, 0.20720721, 0.92857143],\n",
              "       [0.34673367, 0.        , 0.26923077, 0.2972973 , 0.46938776],\n",
              "       [0.24623116, 0.        , 0.25      , 0.22522523, 0.41836735],\n",
              "       [0.24120603, 0.        , 0.21153846, 0.22522523, 0.41836735],\n",
              "       [0.42713568, 1.        , 0.57692308, 0.35135135, 0.45918367],\n",
              "       [0.06532663, 0.        , 0.11538462, 0.04504505, 0.7755102 ],\n",
              "       [0.80904523, 0.        , 0.21153846, 0.57657658, 0.83673469],\n",
              "       [0.11557789, 1.        , 0.25      , 0.09009009, 0.73469388],\n",
              "       [0.93467337, 0.        , 0.69230769, 0.77477477, 0.23469388],\n",
              "       [0.67839196, 0.        , 0.21153846, 0.52252252, 0.8877551 ],\n",
              "       [0.10050251, 1.        , 0.32692308, 0.08108108, 0.34693878],\n",
              "       [0.07537688, 1.        , 0.07692308, 0.04504505, 0.79591837],\n",
              "       [0.3919598 , 0.        , 0.09615385, 0.35135135, 0.52040816],\n",
              "       [0.52261307, 1.        , 0.59615385, 0.42342342, 0.56122449],\n",
              "       [0.26130653, 0.        , 0.25      , 0.25225225, 0.54081633],\n",
              "       [0.50251256, 0.        , 0.09615385, 0.42342342, 0.40816327],\n",
              "       [0.38190955, 0.        , 0.51923077, 0.35135135, 0.53061224],\n",
              "       [0.01507538, 0.        , 0.09615385, 0.00900901, 0.7755102 ],\n",
              "       [0.58291457, 0.        , 0.86538462, 0.45045045, 0.42857143],\n",
              "       [0.8241206 , 1.        , 0.61538462, 0.63063063, 0.25510204],\n",
              "       [0.99497487, 1.        , 0.26923077, 0.41891892, 0.17346939],\n",
              "       [0.03015075, 0.        , 0.32692308, 0.02702703, 0.05102041],\n",
              "       [0.34170854, 1.        , 0.01923077, 0.2972973 , 0.59183673],\n",
              "       [0.42211055, 0.        , 0.05769231, 0.35135135, 0.57142857],\n",
              "       [0.6080402 , 0.        , 0.38461538, 0.46846847, 0.39795918],\n",
              "       [0.77889447, 0.        , 0.17307692, 0.56756757, 0.89795918],\n",
              "       [0.85929648, 1.        , 0.19230769, 0.64864865, 0.75510204],\n",
              "       [0.7839196 , 1.        , 0.36538462, 0.56756757, 0.        ],\n",
              "       [0.45728643, 1.        , 0.        , 0.3963964 , 0.40816327],\n",
              "       [1.        , 1.        , 0.23076923, 0.41891892, 0.83673469],\n",
              "       [0.05527638, 0.        , 0.32692308, 0.03603604, 1.        ],\n",
              "       [0.59798995, 0.        , 0.61538462, 0.46846847, 0.57142857],\n",
              "       [0.51256281, 1.        , 0.94230769, 0.42342342, 0.59183673],\n",
              "       [0.1758794 , 0.        , 0.05769231, 0.16216216, 0.81632653],\n",
              "       [0.28643216, 1.        , 0.98076923, 0.26126126, 0.45918367],\n",
              "       [0.32663317, 1.        , 0.        , 0.2972973 , 0.59183673],\n",
              "       [0.00502513, 1.        , 0.05769231, 0.        , 0.81632653],\n",
              "       [0.60301508, 1.        , 0.17307692, 0.46846847, 0.56122449],\n",
              "       [0.81407035, 1.        , 0.01923077, 0.59459459, 0.04081633],\n",
              "       [0.21105528, 1.        , 0.57692308, 0.21621622, 0.35714286],\n",
              "       [0.52763819, 0.        , 0.05769231, 0.42342342, 0.41836735],\n",
              "       [0.66331658, 0.        , 0.13461538, 0.51351351, 0.33673469],\n",
              "       [0.86934673, 1.        , 0.34615385, 0.64864865, 0.92857143],\n",
              "       [0.08542714, 1.        , 0.03846154, 0.05405405, 0.66326531],\n",
              "       [0.19095477, 0.        , 0.34615385, 0.1981982 , 0.25510204],\n",
              "       [0.66834171, 0.        , 0.25      , 0.51351351, 0.71428571],\n",
              "       [0.26633166, 1.        , 0.78846154, 0.25225225, 0.60204082],\n",
              "       [0.78894472, 0.        , 0.23076923, 0.56756757, 0.78571429],\n",
              "       [0.64321608, 1.        , 0.78846154, 0.5045045 , 0.10204082],\n",
              "       [0.17085427, 0.        , 0.59615385, 0.16216216, 0.13265306],\n",
              "       [0.14070352, 0.        , 0.42307692, 0.12612613, 0.30612245],\n",
              "       [0.57286432, 0.        , 0.        , 0.45045045, 0.47959184],\n",
              "       [0.75879397, 1.        , 0.40384615, 0.56756757, 0.8877551 ],\n",
              "       [0.15577889, 0.        , 0.05769231, 0.13513514, 0.73469388],\n",
              "       [0.83417085, 1.        , 0.46153846, 0.63963964, 0.19387755],\n",
              "       [0.63819095, 1.        , 0.42307692, 0.5045045 , 0.95918367],\n",
              "       [0.88442211, 1.        , 0.76923077, 0.65765766, 0.14285714],\n",
              "       [0.16080402, 1.        , 0.67307692, 0.16216216, 0.03061224],\n",
              "       [0.71356784, 0.        , 0.19230769, 0.54954955, 0.39795918],\n",
              "       [0.84924623, 1.        , 0.26923077, 0.64864865, 0.63265306],\n",
              "       [0.73869347, 0.        , 0.26923077, 0.55855856, 0.74489796],\n",
              "       [0.14572864, 0.        , 0.09615385, 0.12612613, 0.87755102],\n",
              "       [0.49748744, 1.        , 0.03846154, 0.41441441, 0.48979592],\n",
              "       [0.4120603 , 1.        , 0.94230769, 0.35135135, 0.40816327],\n",
              "       [0.39698492, 0.        , 0.59615385, 0.35135135, 0.41836735],\n",
              "       [0.57788945, 0.        , 0.01923077, 0.45045045, 0.5       ],\n",
              "       [0.74371859, 0.        , 0.30769231, 0.56756757, 0.21428571],\n",
              "       [0.96984925, 0.        , 0.38461538, 0.88288288, 0.91836735],\n",
              "       [0.36180905, 0.        , 0.80769231, 0.31531532, 0.48979592],\n",
              "       [0.38693467, 1.        , 0.42307692, 0.35135135, 0.47959184],\n",
              "       [0.12562814, 1.        , 0.21153846, 0.11711712, 0.82653061],\n",
              "       [0.82914573, 0.        , 0.34615385, 0.63063063, 0.75510204],\n",
              "       [0.40703518, 1.        , 0.38461538, 0.35135135, 0.55102041],\n",
              "       [0.94472362, 0.        , 0.44230769, 0.79279279, 0.16326531],\n",
              "       [0.87437186, 0.        , 0.65384615, 0.65765766, 0.12244898],\n",
              "       [0.95477387, 0.        , 0.30769231, 0.79279279, 0.2244898 ],\n",
              "       [0.1959799 , 0.        , 0.03846154, 0.1981982 , 0.75510204],\n",
              "       [0.29145729, 0.        , 0.17307692, 0.27927928, 0.51020408],\n",
              "       [0.70351759, 0.        , 0.75      , 0.54054054, 0.04081633],\n",
              "       [0.44221106, 0.        , 0.30769231, 0.38738739, 0.60204082],\n",
              "       [0.35175879, 1.        , 1.        , 0.30630631, 0.55102041],\n",
              "       [0.43718593, 0.        , 0.07692308, 0.37837838, 0.55102041],\n",
              "       [0.18090452, 0.        , 0.46153846, 0.17117117, 0.16326531],\n",
              "       [0.10552764, 1.        , 0.13461538, 0.08108108, 0.73469388],\n",
              "       [0.04522613, 0.        , 0.23076923, 0.03603604, 0.7244898 ],\n",
              "       [0.51758794, 1.        , 0.15384615, 0.42342342, 0.55102041],\n",
              "       [0.33668342, 0.        , 0.96153846, 0.2972973 , 0.47959184],\n",
              "       [0.96482412, 1.        , 0.28846154, 0.88288288, 0.07142857],\n",
              "       [0.5879397 , 0.        , 0.59615385, 0.45045045, 0.59183673],\n",
              "       [0.2361809 , 0.        , 0.17307692, 0.22522523, 0.46938776],\n",
              "       [0.86432161, 1.        , 0.34615385, 0.64864865, 0.09183673]])"
            ]
          },
          "metadata": {},
          "execution_count": 55
        }
      ],
      "source": [
        "x_train"
      ]
    },
    {
      "cell_type": "code",
      "execution_count": 56,
      "id": "0d8d93f2",
      "metadata": {
        "colab": {
          "base_uri": "https://localhost:8080/"
        },
        "id": "0d8d93f2",
        "outputId": "35ccf3a4-002d-4240-e937-739c15e004fb"
      },
      "outputs": [
        {
          "output_type": "execute_result",
          "data": {
            "text/plain": [
              "(140, 5)"
            ]
          },
          "metadata": {},
          "execution_count": 56
        }
      ],
      "source": [
        "x_train.shape"
      ]
    },
    {
      "cell_type": "code",
      "execution_count": 57,
      "id": "c299faa5",
      "metadata": {
        "colab": {
          "base_uri": "https://localhost:8080/"
        },
        "id": "c299faa5",
        "outputId": "ad1d0525-1742-4fca-8295-55ae300d1d4e"
      },
      "outputs": [
        {
          "output_type": "execute_result",
          "data": {
            "text/plain": [
              "array([[0.09045226, 1.        , 0.65384615, 0.07207207, 0.28571429],\n",
              "       [0.85427136, 1.        , 0.42307692, 0.64864865, 0.12244898],\n",
              "       [0.53768844, 1.        , 0.69230769, 0.43243243, 0.45918367],\n",
              "       [0.49246231, 1.        , 0.57692308, 0.41441441, 0.41836735],\n",
              "       [0.88944724, 1.        , 0.17307692, 0.65765766, 0.69387755],\n",
              "       [0.91457286, 1.        , 0.53846154, 0.74774775, 0.14285714],\n",
              "       [0.02512563, 0.        , 0.07692308, 0.01801802, 0.76530612],\n",
              "       [0.73366834, 1.        , 0.57692308, 0.55855856, 0.35714286],\n",
              "       [0.06030151, 0.        , 0.76923077, 0.04504505, 0.14285714],\n",
              "       [0.7638191 , 0.        , 0.5       , 0.56756757, 0.19387755],\n",
              "       [0.30653266, 1.        , 0.01923077, 0.27927928, 0.55102041],\n",
              "       [0.6281407 , 0.        , 0.25      , 0.4954955 , 0.7755102 ],\n",
              "       [0.90452261, 0.        , 0.36538462, 0.73873874, 0.31632653],\n",
              "       [0.77386935, 0.        , 0.55769231, 0.56756757, 0.15306122],\n",
              "       [0.40201005, 1.        , 0.75      , 0.35135135, 0.51020408],\n",
              "       [0.03517588, 0.        , 0.09615385, 0.02702703, 0.94897959],\n",
              "       [0.16582915, 1.        , 0.        , 0.16216216, 0.92857143],\n",
              "       [0.65326633, 1.        , 0.55769231, 0.5045045 , 0.08163265],\n",
              "       [0.18592965, 0.        , 0.23076923, 0.17117117, 0.73469388],\n",
              "       [0.3718593 , 1.        , 0.78846154, 0.35135135, 0.46938776],\n",
              "       [0.91959799, 0.        , 0.21153846, 0.74774775, 0.8877551 ],\n",
              "       [0.72864322, 1.        , 0.19230769, 0.55855856, 0.97959184],\n",
              "       [0.22613065, 0.        , 0.11538462, 0.21621622, 0.65306122],\n",
              "       [0.79899497, 0.        , 0.23076923, 0.56756757, 0.73469388],\n",
              "       [0.30150754, 1.        , 1.        , 0.27927928, 0.56122449],\n",
              "       [0.61809045, 1.        , 0.40384615, 0.48648649, 0.91836735],\n",
              "       [0.89949749, 1.        , 0.32692308, 0.7027027 , 0.90816327],\n",
              "       [0.92964824, 1.        , 0.23076923, 0.75675676, 0.97959184],\n",
              "       [0.61306533, 0.        , 0.42307692, 0.48648649, 0.58163265],\n",
              "       [0.22110553, 0.        , 0.59615385, 0.21621622, 0.2755102 ],\n",
              "       [0.08040201, 0.        , 0.32692308, 0.05405405, 0.34693878],\n",
              "       [0.27638191, 1.        , 0.55769231, 0.25225225, 0.40816327],\n",
              "       [0.75376884, 1.        , 0.48076923, 0.56756757, 0.16326531],\n",
              "       [0.55778894, 0.        , 0.01923077, 0.43243243, 0.54081633],\n",
              "       [0.11055276, 0.        , 0.53846154, 0.09009009, 0.04081633],\n",
              "       [0.94974874, 0.        , 0.34615385, 0.79279279, 0.85714286],\n",
              "       [0.64824121, 1.        , 0.38461538, 0.5045045 , 0.75510204],\n",
              "       [0.0201005 , 0.        , 0.25      , 0.01801802, 0.39795918],\n",
              "       [0.41708543, 0.        , 0.53846154, 0.35135135, 0.43877551],\n",
              "       [0.53266332, 0.        , 0.92307692, 0.43243243, 0.5       ],\n",
              "       [0.67336683, 1.        , 0.03846154, 0.52252252, 0.04081633],\n",
              "       [0.33165829, 0.        , 0.48076923, 0.2972973 , 0.5       ],\n",
              "       [0.13065327, 0.        , 0.51923077, 0.11711712, 0.31632653],\n",
              "       [0.5678392 , 1.        , 0.01923077, 0.44144144, 0.45918367],\n",
              "       [0.84422111, 0.        , 0.34615385, 0.64864865, 0.26530612],\n",
              "       [0.31658291, 0.        , 0.69230769, 0.28828829, 0.59183673],\n",
              "       [0.04020101, 1.        , 0.88461538, 0.03603604, 0.02040816],\n",
              "       [0.37688442, 1.        , 0.15384615, 0.35135135, 0.54081633],\n",
              "       [0.59296482, 0.        , 0.63461538, 0.46846847, 0.42857143],\n",
              "       [0.71859296, 0.        , 0.26923077, 0.54954955, 0.87755102],\n",
              "       [0.35678392, 0.        , 0.55769231, 0.30630631, 0.41836735],\n",
              "       [0.62311558, 0.        , 0.09615385, 0.4954955 , 0.28571429],\n",
              "       [0.92462312, 0.        , 0.44230769, 0.75675676, 0.3877551 ],\n",
              "       [0.48743719, 0.        , 0.17307692, 0.40540541, 0.5       ],\n",
              "       [0.74874372, 1.        , 0.30769231, 0.56756757, 0.90816327],\n",
              "       [0.12060302, 0.        , 0.69230769, 0.11711712, 0.13265306],\n",
              "       [0.15075377, 1.        , 0.80769231, 0.13513514, 0.03061224],\n",
              "       [0.8040201 , 0.        , 0.73076923, 0.57657658, 0.34693878],\n",
              "       [0.20100503, 0.        , 0.90384615, 0.20720721, 0.34693878],\n",
              "       [0.28140704, 0.        , 0.63461538, 0.26126126, 0.5       ]])"
            ]
          },
          "metadata": {},
          "execution_count": 57
        }
      ],
      "source": [
        "x_test"
      ]
    },
    {
      "cell_type": "code",
      "execution_count": 58,
      "id": "28b651f2",
      "metadata": {
        "colab": {
          "base_uri": "https://localhost:8080/"
        },
        "id": "28b651f2",
        "outputId": "42469731-a3d4-4a40-ffda-873fec1a788a"
      },
      "outputs": [
        {
          "output_type": "execute_result",
          "data": {
            "text/plain": [
              "(60, 5)"
            ]
          },
          "metadata": {},
          "execution_count": 58
        }
      ],
      "source": [
        "x_test.shape"
      ]
    },
    {
      "cell_type": "code",
      "execution_count": 59,
      "id": "06ae6e07",
      "metadata": {
        "colab": {
          "base_uri": "https://localhost:8080/"
        },
        "id": "06ae6e07",
        "outputId": "034b41fa-ab80-4dd3-fbf2-d100bc92f49d"
      },
      "outputs": [
        {
          "output_type": "execute_result",
          "data": {
            "text/plain": [
              "131    1\n",
              "96     0\n",
              "181    2\n",
              "19     3\n",
              "153    2\n",
              "      ..\n",
              "67     0\n",
              "192    7\n",
              "117    0\n",
              "47     3\n",
              "172    7\n",
              "Name: Cluster_value, Length: 140, dtype: int32"
            ]
          },
          "metadata": {},
          "execution_count": 59
        }
      ],
      "source": [
        "y_train"
      ]
    },
    {
      "cell_type": "code",
      "execution_count": 60,
      "id": "d08225fc",
      "metadata": {
        "scrolled": true,
        "colab": {
          "base_uri": "https://localhost:8080/"
        },
        "id": "d08225fc",
        "outputId": "91b3df1c-adc2-4dd0-8b0c-ffedb3961f4f"
      },
      "outputs": [
        {
          "output_type": "execute_result",
          "data": {
            "text/plain": [
              "18     6\n",
              "170    7\n",
              "107    6\n",
              "98     6\n",
              "177    1\n",
              "182    7\n",
              "5      3\n",
              "146    7\n",
              "12     0\n",
              "152    5\n",
              "61     4\n",
              "125    2\n",
              "180    5\n",
              "154    5\n",
              "80     6\n",
              "7      3\n",
              "33     4\n",
              "130    7\n",
              "37     3\n",
              "74     6\n",
              "183    2\n",
              "145    1\n",
              "45     3\n",
              "159    2\n",
              "60     6\n",
              "123    1\n",
              "179    1\n",
              "185    1\n",
              "122    2\n",
              "44     0\n",
              "16     3\n",
              "55     6\n",
              "150    7\n",
              "111    3\n",
              "22     0\n",
              "189    2\n",
              "129    1\n",
              "4      3\n",
              "83     0\n",
              "106    0\n",
              "134    7\n",
              "66     0\n",
              "26     0\n",
              "113    4\n",
              "168    5\n",
              "63     0\n",
              "8      6\n",
              "75     4\n",
              "118    0\n",
              "143    2\n",
              "71     0\n",
              "124    5\n",
              "184    5\n",
              "97     3\n",
              "149    1\n",
              "24     0\n",
              "30     6\n",
              "160    5\n",
              "40     0\n",
              "56     0\n",
              "Name: Cluster_value, dtype: int32"
            ]
          },
          "metadata": {},
          "execution_count": 60
        }
      ],
      "source": [
        "y_test"
      ]
    },
    {
      "cell_type": "markdown",
      "id": "228488fc",
      "metadata": {
        "id": "228488fc"
      },
      "source": [
        "# Building the Model"
      ]
    },
    {
      "cell_type": "markdown",
      "id": "69291605",
      "metadata": {
        "id": "69291605"
      },
      "source": [
        "# Multi linear regression model"
      ]
    },
    {
      "cell_type": "code",
      "execution_count": 61,
      "id": "52e7dd83",
      "metadata": {
        "colab": {
          "base_uri": "https://localhost:8080/"
        },
        "id": "52e7dd83",
        "outputId": "47734e10-8344-44f1-bc5d-76d57bb74833"
      },
      "outputs": [
        {
          "output_type": "execute_result",
          "data": {
            "text/plain": [
              "LinearRegression()"
            ]
          },
          "metadata": {},
          "execution_count": 61
        }
      ],
      "source": [
        "from sklearn.linear_model import LinearRegression\n",
        "mlr = LinearRegression()\n",
        "mlr.fit(x_train,y_train)"
      ]
    },
    {
      "cell_type": "code",
      "execution_count": 62,
      "id": "888b5050",
      "metadata": {
        "id": "888b5050"
      },
      "outputs": [],
      "source": [
        "pred = mlr.predict(x_test)"
      ]
    },
    {
      "cell_type": "code",
      "execution_count": 63,
      "id": "0c8729ac",
      "metadata": {
        "colab": {
          "base_uri": "https://localhost:8080/"
        },
        "id": "0c8729ac",
        "outputId": "b6b1713f-ecd1-4338-9cc4-306cc77a7a7c"
      },
      "outputs": [
        {
          "output_type": "execute_result",
          "data": {
            "text/plain": [
              "array([4.90502474, 6.19470774, 4.5520364 , 4.77049079, 4.27651749,\n",
              "       6.11356878, 1.25504263, 5.13120199, 3.06758819, 3.54593085,\n",
              "       4.57335716, 1.51055114, 3.33567602, 3.65520069, 4.24483551,\n",
              "       0.56876102, 3.08762277, 6.11603344, 1.38554343, 4.36386361,\n",
              "       1.34365731, 3.11312864, 1.81146084, 1.74867327, 3.80518829,\n",
              "       3.1163881 , 3.40346597, 3.25412306, 2.09092481, 2.8504646 ,\n",
              "       2.65036434, 4.6779454 , 5.92925584, 2.49619744, 3.65603808,\n",
              "       1.39357154, 3.75171591, 2.48524813, 2.4114632 , 1.97182335,\n",
              "       6.66910587, 2.17807519, 2.67297366, 5.06299225, 3.46523521,\n",
              "       1.67238554, 5.68281882, 4.57231759, 2.48437011, 1.16887633,\n",
              "       2.43248003, 3.43722425, 3.02970004, 2.5047849 , 3.30057771,\n",
              "       3.22282575, 5.78824064, 2.81894561, 2.34818517, 2.03120037])"
            ]
          },
          "metadata": {},
          "execution_count": 63
        }
      ],
      "source": [
        "pred"
      ]
    },
    {
      "cell_type": "code",
      "execution_count": 64,
      "id": "00f85a0e",
      "metadata": {
        "colab": {
          "base_uri": "https://localhost:8080/"
        },
        "id": "00f85a0e",
        "outputId": "d9fb2556-1d7c-4047-ff01-f96cc7dc4921"
      },
      "outputs": [
        {
          "output_type": "execute_result",
          "data": {
            "text/plain": [
              "18     6\n",
              "170    7\n",
              "107    6\n",
              "98     6\n",
              "177    1\n",
              "182    7\n",
              "5      3\n",
              "146    7\n",
              "12     0\n",
              "152    5\n",
              "61     4\n",
              "125    2\n",
              "180    5\n",
              "154    5\n",
              "80     6\n",
              "7      3\n",
              "33     4\n",
              "130    7\n",
              "37     3\n",
              "74     6\n",
              "183    2\n",
              "145    1\n",
              "45     3\n",
              "159    2\n",
              "60     6\n",
              "123    1\n",
              "179    1\n",
              "185    1\n",
              "122    2\n",
              "44     0\n",
              "16     3\n",
              "55     6\n",
              "150    7\n",
              "111    3\n",
              "22     0\n",
              "189    2\n",
              "129    1\n",
              "4      3\n",
              "83     0\n",
              "106    0\n",
              "134    7\n",
              "66     0\n",
              "26     0\n",
              "113    4\n",
              "168    5\n",
              "63     0\n",
              "8      6\n",
              "75     4\n",
              "118    0\n",
              "143    2\n",
              "71     0\n",
              "124    5\n",
              "184    5\n",
              "97     3\n",
              "149    1\n",
              "24     0\n",
              "30     6\n",
              "160    5\n",
              "40     0\n",
              "56     0\n",
              "Name: Cluster_value, dtype: int32"
            ]
          },
          "metadata": {},
          "execution_count": 64
        }
      ],
      "source": [
        "y_test"
      ]
    },
    {
      "cell_type": "markdown",
      "id": "c0c52377",
      "metadata": {
        "id": "c0c52377"
      },
      "source": [
        "# Performance metrics"
      ]
    },
    {
      "cell_type": "code",
      "execution_count": 69,
      "id": "3ee9071d",
      "metadata": {
        "id": "3ee9071d"
      },
      "outputs": [],
      "source": [
        "from sklearn.metrics import r2_score\n",
        "from sklearn.metrics import mean_squared_error"
      ]
    },
    {
      "cell_type": "code",
      "execution_count": 70,
      "id": "cfe71126",
      "metadata": {
        "colab": {
          "base_uri": "https://localhost:8080/"
        },
        "id": "cfe71126",
        "outputId": "d07c7d42-4492-4386-e61f-0529f49eb8bf"
      },
      "outputs": [
        {
          "output_type": "execute_result",
          "data": {
            "text/plain": [
              "3.224292748691767"
            ]
          },
          "metadata": {},
          "execution_count": 70
        }
      ],
      "source": [
        "mse= mean_squared_error(y_test,pred)\n",
        "mse\n"
      ]
    },
    {
      "cell_type": "code",
      "execution_count": 71,
      "id": "e53180af",
      "metadata": {
        "colab": {
          "base_uri": "https://localhost:8080/"
        },
        "id": "e53180af",
        "outputId": "b6214872-3624-4f53-e74e-0a6568232bb8"
      },
      "outputs": [
        {
          "output_type": "execute_result",
          "data": {
            "text/plain": [
              "1.7956315737622144"
            ]
          },
          "metadata": {},
          "execution_count": 71
        }
      ],
      "source": [
        "rmse = np.sqrt(mse)\n",
        "rmse"
      ]
    },
    {
      "cell_type": "code",
      "execution_count": 72,
      "id": "2ed59c44",
      "metadata": {
        "colab": {
          "base_uri": "https://localhost:8080/"
        },
        "id": "2ed59c44",
        "outputId": "774515bb-cf64-4f8e-95e9-b775a77a2a16"
      },
      "outputs": [
        {
          "output_type": "execute_result",
          "data": {
            "text/plain": [
              "0.46011842347486687"
            ]
          },
          "metadata": {},
          "execution_count": 72
        }
      ],
      "source": [
        "r2_score(y_test,pred)\n"
      ]
    }
  ],
  "metadata": {
    "kernelspec": {
      "display_name": "Python 3 (ipykernel)",
      "language": "python",
      "name": "python3"
    },
    "language_info": {
      "codemirror_mode": {
        "name": "ipython",
        "version": 3
      },
      "file_extension": ".py",
      "mimetype": "text/x-python",
      "name": "python",
      "nbconvert_exporter": "python",
      "pygments_lexer": "ipython3",
      "version": "3.9.12"
    },
    "colab": {
      "provenance": []
    }
  },
  "nbformat": 4,
  "nbformat_minor": 5
}